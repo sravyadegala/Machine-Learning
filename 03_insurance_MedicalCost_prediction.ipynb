{
 "cells": [
  {
   "cell_type": "code",
   "execution_count": 71,
   "id": "7a5c93a9",
   "metadata": {},
   "outputs": [],
   "source": [
    "# Importing python libraries\n",
    "import pandas as pd\n",
    "import numpy as np\n",
    "import matplotlib.pyplot as plt"
   ]
  },
  {
   "cell_type": "code",
   "execution_count": 2,
   "id": "ed14e90f",
   "metadata": {},
   "outputs": [
    {
     "data": {
      "text/html": [
       "<div>\n",
       "<style scoped>\n",
       "    .dataframe tbody tr th:only-of-type {\n",
       "        vertical-align: middle;\n",
       "    }\n",
       "\n",
       "    .dataframe tbody tr th {\n",
       "        vertical-align: top;\n",
       "    }\n",
       "\n",
       "    .dataframe thead th {\n",
       "        text-align: right;\n",
       "    }\n",
       "</style>\n",
       "<table border=\"1\" class=\"dataframe\">\n",
       "  <thead>\n",
       "    <tr style=\"text-align: right;\">\n",
       "      <th></th>\n",
       "      <th>age</th>\n",
       "      <th>sex</th>\n",
       "      <th>bmi</th>\n",
       "      <th>children</th>\n",
       "      <th>smoker</th>\n",
       "      <th>region</th>\n",
       "      <th>charges</th>\n",
       "    </tr>\n",
       "  </thead>\n",
       "  <tbody>\n",
       "    <tr>\n",
       "      <th>0</th>\n",
       "      <td>19</td>\n",
       "      <td>female</td>\n",
       "      <td>27.900</td>\n",
       "      <td>0</td>\n",
       "      <td>yes</td>\n",
       "      <td>southwest</td>\n",
       "      <td>16884.92400</td>\n",
       "    </tr>\n",
       "    <tr>\n",
       "      <th>1</th>\n",
       "      <td>18</td>\n",
       "      <td>male</td>\n",
       "      <td>33.770</td>\n",
       "      <td>1</td>\n",
       "      <td>no</td>\n",
       "      <td>southeast</td>\n",
       "      <td>1725.55230</td>\n",
       "    </tr>\n",
       "    <tr>\n",
       "      <th>2</th>\n",
       "      <td>28</td>\n",
       "      <td>male</td>\n",
       "      <td>33.000</td>\n",
       "      <td>3</td>\n",
       "      <td>no</td>\n",
       "      <td>southeast</td>\n",
       "      <td>4449.46200</td>\n",
       "    </tr>\n",
       "    <tr>\n",
       "      <th>3</th>\n",
       "      <td>33</td>\n",
       "      <td>male</td>\n",
       "      <td>22.705</td>\n",
       "      <td>0</td>\n",
       "      <td>no</td>\n",
       "      <td>northwest</td>\n",
       "      <td>21984.47061</td>\n",
       "    </tr>\n",
       "    <tr>\n",
       "      <th>4</th>\n",
       "      <td>32</td>\n",
       "      <td>male</td>\n",
       "      <td>28.880</td>\n",
       "      <td>0</td>\n",
       "      <td>no</td>\n",
       "      <td>northwest</td>\n",
       "      <td>3866.85520</td>\n",
       "    </tr>\n",
       "  </tbody>\n",
       "</table>\n",
       "</div>"
      ],
      "text/plain": [
       "   age     sex     bmi  children smoker     region      charges\n",
       "0   19  female  27.900         0    yes  southwest  16884.92400\n",
       "1   18    male  33.770         1     no  southeast   1725.55230\n",
       "2   28    male  33.000         3     no  southeast   4449.46200\n",
       "3   33    male  22.705         0     no  northwest  21984.47061\n",
       "4   32    male  28.880         0     no  northwest   3866.85520"
      ]
     },
     "execution_count": 2,
     "metadata": {},
     "output_type": "execute_result"
    }
   ],
   "source": [
    "PATH = \"C://Users//NAVYA//Desktop//MY_PYTHON_PRACTICE//all_data_sets//insurance.csv\"\n",
    "df = pd.read_csv(PATH)\n",
    "df.head()"
   ]
  },
  {
   "cell_type": "code",
   "execution_count": 3,
   "id": "bf9926b6",
   "metadata": {},
   "outputs": [
    {
     "data": {
      "text/plain": [
       "Index(['age', 'sex', 'bmi', 'children', 'smoker', 'region', 'charges'], dtype='object')"
      ]
     },
     "execution_count": 3,
     "metadata": {},
     "output_type": "execute_result"
    }
   ],
   "source": [
    "df.columns"
   ]
  },
  {
   "cell_type": "code",
   "execution_count": 4,
   "id": "33dfb488",
   "metadata": {},
   "outputs": [
    {
     "name": "stdout",
     "output_type": "stream",
     "text": [
      "<class 'pandas.core.frame.DataFrame'>\n"
     ]
    }
   ],
   "source": [
    "print(type(df))"
   ]
  },
  {
   "cell_type": "code",
   "execution_count": 5,
   "id": "3035bf79",
   "metadata": {},
   "outputs": [
    {
     "data": {
      "text/plain": [
       "(1338, 7)"
      ]
     },
     "execution_count": 5,
     "metadata": {},
     "output_type": "execute_result"
    }
   ],
   "source": [
    "# Getting Number of (rows,Columns)\n",
    "df.shape"
   ]
  },
  {
   "cell_type": "code",
   "execution_count": 6,
   "id": "c9d629c4",
   "metadata": {},
   "outputs": [
    {
     "data": {
      "text/plain": [
       "Index(['age', 'sex', 'bmi', 'children', 'smoker', 'region', 'charges'], dtype='object')"
      ]
     },
     "execution_count": 6,
     "metadata": {},
     "output_type": "execute_result"
    }
   ],
   "source": [
    "df.columns"
   ]
  },
  {
   "cell_type": "code",
   "execution_count": 7,
   "id": "c259bfd3",
   "metadata": {},
   "outputs": [
    {
     "name": "stdout",
     "output_type": "stream",
     "text": [
      "<class 'pandas.core.frame.DataFrame'>\n",
      "RangeIndex: 1338 entries, 0 to 1337\n",
      "Data columns (total 7 columns):\n",
      " #   Column    Non-Null Count  Dtype  \n",
      "---  ------    --------------  -----  \n",
      " 0   age       1338 non-null   int64  \n",
      " 1   sex       1338 non-null   object \n",
      " 2   bmi       1338 non-null   float64\n",
      " 3   children  1338 non-null   int64  \n",
      " 4   smoker    1338 non-null   object \n",
      " 5   region    1338 non-null   object \n",
      " 6   charges   1338 non-null   float64\n",
      "dtypes: float64(2), int64(2), object(3)\n",
      "memory usage: 73.3+ KB\n"
     ]
    }
   ],
   "source": [
    "# Getting columns with their dtype\n",
    "df.info()"
   ]
  },
  {
   "cell_type": "code",
   "execution_count": 8,
   "id": "7c5603b4",
   "metadata": {},
   "outputs": [
    {
     "data": {
      "text/plain": [
       "age         0\n",
       "sex         0\n",
       "bmi         0\n",
       "children    0\n",
       "smoker      0\n",
       "region      0\n",
       "charges     0\n",
       "dtype: int64"
      ]
     },
     "execution_count": 8,
     "metadata": {},
     "output_type": "execute_result"
    }
   ],
   "source": [
    "# Finding Nan values in each column\n",
    "df.isnull().sum()"
   ]
  },
  {
   "cell_type": "markdown",
   "id": "10362b59",
   "metadata": {},
   "source": [
    "-- No missing values in the dataset.  \n",
    "-- All datatypes are in the correct form."
   ]
  },
  {
   "cell_type": "markdown",
   "id": "585c6edf",
   "metadata": {},
   "source": [
    "# **Exploratory Data Analysis**"
   ]
  },
  {
   "cell_type": "markdown",
   "id": "47ed9887",
   "metadata": {},
   "source": [
    "# Univariate Analysis\n",
    "\n",
    "**Non-Viz**  \n",
    "Min  \n",
    "Max  \n",
    "Central tendency  \n",
    "Dispersion  \n",
    "\n",
    "**Viz**  \n",
    "plot of Distribution - Distribution  \n",
    "plot of BoxPlot - Outliers  "
   ]
  },
  {
   "cell_type": "markdown",
   "id": "acef9981",
   "metadata": {},
   "source": [
    "## Analysing age Feature - Numerical"
   ]
  },
  {
   "cell_type": "code",
   "execution_count": 9,
   "id": "24309c6c",
   "metadata": {},
   "outputs": [
    {
     "name": "stdout",
     "output_type": "stream",
     "text": [
      "age_min: 18\n",
      "age_max: 64\n",
      "age_mean: 39.20702541106129\n",
      "age_median: 39.0\n",
      "age_std: 14.049960379216172\n"
     ]
    }
   ],
   "source": [
    "# Non-Visualization Statistical Analysis\n",
    "print('age_min:',df['age'].min())\n",
    "print('age_max:',df['age'].max())\n",
    "print('age_mean:',df['age'].mean())\n",
    "print('age_median:',df['age'].median())\n",
    "print('age_std:',df['age'].std())"
   ]
  },
  {
   "cell_type": "code",
   "execution_count": 10,
   "id": "391b8381",
   "metadata": {},
   "outputs": [
    {
     "data": {
      "text/plain": [
       "<AxesSubplot:>"
      ]
     },
     "execution_count": 10,
     "metadata": {},
     "output_type": "execute_result"
    },
    {
     "data": {
      "image/png": "[encoded data removed]",
      "text/plain": [
       "<Figure size 432x288 with 1 Axes>"
      ]
     },
     "metadata": {
      "needs_background": "light"
     },
     "output_type": "display_data"
    }
   ],
   "source": [
    "# Detecting the outliers using boxplot\n",
    "df['age'].plot(kind = 'box')"
   ]
  },
  {
   "cell_type": "markdown",
   "id": "9ae81690",
   "metadata": {},
   "source": [
    "-- There are no outliers in age column.It says that ages are in between the range."
   ]
  },
  {
   "cell_type": "code",
   "execution_count": 11,
   "id": "764532a9",
   "metadata": {},
   "outputs": [
    {
     "data": {
      "text/plain": [
       "<AxesSubplot:ylabel='Density'>"
      ]
     },
     "execution_count": 11,
     "metadata": {},
     "output_type": "execute_result"
    },
    {
     "data": {
      "image/png": "[encoded data removed]",
      "text/plain": [
       "<Figure size 432x288 with 1 Axes>"
      ]
     },
     "metadata": {
      "needs_background": "light"
     },
     "output_type": "display_data"
    }
   ],
   "source": [
    "# Distribution Of age Feature using kde plot\n",
    "df['age'].plot(kind = 'kde')"
   ]
  },
  {
   "cell_type": "markdown",
   "id": "38bff8e8",
   "metadata": {},
   "source": [
    "-- As mean and median are similar, It looks like normal distribution.So,we should find out whether it is exactly follows normal distribution or not."
   ]
  },
  {
   "cell_type": "code",
   "execution_count": 12,
   "id": "8f313fb5",
   "metadata": {},
   "outputs": [
    {
     "data": {
      "image/png": "[encoded data removed]",
      "text/plain": [
       "<Figure size 432x288 with 1 Axes>"
      ]
     },
     "metadata": {
      "needs_background": "light"
     },
     "output_type": "display_data"
    }
   ],
   "source": [
    "# checking for normal distribution using QQ-plot\n",
    "from scipy import stats\n",
    "stats.probplot(df['age'],dist='norm',plot=plt)\n",
    "\n",
    "plt.grid()"
   ]
  },
  {
   "cell_type": "markdown",
   "id": "c6b8fda1",
   "metadata": {},
   "source": [
    "-- By the above QQ-plot,the age feature is not normally distributed."
   ]
  },
  {
   "cell_type": "markdown",
   "id": "d861b37d",
   "metadata": {},
   "source": [
    "## Analysing bmi Feature - Numerical"
   ]
  },
  {
   "cell_type": "code",
   "execution_count": 13,
   "id": "1c52609e",
   "metadata": {},
   "outputs": [
    {
     "name": "stdout",
     "output_type": "stream",
     "text": [
      "bmi_min: 15.96\n",
      "bmi_max: 53.13\n",
      "bmi_mean: 30.663396860986538\n",
      "bmi_median: 30.4\n",
      "bmi_std: 6.098186911679017\n"
     ]
    }
   ],
   "source": [
    "# Non-Visualization Statistical Analysis\n",
    "print('bmi_min:',df['bmi'].min())\n",
    "print('bmi_max:',df['bmi'].max())\n",
    "print('bmi_mean:',df['bmi'].mean())\n",
    "print('bmi_median:',df['bmi'].median())\n",
    "print('bmi_std:',df['bmi'].std())"
   ]
  },
  {
   "cell_type": "code",
   "execution_count": 14,
   "id": "a185db7c",
   "metadata": {},
   "outputs": [
    {
     "data": {
      "text/plain": [
       "<AxesSubplot:>"
      ]
     },
     "execution_count": 14,
     "metadata": {},
     "output_type": "execute_result"
    },
    {
     "data": {
      "image/png": "[encoded data removed]",
      "text/plain": [
       "<Figure size 432x288 with 1 Axes>"
      ]
     },
     "metadata": {
      "needs_background": "light"
     },
     "output_type": "display_data"
    }
   ],
   "source": [
    "# Detecting the outliers using boxplot\n",
    "df['bmi'].plot(kind = 'box')"
   ]
  },
  {
   "cell_type": "markdown",
   "id": "05d41072",
   "metadata": {},
   "source": [
    "-- There are some outliers in bmi feature."
   ]
  },
  {
   "cell_type": "code",
   "execution_count": 15,
   "id": "beacf5c2",
   "metadata": {},
   "outputs": [
    {
     "data": {
      "text/plain": [
       "<AxesSubplot:ylabel='Density'>"
      ]
     },
     "execution_count": 15,
     "metadata": {},
     "output_type": "execute_result"
    },
    {
     "data": {
      "image/png": "[encoded data removed]",
      "text/plain": [
       "<Figure size 432x288 with 1 Axes>"
      ]
     },
     "metadata": {
      "needs_background": "light"
     },
     "output_type": "display_data"
    }
   ],
   "source": [
    "# Distribution Of bmi Feature using kde plot\n",
    "df['bmi'].plot(kind = 'kde')"
   ]
  },
  {
   "cell_type": "code",
   "execution_count": 16,
   "id": "089671a8",
   "metadata": {},
   "outputs": [
    {
     "data": {
      "image/png": "[encoded data removed]",
      "text/plain": [
       "<Figure size 432x288 with 1 Axes>"
      ]
     },
     "metadata": {
      "needs_background": "light"
     },
     "output_type": "display_data"
    }
   ],
   "source": [
    "# Checking for normality using QQ plot\n",
    "stats.probplot(df['bmi'],dist='norm',plot=plt)\n",
    "\n",
    "plt.grid()"
   ]
  },
  {
   "cell_type": "code",
   "execution_count": 17,
   "id": "1f87548b",
   "metadata": {},
   "outputs": [
    {
     "name": "stdout",
     "output_type": "stream",
     "text": [
      "Before Treating Outliers: (1338, 7)\n"
     ]
    }
   ],
   "source": [
    "# No of (rows,columns) before treating outliers \n",
    "print('Before Treating Outliers:',df.shape)"
   ]
  },
  {
   "cell_type": "markdown",
   "id": "8fb12af1",
   "metadata": {},
   "source": [
    "`Outlier Treament`----------------\n"
   ]
  },
  {
   "cell_type": "code",
   "execution_count": 18,
   "id": "2015e850",
   "metadata": {},
   "outputs": [],
   "source": [
    "# Outlier Treatment for df['bmi']--> Using 1.5 IQR rule\n",
    "\n",
    "bmi_q1 = df['bmi'].quantile(0.25)\n",
    "bmi_q3 = df['bmi'].quantile(0.75)\n",
    "\n",
    "bmi_IQR = bmi_q3 - bmi_q1\n",
    "\n",
    "bmi_lower_bound = bmi_q1 - 1.5 * bmi_IQR\n",
    "bmi_upper_bound = bmi_q3 + 1.5 * bmi_IQR\n",
    "\n",
    "clean_df = df[(df['bmi'] > bmi_lower_bound) & (df['bmi'] < bmi_upper_bound)]"
   ]
  },
  {
   "cell_type": "code",
   "execution_count": 19,
   "id": "cafcf301",
   "metadata": {},
   "outputs": [
    {
     "name": "stdout",
     "output_type": "stream",
     "text": [
      "After Treating Outliers: (1329, 7)\n"
     ]
    }
   ],
   "source": [
    "# No of (rows,columns) After treating outliers \n",
    "print('After Treating Outliers:',clean_df.shape)"
   ]
  },
  {
   "cell_type": "code",
   "execution_count": 20,
   "id": "5d928326",
   "metadata": {},
   "outputs": [
    {
     "name": "stdout",
     "output_type": "stream",
     "text": [
      "clean_bmi_min: 15.96\n",
      "clean_bmi_max: 46.75\n",
      "clean_bmi_mean: 30.53734762979683\n",
      "clean_bmi_median: 30.3\n",
      "clean_bmi_std: 5.919946435122974\n"
     ]
    }
   ],
   "source": [
    "# Non-Visualization Statistical Analysis for clean_df\n",
    "print('clean_bmi_min:',clean_df['bmi'].min())\n",
    "print('clean_bmi_max:',clean_df['bmi'].max())\n",
    "print('clean_bmi_mean:',clean_df['bmi'].mean())\n",
    "print('clean_bmi_median:',clean_df['bmi'].median())\n",
    "print('clean_bmi_std:',clean_df['bmi'].std())"
   ]
  },
  {
   "cell_type": "code",
   "execution_count": 21,
   "id": "2f3cd7ad",
   "metadata": {},
   "outputs": [
    {
     "data": {
      "text/plain": [
       "<AxesSubplot:>"
      ]
     },
     "execution_count": 21,
     "metadata": {},
     "output_type": "execute_result"
    },
    {
     "data": {
      "image/png": "[encoded data removed]",
      "text/plain": [
       "<Figure size 432x288 with 1 Axes>"
      ]
     },
     "metadata": {
      "needs_background": "light"
     },
     "output_type": "display_data"
    }
   ],
   "source": [
    "# Detecting the outliers using boxplot after outliers treatment\n",
    "clean_df['bmi'].plot(kind = 'box')"
   ]
  },
  {
   "cell_type": "markdown",
   "id": "bf1beff2",
   "metadata": {},
   "source": [
    "-- After removing outliers the data is not much affected"
   ]
  },
  {
   "cell_type": "code",
   "execution_count": 22,
   "id": "202bca64",
   "metadata": {},
   "outputs": [
    {
     "data": {
      "text/plain": [
       "<AxesSubplot:ylabel='Density'>"
      ]
     },
     "execution_count": 22,
     "metadata": {},
     "output_type": "execute_result"
    },
    {
     "data": {
      "image/png": "[encoded data removed]",
      "text/plain": [
       "<Figure size 432x288 with 1 Axes>"
      ]
     },
     "metadata": {
      "needs_background": "light"
     },
     "output_type": "display_data"
    }
   ],
   "source": [
    "# Distribution Of bmi Feature using kde plot after outlier treatment\n",
    "clean_df['bmi'].plot(kind = 'kde')"
   ]
  },
  {
   "cell_type": "markdown",
   "id": "fd942b19",
   "metadata": {},
   "source": [
    "-- It seems like normally distributed .So,should check whether it is exactly follows normal distribution or not."
   ]
  },
  {
   "cell_type": "code",
   "execution_count": 23,
   "id": "820b6b03",
   "metadata": {},
   "outputs": [
    {
     "data": {
      "image/png": "[encoded data removed]",
      "text/plain": [
       "<Figure size 432x288 with 1 Axes>"
      ]
     },
     "metadata": {
      "needs_background": "light"
     },
     "output_type": "display_data"
    }
   ],
   "source": [
    "# Checking normal distribution for clean_df using QQ plot\n",
    "stats.probplot(clean_df['bmi'],dist='norm',plot=plt)\n",
    "\n",
    "plt.grid()"
   ]
  },
  {
   "cell_type": "markdown",
   "id": "e2336361",
   "metadata": {},
   "source": [
    "-- Even though Mean and Median are almost similar, By above QQ-plot the bmi feature is not normally distributed."
   ]
  },
  {
   "cell_type": "markdown",
   "id": "7a96d28d",
   "metadata": {},
   "source": [
    "## Analysing children feature - Numerical"
   ]
  },
  {
   "cell_type": "code",
   "execution_count": 24,
   "id": "0c81c767",
   "metadata": {},
   "outputs": [
    {
     "name": "stdout",
     "output_type": "stream",
     "text": [
      "children_min: 0\n",
      "children_max: 5\n",
      "children_mean: 1.0949177877429\n",
      "children_median: 1.0\n",
      "children_std: 1.2054927397819095\n"
     ]
    }
   ],
   "source": [
    "# Non-visualization statistical analysis\n",
    "print('children_min:',df['children'].min())\n",
    "print('children_max:',df['children'].max())\n",
    "print('children_mean:',df['children'].mean())\n",
    "print('children_median:',df['children'].median())\n",
    "print('children_std:',df['children'].std())"
   ]
  },
  {
   "cell_type": "code",
   "execution_count": 25,
   "id": "221d8e48",
   "metadata": {},
   "outputs": [
    {
     "data": {
      "text/plain": [
       "0    574\n",
       "1    324\n",
       "2    240\n",
       "3    157\n",
       "4     25\n",
       "5     18\n",
       "Name: children, dtype: int64"
      ]
     },
     "execution_count": 25,
     "metadata": {},
     "output_type": "execute_result"
    }
   ],
   "source": [
    "df['children'].value_counts()"
   ]
  },
  {
   "cell_type": "code",
   "execution_count": 26,
   "id": "d7404f04",
   "metadata": {},
   "outputs": [
    {
     "data": {
      "text/plain": [
       "<AxesSubplot:>"
      ]
     },
     "execution_count": 26,
     "metadata": {},
     "output_type": "execute_result"
    },
    {
     "data": {
      "image/png": "[encoded data removed]",
      "text/plain": [
       "<Figure size 432x288 with 1 Axes>"
      ]
     },
     "metadata": {
      "needs_background": "light"
     },
     "output_type": "display_data"
    }
   ],
   "source": [
    "# Detecting outliers using boxplot\n",
    "df['children'].plot(kind = 'box')"
   ]
  },
  {
   "cell_type": "markdown",
   "id": "14749eb9",
   "metadata": {},
   "source": [
    "-- There is no outliers in children feature"
   ]
  },
  {
   "cell_type": "code",
   "execution_count": 27,
   "id": "ae91eccb",
   "metadata": {},
   "outputs": [
    {
     "data": {
      "text/plain": [
       "<AxesSubplot:ylabel='Density'>"
      ]
     },
     "execution_count": 27,
     "metadata": {},
     "output_type": "execute_result"
    },
    {
     "data": {
      "image/png": "[encoded data removed]",
      "text/plain": [
       "<Figure size 432x288 with 1 Axes>"
      ]
     },
     "metadata": {
      "needs_background": "light"
     },
     "output_type": "display_data"
    }
   ],
   "source": [
    "# Distribution Of children Feature using kde plot\n",
    "df['children'].plot(kind = 'kde')"
   ]
  },
  {
   "cell_type": "markdown",
   "id": "6ee486fa",
   "metadata": {},
   "source": [
    "-- It is not sure about Normal Distribution.But,seem like normal distribution ith most disperencies"
   ]
  },
  {
   "cell_type": "code",
   "execution_count": 28,
   "id": "14dfb6a7",
   "metadata": {},
   "outputs": [
    {
     "data": {
      "image/png": "[encoded data removed]",
      "text/plain": [
       "<Figure size 432x288 with 1 Axes>"
      ]
     },
     "metadata": {
      "needs_background": "light"
     },
     "output_type": "display_data"
    }
   ],
   "source": [
    "# Checking normal distribution for df using QQ plot\n",
    "stats.probplot(df['children'],dist='norm',plot=plt)\n",
    "\n",
    "plt.grid()"
   ]
  },
  {
   "cell_type": "markdown",
   "id": "6ea0fe44",
   "metadata": {},
   "source": [
    "-- Even though Mean and Median is close to each other, By above QQ-plot the children feature is not normally distributed."
   ]
  },
  {
   "cell_type": "markdown",
   "id": "73dc5e0b",
   "metadata": {},
   "source": [
    "## Analysing charges feature - Numerical"
   ]
  },
  {
   "cell_type": "code",
   "execution_count": 29,
   "id": "8c0795e2",
   "metadata": {},
   "outputs": [
    {
     "name": "stdout",
     "output_type": "stream",
     "text": [
      "charges_min: 1121.8739\n",
      "charges_max: 63770.42801\n",
      "charges_mean: 13270.422265141257\n",
      "charges_median: 9382.033\n",
      "charges_std: 12110.011236693994\n"
     ]
    }
   ],
   "source": [
    "# Non-visualization statistical analysis\n",
    "print('charges_min:',df['charges'].min())\n",
    "print('charges_max:',df['charges'].max())\n",
    "print('charges_mean:',df['charges'].mean())\n",
    "print('charges_median:',df['charges'].median())\n",
    "print('charges_std:',df['charges'].std())"
   ]
  },
  {
   "cell_type": "code",
   "execution_count": 30,
   "id": "4f15f9d2",
   "metadata": {},
   "outputs": [
    {
     "data": {
      "text/plain": [
       "<AxesSubplot:>"
      ]
     },
     "execution_count": 30,
     "metadata": {},
     "output_type": "execute_result"
    },
    {
     "data": {
      "image/png": "[encoded data removed]",
      "text/plain": [
       "<Figure size 432x288 with 1 Axes>"
      ]
     },
     "metadata": {
      "needs_background": "light"
     },
     "output_type": "display_data"
    }
   ],
   "source": [
    "# Checking for outliers using boxplot\n",
    "df['charges'].plot(kind = 'box')"
   ]
  },
  {
   "cell_type": "markdown",
   "id": "1a88ed9b",
   "metadata": {},
   "source": [
    "-- There are more Outliers.But,Any Outlier treatment won't make sense as df['charges'] is the target variable."
   ]
  },
  {
   "cell_type": "code",
   "execution_count": 31,
   "id": "5e76b97c",
   "metadata": {},
   "outputs": [
    {
     "data": {
      "text/plain": [
       "<AxesSubplot:ylabel='Density'>"
      ]
     },
     "execution_count": 31,
     "metadata": {},
     "output_type": "execute_result"
    },
    {
     "data": {
      "image/png": "[encoded data removed]",
      "text/plain": [
       "<Figure size 432x288 with 1 Axes>"
      ]
     },
     "metadata": {
      "needs_background": "light"
     },
     "output_type": "display_data"
    }
   ],
   "source": [
    "# Distribution Of charges Feature using kde plot\n",
    "df['charges'].plot(kind = 'kde')"
   ]
  },
  {
   "cell_type": "markdown",
   "id": "a61498ba",
   "metadata": {},
   "source": [
    "-- As there are more Outliers, The distribution of charges feature is seen like Pareto distribution."
   ]
  },
  {
   "cell_type": "code",
   "execution_count": 32,
   "id": "b2ccc213",
   "metadata": {},
   "outputs": [
    {
     "data": {
      "image/png": "[encoded data removed]",
      "text/plain": [
       "<Figure size 432x288 with 1 Axes>"
      ]
     },
     "metadata": {
      "needs_background": "light"
     },
     "output_type": "display_data"
    }
   ],
   "source": [
    "# Checking for normality using QQ plot\n",
    "stats.probplot(df['charges'],dist='norm',plot=plt)\n",
    "\n",
    "plt.grid()"
   ]
  },
  {
   "cell_type": "markdown",
   "id": "1802860b",
   "metadata": {},
   "source": [
    "-- As charges is the target variable outliers cannot be treated and  \n",
    "-- By above QQ-plot, target variable doesn't follow normal distribution."
   ]
  },
  {
   "cell_type": "markdown",
   "id": "5763e018",
   "metadata": {},
   "source": [
    "## Analysing sex Feature - Categorical"
   ]
  },
  {
   "cell_type": "code",
   "execution_count": 33,
   "id": "fdf2ec96",
   "metadata": {},
   "outputs": [
    {
     "name": "stdout",
     "output_type": "stream",
     "text": [
      "<class 'pandas.core.frame.DataFrame'>\n",
      "Int64Index: 1329 entries, 0 to 1337\n",
      "Data columns (total 7 columns):\n",
      " #   Column    Non-Null Count  Dtype  \n",
      "---  ------    --------------  -----  \n",
      " 0   age       1329 non-null   int64  \n",
      " 1   sex       1329 non-null   object \n",
      " 2   bmi       1329 non-null   float64\n",
      " 3   children  1329 non-null   int64  \n",
      " 4   smoker    1329 non-null   object \n",
      " 5   region    1329 non-null   object \n",
      " 6   charges   1329 non-null   float64\n",
      "dtypes: float64(2), int64(2), object(3)\n",
      "memory usage: 83.1+ KB\n"
     ]
    }
   ],
   "source": [
    "# Getting columns with their dtype\n",
    "clean_df.info()"
   ]
  },
  {
   "cell_type": "code",
   "execution_count": 34,
   "id": "0d82b23a",
   "metadata": {},
   "outputs": [
    {
     "data": {
      "text/plain": [
       "male      670\n",
       "female    659\n",
       "Name: sex, dtype: int64"
      ]
     },
     "execution_count": 34,
     "metadata": {},
     "output_type": "execute_result"
    }
   ],
   "source": [
    "# getting value_counts()\n",
    "clean_df['sex'].value_counts()"
   ]
  },
  {
   "cell_type": "code",
   "execution_count": 35,
   "id": "08338801",
   "metadata": {},
   "outputs": [
    {
     "data": {
      "text/plain": [
       "male      0.504138\n",
       "female    0.495862\n",
       "Name: sex, dtype: float64"
      ]
     },
     "execution_count": 35,
     "metadata": {},
     "output_type": "execute_result"
    }
   ],
   "source": [
    "# getting value_counts() by normalization\n",
    "clean_df['sex'].value_counts(normalize = True)"
   ]
  },
  {
   "cell_type": "code",
   "execution_count": 36,
   "id": "70beb11f",
   "metadata": {},
   "outputs": [
    {
     "data": {
      "text/plain": [
       "<AxesSubplot:>"
      ]
     },
     "execution_count": 36,
     "metadata": {},
     "output_type": "execute_result"
    },
    {
     "data": {
      "image/png": "[encoded data removed]",
      "text/plain": [
       "<Figure size 432x288 with 1 Axes>"
      ]
     },
     "metadata": {
      "needs_background": "light"
     },
     "output_type": "display_data"
    }
   ],
   "source": [
    "# Plotting barplot for sex feature\n",
    "clean_df['sex'].value_counts().plot(kind = 'bar')"
   ]
  },
  {
   "cell_type": "markdown",
   "id": "e832afc7",
   "metadata": {},
   "source": [
    "-- It seems like Gender  will not impact on Medical Expenses (charges)."
   ]
  },
  {
   "cell_type": "markdown",
   "id": "76ac0485",
   "metadata": {},
   "source": [
    "## Analysing region Feature - Categorical"
   ]
  },
  {
   "cell_type": "code",
   "execution_count": 37,
   "id": "bd79f226",
   "metadata": {},
   "outputs": [
    {
     "data": {
      "text/plain": [
       "southeast    357\n",
       "northwest    325\n",
       "southwest    324\n",
       "northeast    323\n",
       "Name: region, dtype: int64"
      ]
     },
     "execution_count": 37,
     "metadata": {},
     "output_type": "execute_result"
    }
   ],
   "source": [
    "# Applying value_counts to get datapoints according to regions\n",
    "clean_df['region'].value_counts()"
   ]
  },
  {
   "cell_type": "code",
   "execution_count": 38,
   "id": "948bd81a",
   "metadata": {},
   "outputs": [
    {
     "data": {
      "text/plain": [
       "southeast    0.268623\n",
       "northwest    0.244545\n",
       "southwest    0.243792\n",
       "northeast    0.243040\n",
       "Name: region, dtype: float64"
      ]
     },
     "execution_count": 38,
     "metadata": {},
     "output_type": "execute_result"
    }
   ],
   "source": [
    "# Applying value_counts by normalization\n",
    "clean_df['region'].value_counts(normalize = True)"
   ]
  },
  {
   "cell_type": "code",
   "execution_count": 39,
   "id": "26f89527",
   "metadata": {},
   "outputs": [
    {
     "data": {
      "text/plain": [
       "<AxesSubplot:>"
      ]
     },
     "execution_count": 39,
     "metadata": {},
     "output_type": "execute_result"
    },
    {
     "data": {
      "image/png": "[encoded data removed]",
      "text/plain": [
       "<Figure size 432x288 with 1 Axes>"
      ]
     },
     "metadata": {
      "needs_background": "light"
     },
     "output_type": "display_data"
    }
   ],
   "source": [
    "# Plotting barplot for region feature\n",
    "clean_df['region'].value_counts().plot(kind = 'bar')"
   ]
  },
  {
   "cell_type": "markdown",
   "id": "38bd4a07",
   "metadata": {},
   "source": [
    "-- In 4 regions, southeast has more number of persons who spends charges."
   ]
  },
  {
   "cell_type": "markdown",
   "id": "4df9874e",
   "metadata": {},
   "source": [
    "## Analysing smoker Feature - Categorical"
   ]
  },
  {
   "cell_type": "code",
   "execution_count": 40,
   "id": "9dc1e190",
   "metadata": {},
   "outputs": [
    {
     "data": {
      "text/plain": [
       "no     1058\n",
       "yes     271\n",
       "Name: smoker, dtype: int64"
      ]
     },
     "execution_count": 40,
     "metadata": {},
     "output_type": "execute_result"
    }
   ],
   "source": [
    "# Applying value_counts\n",
    "clean_df['smoker'].value_counts()"
   ]
  },
  {
   "cell_type": "code",
   "execution_count": 41,
   "id": "1790f3c9",
   "metadata": {},
   "outputs": [
    {
     "data": {
      "text/plain": [
       "no     0.796087\n",
       "yes    0.203913\n",
       "Name: smoker, dtype: float64"
      ]
     },
     "execution_count": 41,
     "metadata": {},
     "output_type": "execute_result"
    }
   ],
   "source": [
    "# Applying value_counts by normalization\n",
    "clean_df['smoker'].value_counts(normalize = True)"
   ]
  },
  {
   "cell_type": "code",
   "execution_count": 42,
   "id": "645706fe",
   "metadata": {},
   "outputs": [
    {
     "data": {
      "text/plain": [
       "<AxesSubplot:>"
      ]
     },
     "execution_count": 42,
     "metadata": {},
     "output_type": "execute_result"
    },
    {
     "data": {
      "image/png": "[encoded data removed]",
      "text/plain": [
       "<Figure size 432x288 with 1 Axes>"
      ]
     },
     "metadata": {
      "needs_background": "light"
     },
     "output_type": "display_data"
    }
   ],
   "source": [
    "# plotting bar plot for smoker feature\n",
    "clean_df['smoker'].value_counts().plot(kind = 'bar')"
   ]
  },
  {
   "cell_type": "markdown",
   "id": "6167f3f8",
   "metadata": {},
   "source": [
    "-- Non-Smokers are more in number compared to Smokers."
   ]
  },
  {
   "cell_type": "markdown",
   "id": "ebc7f502",
   "metadata": {},
   "source": [
    "# Bivariate Analysis"
   ]
  },
  {
   "cell_type": "code",
   "execution_count": 43,
   "id": "79e1d287",
   "metadata": {},
   "outputs": [
    {
     "name": "stdout",
     "output_type": "stream",
     "text": [
      "<class 'pandas.core.frame.DataFrame'>\n",
      "RangeIndex: 1338 entries, 0 to 1337\n",
      "Data columns (total 7 columns):\n",
      " #   Column    Non-Null Count  Dtype  \n",
      "---  ------    --------------  -----  \n",
      " 0   age       1338 non-null   int64  \n",
      " 1   sex       1338 non-null   object \n",
      " 2   bmi       1338 non-null   float64\n",
      " 3   children  1338 non-null   int64  \n",
      " 4   smoker    1338 non-null   object \n",
      " 5   region    1338 non-null   object \n",
      " 6   charges   1338 non-null   float64\n",
      "dtypes: float64(2), int64(2), object(3)\n",
      "memory usage: 73.3+ KB\n"
     ]
    }
   ],
   "source": [
    "df.info()"
   ]
  },
  {
   "cell_type": "markdown",
   "id": "d60a72f5",
   "metadata": {},
   "source": [
    "### Relationship between Age and Charges - [Numerical Vs Numerical]"
   ]
  },
  {
   "cell_type": "code",
   "execution_count": 44,
   "id": "01015ec2",
   "metadata": {},
   "outputs": [
    {
     "data": {
      "text/plain": [
       "<matplotlib.collections.PathCollection at 0x12bc537d7c0>"
      ]
     },
     "execution_count": 44,
     "metadata": {},
     "output_type": "execute_result"
    },
    {
     "data": {
      "image/png": "[encoded data removed]",
      "text/plain": [
       "<Figure size 432x288 with 1 Axes>"
      ]
     },
     "metadata": {
      "needs_background": "light"
     },
     "output_type": "display_data"
    }
   ],
   "source": [
    "# After Cleaning the data\n",
    "plt.scatter(x = clean_df['age'],y = clean_df['charges'])"
   ]
  },
  {
   "cell_type": "markdown",
   "id": "ee8c36ec",
   "metadata": {},
   "source": [
    "-- As Age increases the charges will be Impacted more.  \n",
    "-- So,there is a  Positive relationship between age and charges."
   ]
  },
  {
   "cell_type": "markdown",
   "id": "bfbe0c36",
   "metadata": {},
   "source": [
    "### Relationship between bmi and Charges - [Numerical Vs Numerical]"
   ]
  },
  {
   "cell_type": "code",
   "execution_count": 45,
   "id": "3508eade",
   "metadata": {},
   "outputs": [
    {
     "data": {
      "text/plain": [
       "<matplotlib.collections.PathCollection at 0x12bc63c5280>"
      ]
     },
     "execution_count": 45,
     "metadata": {},
     "output_type": "execute_result"
    },
    {
     "data": {
      "image/png": "[encoded data removed]",
      "text/plain": [
       "<Figure size 432x288 with 1 Axes>"
      ]
     },
     "metadata": {
      "needs_background": "light"
     },
     "output_type": "display_data"
    }
   ],
   "source": [
    "# Before cleaning the data \n",
    "plt.scatter(x = df['bmi'],y = df['charges'])"
   ]
  },
  {
   "cell_type": "code",
   "execution_count": 46,
   "id": "295fd3e0",
   "metadata": {},
   "outputs": [
    {
     "data": {
      "text/plain": [
       "<matplotlib.collections.PathCollection at 0x12bc64174f0>"
      ]
     },
     "execution_count": 46,
     "metadata": {},
     "output_type": "execute_result"
    },
    {
     "data": {
      "image/png": "[encoded data removed]",
      "text/plain": [
       "<Figure size 432x288 with 1 Axes>"
      ]
     },
     "metadata": {
      "needs_background": "light"
     },
     "output_type": "display_data"
    }
   ],
   "source": [
    "# After Cleaning the data\n",
    "plt.scatter(x = clean_df['bmi'],y = clean_df['charges'])"
   ]
  },
  {
   "cell_type": "markdown",
   "id": "825de90b",
   "metadata": {},
   "source": [
    "-- There is no relationship between bmi and charges "
   ]
  },
  {
   "cell_type": "markdown",
   "id": "83768c95",
   "metadata": {},
   "source": [
    "### Relationship between children and Charges - [Numerical Vs Numerical]"
   ]
  },
  {
   "cell_type": "code",
   "execution_count": 47,
   "id": "6c2c2704",
   "metadata": {},
   "outputs": [
    {
     "data": {
      "text/plain": [
       "<matplotlib.collections.PathCollection at 0x12bc64958e0>"
      ]
     },
     "execution_count": 47,
     "metadata": {},
     "output_type": "execute_result"
    },
    {
     "data": {
      "image/png": "[encoded data removed]",
      "text/plain": [
       "<Figure size 432x288 with 1 Axes>"
      ]
     },
     "metadata": {
      "needs_background": "light"
     },
     "output_type": "display_data"
    }
   ],
   "source": [
    "# After Cleaning the data\n",
    "plt.scatter(x = clean_df['children'],y = clean_df['charges'])"
   ]
  },
  {
   "cell_type": "markdown",
   "id": "55a5eea6",
   "metadata": {},
   "source": [
    "-- There is no relationship Between Children and charges"
   ]
  },
  {
   "cell_type": "markdown",
   "id": "d61be83e",
   "metadata": {},
   "source": [
    "### Relationship between sex and Charges - [Categorical Vs Numerical]"
   ]
  },
  {
   "cell_type": "code",
   "execution_count": 48,
   "id": "c762c9a2",
   "metadata": {},
   "outputs": [
    {
     "data": {
      "text/plain": [
       "<AxesSubplot:title={'center':'charges'}, xlabel='sex'>"
      ]
     },
     "execution_count": 48,
     "metadata": {},
     "output_type": "execute_result"
    },
    {
     "data": {
      "image/png": "[encoded data removed]",
      "text/plain": [
       "<Figure size 432x288 with 1 Axes>"
      ]
     },
     "metadata": {
      "needs_background": "light"
     },
     "output_type": "display_data"
    }
   ],
   "source": [
    "# After Cleaning the data\n",
    "clean_df.boxplot(by='sex', column='charges')"
   ]
  },
  {
   "cell_type": "markdown",
   "id": "3a042547",
   "metadata": {},
   "source": [
    "-- There is no relationship between sex and charges"
   ]
  },
  {
   "cell_type": "markdown",
   "id": "faaacffb",
   "metadata": {},
   "source": [
    "### Relationship between smoker and Charges - [Categorical Vs Numerical]"
   ]
  },
  {
   "cell_type": "code",
   "execution_count": 49,
   "id": "d25da4b6",
   "metadata": {
    "scrolled": true
   },
   "outputs": [
    {
     "data": {
      "text/plain": [
       "<AxesSubplot:title={'center':'charges'}, xlabel='smoker'>"
      ]
     },
     "execution_count": 49,
     "metadata": {},
     "output_type": "execute_result"
    },
    {
     "data": {
      "image/png": "[encoded data removed]",
      "text/plain": [
       "<Figure size 432x288 with 1 Axes>"
      ]
     },
     "metadata": {
      "needs_background": "light"
     },
     "output_type": "display_data"
    }
   ],
   "source": [
    "# After Cleaning the data\n",
    "clean_df.boxplot(by='smoker', column='charges')"
   ]
  },
  {
   "cell_type": "markdown",
   "id": "19b46421",
   "metadata": {},
   "source": [
    "-- There is Positive relationship between smoker = Yes and charges.  \n",
    "-- Those who smokes will get more medical costs billed by health insurance"
   ]
  },
  {
   "cell_type": "markdown",
   "id": "2a4c7487",
   "metadata": {},
   "source": [
    "**Q)  Smokers can be males or females**-----"
   ]
  },
  {
   "cell_type": "code",
   "execution_count": 50,
   "id": "21d88b82",
   "metadata": {},
   "outputs": [
    {
     "data": {
      "image/png": "[encoded data removed]",
      "text/plain": [
       "<Figure size 432x288 with 1 Axes>"
      ]
     },
     "metadata": {
      "needs_background": "light"
     },
     "output_type": "display_data"
    }
   ],
   "source": [
    "# collecting data from dataframe \"bc\" in columns \"sex\" and \"smoker\"\n",
    "smoker_counts = clean_df[clean_df[\"smoker\"] == \"yes\"][\"sex\"].value_counts()\n",
    "\n",
    "# Create bar chart\n",
    "fig, ax = plt.subplots()\n",
    "ax.bar(smoker_counts.index, smoker_counts.values)\n",
    "\n",
    "# Set labels and title\n",
    "ax.set_xlabel('Gender')\n",
    "ax.set_ylabel('Count')\n",
    "ax.set_title('Number of Smokers by Gender')\n",
    "\n",
    "# Display the plot\n",
    "plt.show()"
   ]
  },
  {
   "cell_type": "code",
   "execution_count": 51,
   "id": "1f48bbe7",
   "metadata": {},
   "outputs": [
    {
     "data": {
      "image/png": "[encoded data removed]",
      "text/plain": [
       "<Figure size 432x288 with 1 Axes>"
      ]
     },
     "metadata": {
      "needs_background": "light"
     },
     "output_type": "display_data"
    }
   ],
   "source": [
    "# collecting data from dataframe \"df\" in columns \"sex\" and \"smoker\"\n",
    "non_smoker_counts = clean_df[clean_df[\"smoker\"] == \"yes\"][\"sex\"].value_counts()\n",
    "\n",
    "# Create bar chart\n",
    "fig, ax = plt.subplots()\n",
    "ax.bar(non_smoker_counts.index, non_smoker_counts.values)\n",
    "\n",
    "# Set labels and title\n",
    "ax.set_xlabel('Gender')\n",
    "ax.set_ylabel('Count')\n",
    "ax.set_title('Number of Non_Smokers by Gender')\n",
    "\n",
    "# Display the plot\n",
    "plt.show()"
   ]
  },
  {
   "cell_type": "markdown",
   "id": "c156a6e3",
   "metadata": {},
   "source": [
    "### Relationship between region and Charges - [Categorical Vs Numerical]"
   ]
  },
  {
   "cell_type": "code",
   "execution_count": 52,
   "id": "b77c5f85",
   "metadata": {},
   "outputs": [
    {
     "data": {
      "text/plain": [
       "<AxesSubplot:title={'center':'charges'}, xlabel='region'>"
      ]
     },
     "execution_count": 52,
     "metadata": {},
     "output_type": "execute_result"
    },
    {
     "data": {
      "image/png": "[encoded data removed]",
      "text/plain": [
       "<Figure size 432x288 with 1 Axes>"
      ]
     },
     "metadata": {
      "needs_background": "light"
     },
     "output_type": "display_data"
    }
   ],
   "source": [
    "# After Cleaning the data\n",
    "clean_df.boxplot(by='region', column='charges')"
   ]
  },
  {
   "cell_type": "markdown",
   "id": "bec0a4c0",
   "metadata": {},
   "source": [
    "-- There is no relationship between region and charges.  \n",
    "-- Compare to all other regions,southeast region has more charges.   \n",
    "-- Southeast region influenced the charges.as most of the members used charges between 10,000 to 20,000."
   ]
  },
  {
   "cell_type": "markdown",
   "id": "4515ae72",
   "metadata": {},
   "source": [
    "# Relationship Between Multivariables"
   ]
  },
  {
   "cell_type": "code",
   "execution_count": 53,
   "id": "8d7c09e7",
   "metadata": {},
   "outputs": [
    {
     "data": {
      "image/png": "[encoded data removed]",
      "text/plain": [
       "<Figure size 432x288 with 2 Axes>"
      ]
     },
     "metadata": {
      "needs_background": "light"
     },
     "output_type": "display_data"
    }
   ],
   "source": [
    "# correlation\n",
    "import seaborn as sns\n",
    "sns.heatmap(df.corr(),annot=True,cmap=\"Set3\",linecolor=\"black\",linewidth=4)\n",
    "plt.show();"
   ]
  },
  {
   "cell_type": "markdown",
   "id": "2237ad67",
   "metadata": {},
   "source": [
    "## **Insights and Conclusions:**  "
   ]
  },
  {
   "cell_type": "markdown",
   "id": "a8c1bd9e",
   "metadata": {},
   "source": [
    "`> Age:`  'Age' factor have a strong impact on charges.older individuals tend to have higher charges compared to younger ones.   \n",
    "The insurance company should consider age as a factor when determining premium rates and coverage options. They can offer specialized plans or packages for different age groups to ensure appropriate coverage and pricing.\n",
    "\n",
    "`> BMI:`  The 'bmi' variable has outliers, indicating a need to further investigate and understand the factors contributing to higher BMI.   \n",
    "Promoting healthy lifestyles, offering wellness programs and incentivize weight management initiatives to help policyholders maintain a healthy BMI range and reduce their medical charges could be beneficial.\n",
    "\n",
    "`> Smokers:`  Smokers have significantly higher medical charges compared to non-smokers. This highlights the impact of smoking on healthcare costs.  \n",
    "The insurance company should consider implementing smoking cessation programs, providing resources for quitting smoking, and offering incentives or discounts for non-smokers.   \n",
    "Promoting smoking cessation can lead to healthier lives for policyholders and potentially reduce long-term medical expenses.\n",
    "\n",
    "`> Children:`  The number of dependents (children) does not show a strong correlation with medical charges. This suggests that the number of children in a policyholder's family may not significantly impact healthcare costs.     \n",
    "However, the insurance company should still consider family plans and coverage options that cater to individuals with dependents to provide comprehensive and suitable coverage.\n",
    "\n",
    "`> Region:`  There might be variations in medical charges based on the beneficiary's residential area. It is important for the insurance company to analyze regional differences in charges and understand the underlying factors driving these variations.  \n",
    "This can help in tailoring pricing strategies, provider networks, and coverage options specific to different regions."
   ]
  },
  {
   "cell_type": "markdown",
   "id": "86df71af",
   "metadata": {},
   "source": [
    "## **Recommendations:**  "
   ]
  },
  {
   "cell_type": "markdown",
   "id": "ee3c7f8f",
   "metadata": {},
   "source": [
    "Based on the insights gained from the analysis, here are some recommendations for the insurance company:\n",
    "\n",
    "`> Risk-based pricing:`  Utilize the insights gained from the analysis to implement risk-based pricing models. Adjust premium rates and coverage options based on factors such as age, BMI, and smoking habits to ensure fair pricing and appropriate coverage.\n",
    "\n",
    "`> Wellness programs:`  Develop and promote wellness programs that focus on healthy lifestyle choices, weight management, and preventive care. These programs can help policyholders maintain a healthy BMI, reduce the risk of chronic conditions, and potentially lower medical charges in the long run.\n",
    "\n",
    "`> Smoking cessation initiatives:`  Implement comprehensive smoking cessation programs and provide resources to help policyholders quit smoking. Offer incentives, discounts, or reduced premiums for non-smokers to encourage healthier habits and reduce healthcare costs.\n",
    "\n",
    "`> Geographic considerations:`  Analyze regional differences in medical charges and adapt pricing strategies and coverage options based on local market dynamics. This can help ensure that pricing is fair and competitive across different regions while considering the specific healthcare needs and cost structures in each area.\n",
    "\n",
    "`> Customer Segmentation:`   Each customer segment may have different needs and risks.Customers are more likely to choose an insurance provider that understands their unique needs and offers tailored solutions.So,Understand and address the diverse needs of their customers.Create marketing campaigns that resonate with each segment's characteristics, preferences, and concerns. It helps them deliver better services, design appropriate coverage options, develop effective marketing strategies, and ultimately build stronger relationships with their policyholders.\n",
    "\n",
    "`> Continuous monitoring:`  Regularly analyze data, monitor trends, and update pricing models and coverage options as needed. Stay up-to-date with advancements in healthcare and technology to provide innovative and cost-effective solutions to policyholders.\n",
    "\n",
    "`> Fraud Detection:`  Analyze the data for any potential fraud patterns or unusual claims.Implement robust fraud detection systems to minimize fraudulent claims and associated costs.  \n",
    "    \n",
    "    \n",
    "                                      ---------     \n",
    "     \n",
    "Implementing these recommendations can help the insurance company tailor their offerings, promote healthier behaviors, and ensure fair pricing, leading to improved customer satisfaction, better risk management, and long-term financial sustainability."
   ]
  },
  {
   "cell_type": "markdown",
   "id": "41346307",
   "metadata": {},
   "source": [
    "# DATA PREPARATION AND MODEL BUILDING"
   ]
  },
  {
   "cell_type": "code",
   "execution_count": 54,
   "id": "3a179c43",
   "metadata": {},
   "outputs": [],
   "source": [
    "df = clean_df"
   ]
  },
  {
   "cell_type": "code",
   "execution_count": 56,
   "id": "ddf93f9b",
   "metadata": {},
   "outputs": [
    {
     "data": {
      "text/plain": [
       "(1329, 7)"
      ]
     },
     "execution_count": 56,
     "metadata": {},
     "output_type": "execute_result"
    }
   ],
   "source": [
    "df.shape"
   ]
  },
  {
   "cell_type": "code",
   "execution_count": 57,
   "id": "5a01a476",
   "metadata": {},
   "outputs": [
    {
     "data": {
      "text/html": [
       "<div>\n",
       "<style scoped>\n",
       "    .dataframe tbody tr th:only-of-type {\n",
       "        vertical-align: middle;\n",
       "    }\n",
       "\n",
       "    .dataframe tbody tr th {\n",
       "        vertical-align: top;\n",
       "    }\n",
       "\n",
       "    .dataframe thead th {\n",
       "        text-align: right;\n",
       "    }\n",
       "</style>\n",
       "<table border=\"1\" class=\"dataframe\">\n",
       "  <thead>\n",
       "    <tr style=\"text-align: right;\">\n",
       "      <th></th>\n",
       "      <th>age</th>\n",
       "      <th>sex</th>\n",
       "      <th>bmi</th>\n",
       "      <th>children</th>\n",
       "      <th>smoker</th>\n",
       "      <th>region</th>\n",
       "      <th>charges</th>\n",
       "    </tr>\n",
       "  </thead>\n",
       "  <tbody>\n",
       "    <tr>\n",
       "      <th>0</th>\n",
       "      <td>19</td>\n",
       "      <td>female</td>\n",
       "      <td>27.900</td>\n",
       "      <td>0</td>\n",
       "      <td>yes</td>\n",
       "      <td>southwest</td>\n",
       "      <td>16884.92400</td>\n",
       "    </tr>\n",
       "    <tr>\n",
       "      <th>1</th>\n",
       "      <td>18</td>\n",
       "      <td>male</td>\n",
       "      <td>33.770</td>\n",
       "      <td>1</td>\n",
       "      <td>no</td>\n",
       "      <td>southeast</td>\n",
       "      <td>1725.55230</td>\n",
       "    </tr>\n",
       "    <tr>\n",
       "      <th>2</th>\n",
       "      <td>28</td>\n",
       "      <td>male</td>\n",
       "      <td>33.000</td>\n",
       "      <td>3</td>\n",
       "      <td>no</td>\n",
       "      <td>southeast</td>\n",
       "      <td>4449.46200</td>\n",
       "    </tr>\n",
       "    <tr>\n",
       "      <th>3</th>\n",
       "      <td>33</td>\n",
       "      <td>male</td>\n",
       "      <td>22.705</td>\n",
       "      <td>0</td>\n",
       "      <td>no</td>\n",
       "      <td>northwest</td>\n",
       "      <td>21984.47061</td>\n",
       "    </tr>\n",
       "    <tr>\n",
       "      <th>4</th>\n",
       "      <td>32</td>\n",
       "      <td>male</td>\n",
       "      <td>28.880</td>\n",
       "      <td>0</td>\n",
       "      <td>no</td>\n",
       "      <td>northwest</td>\n",
       "      <td>3866.85520</td>\n",
       "    </tr>\n",
       "  </tbody>\n",
       "</table>\n",
       "</div>"
      ],
      "text/plain": [
       "   age     sex     bmi  children smoker     region      charges\n",
       "0   19  female  27.900         0    yes  southwest  16884.92400\n",
       "1   18    male  33.770         1     no  southeast   1725.55230\n",
       "2   28    male  33.000         3     no  southeast   4449.46200\n",
       "3   33    male  22.705         0     no  northwest  21984.47061\n",
       "4   32    male  28.880         0     no  northwest   3866.85520"
      ]
     },
     "execution_count": 57,
     "metadata": {},
     "output_type": "execute_result"
    }
   ],
   "source": [
    "df.head()"
   ]
  },
  {
   "cell_type": "markdown",
   "id": "f6ba42b5",
   "metadata": {},
   "source": [
    "## Identifying the input and output variable"
   ]
  },
  {
   "cell_type": "code",
   "execution_count": 58,
   "id": "ad6ae5ab",
   "metadata": {},
   "outputs": [
    {
     "data": {
      "text/plain": [
       "Index(['age', 'sex', 'bmi', 'children', 'smoker', 'region', 'charges'], dtype='object')"
      ]
     },
     "execution_count": 58,
     "metadata": {},
     "output_type": "execute_result"
    }
   ],
   "source": [
    "df.columns"
   ]
  },
  {
   "cell_type": "code",
   "execution_count": 59,
   "id": "76fc2736",
   "metadata": {},
   "outputs": [],
   "source": [
    "y = df['charges']\n",
    "\n",
    "X = df[['age', 'sex', 'bmi', 'children', 'smoker', 'region']]"
   ]
  },
  {
   "cell_type": "code",
   "execution_count": 60,
   "id": "a822a31b",
   "metadata": {},
   "outputs": [],
   "source": [
    "# Train data and Split data\n",
    "from sklearn.model_selection import train_test_split\n",
    "X_train, X_test, y_train, y_test = train_test_split(X, y, train_size=0.8, random_state=100)"
   ]
  },
  {
   "cell_type": "code",
   "execution_count": 62,
   "id": "d4013306",
   "metadata": {},
   "outputs": [
    {
     "name": "stdout",
     "output_type": "stream",
     "text": [
      "(1063, 6) (1063,)\n",
      "(266, 6) (266,)\n"
     ]
    }
   ],
   "source": [
    "print(X_train.shape, y_train.shape)\n",
    "\n",
    "print(X_test.shape, y_test.shape)"
   ]
  },
  {
   "cell_type": "markdown",
   "id": "a596d637",
   "metadata": {},
   "source": [
    "### Dividing the Numerical and Categorcial Features"
   ]
  },
  {
   "cell_type": "code",
   "execution_count": 63,
   "id": "aa4a2dfc",
   "metadata": {},
   "outputs": [
    {
     "data": {
      "text/html": [
       "<div>\n",
       "<style scoped>\n",
       "    .dataframe tbody tr th:only-of-type {\n",
       "        vertical-align: middle;\n",
       "    }\n",
       "\n",
       "    .dataframe tbody tr th {\n",
       "        vertical-align: top;\n",
       "    }\n",
       "\n",
       "    .dataframe thead th {\n",
       "        text-align: right;\n",
       "    }\n",
       "</style>\n",
       "<table border=\"1\" class=\"dataframe\">\n",
       "  <thead>\n",
       "    <tr style=\"text-align: right;\">\n",
       "      <th></th>\n",
       "      <th>age</th>\n",
       "      <th>sex</th>\n",
       "      <th>bmi</th>\n",
       "      <th>children</th>\n",
       "      <th>smoker</th>\n",
       "      <th>region</th>\n",
       "    </tr>\n",
       "  </thead>\n",
       "  <tbody>\n",
       "    <tr>\n",
       "      <th>202</th>\n",
       "      <td>60</td>\n",
       "      <td>female</td>\n",
       "      <td>24.035</td>\n",
       "      <td>0</td>\n",
       "      <td>no</td>\n",
       "      <td>northwest</td>\n",
       "    </tr>\n",
       "    <tr>\n",
       "      <th>714</th>\n",
       "      <td>24</td>\n",
       "      <td>female</td>\n",
       "      <td>22.600</td>\n",
       "      <td>0</td>\n",
       "      <td>no</td>\n",
       "      <td>southwest</td>\n",
       "    </tr>\n",
       "    <tr>\n",
       "      <th>358</th>\n",
       "      <td>23</td>\n",
       "      <td>male</td>\n",
       "      <td>41.910</td>\n",
       "      <td>0</td>\n",
       "      <td>no</td>\n",
       "      <td>southeast</td>\n",
       "    </tr>\n",
       "    <tr>\n",
       "      <th>897</th>\n",
       "      <td>19</td>\n",
       "      <td>male</td>\n",
       "      <td>25.555</td>\n",
       "      <td>1</td>\n",
       "      <td>no</td>\n",
       "      <td>northwest</td>\n",
       "    </tr>\n",
       "    <tr>\n",
       "      <th>825</th>\n",
       "      <td>64</td>\n",
       "      <td>female</td>\n",
       "      <td>31.825</td>\n",
       "      <td>2</td>\n",
       "      <td>no</td>\n",
       "      <td>northeast</td>\n",
       "    </tr>\n",
       "  </tbody>\n",
       "</table>\n",
       "</div>"
      ],
      "text/plain": [
       "     age     sex     bmi  children smoker     region\n",
       "202   60  female  24.035         0     no  northwest\n",
       "714   24  female  22.600         0     no  southwest\n",
       "358   23    male  41.910         0     no  southeast\n",
       "897   19    male  25.555         1     no  northwest\n",
       "825   64  female  31.825         2     no  northeast"
      ]
     },
     "execution_count": 63,
     "metadata": {},
     "output_type": "execute_result"
    }
   ],
   "source": [
    "X_train.head()"
   ]
  },
  {
   "cell_type": "code",
   "execution_count": 65,
   "id": "9d900d68",
   "metadata": {},
   "outputs": [
    {
     "data": {
      "text/plain": [
       "age           int64\n",
       "sex          object\n",
       "bmi         float64\n",
       "children      int64\n",
       "smoker       object\n",
       "region       object\n",
       "dtype: object"
      ]
     },
     "execution_count": 65,
     "metadata": {},
     "output_type": "execute_result"
    }
   ],
   "source": [
    "X_train.dtypes"
   ]
  },
  {
   "cell_type": "code",
   "execution_count": 66,
   "id": "ee621ba9",
   "metadata": {},
   "outputs": [
    {
     "data": {
      "text/html": [
       "<div>\n",
       "<style scoped>\n",
       "    .dataframe tbody tr th:only-of-type {\n",
       "        vertical-align: middle;\n",
       "    }\n",
       "\n",
       "    .dataframe tbody tr th {\n",
       "        vertical-align: top;\n",
       "    }\n",
       "\n",
       "    .dataframe thead th {\n",
       "        text-align: right;\n",
       "    }\n",
       "</style>\n",
       "<table border=\"1\" class=\"dataframe\">\n",
       "  <thead>\n",
       "    <tr style=\"text-align: right;\">\n",
       "      <th></th>\n",
       "      <th>sex</th>\n",
       "      <th>smoker</th>\n",
       "      <th>region</th>\n",
       "    </tr>\n",
       "  </thead>\n",
       "  <tbody>\n",
       "    <tr>\n",
       "      <th>202</th>\n",
       "      <td>female</td>\n",
       "      <td>no</td>\n",
       "      <td>northwest</td>\n",
       "    </tr>\n",
       "    <tr>\n",
       "      <th>714</th>\n",
       "      <td>female</td>\n",
       "      <td>no</td>\n",
       "      <td>southwest</td>\n",
       "    </tr>\n",
       "    <tr>\n",
       "      <th>358</th>\n",
       "      <td>male</td>\n",
       "      <td>no</td>\n",
       "      <td>southeast</td>\n",
       "    </tr>\n",
       "    <tr>\n",
       "      <th>897</th>\n",
       "      <td>male</td>\n",
       "      <td>no</td>\n",
       "      <td>northwest</td>\n",
       "    </tr>\n",
       "    <tr>\n",
       "      <th>825</th>\n",
       "      <td>female</td>\n",
       "      <td>no</td>\n",
       "      <td>northeast</td>\n",
       "    </tr>\n",
       "  </tbody>\n",
       "</table>\n",
       "</div>"
      ],
      "text/plain": [
       "        sex smoker     region\n",
       "202  female     no  northwest\n",
       "714  female     no  southwest\n",
       "358    male     no  southeast\n",
       "897    male     no  northwest\n",
       "825  female     no  northeast"
      ]
     },
     "execution_count": 66,
     "metadata": {},
     "output_type": "execute_result"
    }
   ],
   "source": [
    "X_train_cat = X_train.select_dtypes(include=['object'])\n",
    "X_train_cat.head()"
   ]
  },
  {
   "cell_type": "code",
   "execution_count": 67,
   "id": "f60612a6",
   "metadata": {},
   "outputs": [
    {
     "data": {
      "text/html": [
       "<div>\n",
       "<style scoped>\n",
       "    .dataframe tbody tr th:only-of-type {\n",
       "        vertical-align: middle;\n",
       "    }\n",
       "\n",
       "    .dataframe tbody tr th {\n",
       "        vertical-align: top;\n",
       "    }\n",
       "\n",
       "    .dataframe thead th {\n",
       "        text-align: right;\n",
       "    }\n",
       "</style>\n",
       "<table border=\"1\" class=\"dataframe\">\n",
       "  <thead>\n",
       "    <tr style=\"text-align: right;\">\n",
       "      <th></th>\n",
       "      <th>age</th>\n",
       "      <th>bmi</th>\n",
       "      <th>children</th>\n",
       "    </tr>\n",
       "  </thead>\n",
       "  <tbody>\n",
       "    <tr>\n",
       "      <th>202</th>\n",
       "      <td>60</td>\n",
       "      <td>24.035</td>\n",
       "      <td>0</td>\n",
       "    </tr>\n",
       "    <tr>\n",
       "      <th>714</th>\n",
       "      <td>24</td>\n",
       "      <td>22.600</td>\n",
       "      <td>0</td>\n",
       "    </tr>\n",
       "    <tr>\n",
       "      <th>358</th>\n",
       "      <td>23</td>\n",
       "      <td>41.910</td>\n",
       "      <td>0</td>\n",
       "    </tr>\n",
       "    <tr>\n",
       "      <th>897</th>\n",
       "      <td>19</td>\n",
       "      <td>25.555</td>\n",
       "      <td>1</td>\n",
       "    </tr>\n",
       "    <tr>\n",
       "      <th>825</th>\n",
       "      <td>64</td>\n",
       "      <td>31.825</td>\n",
       "      <td>2</td>\n",
       "    </tr>\n",
       "  </tbody>\n",
       "</table>\n",
       "</div>"
      ],
      "text/plain": [
       "     age     bmi  children\n",
       "202   60  24.035         0\n",
       "714   24  22.600         0\n",
       "358   23  41.910         0\n",
       "897   19  25.555         1\n",
       "825   64  31.825         2"
      ]
     },
     "execution_count": 67,
     "metadata": {},
     "output_type": "execute_result"
    }
   ],
   "source": [
    "X_train_num = X_train.select_dtypes(include=['int64','float64'])\n",
    "X_train_num.head()"
   ]
  },
  {
   "cell_type": "markdown",
   "id": "3e186aeb",
   "metadata": {},
   "source": [
    "### Scaling the Numerical Features by Standardization"
   ]
  },
  {
   "cell_type": "code",
   "execution_count": 68,
   "id": "f20eab1d",
   "metadata": {},
   "outputs": [
    {
     "data": {
      "text/html": [
       "<div>\n",
       "<style scoped>\n",
       "    .dataframe tbody tr th:only-of-type {\n",
       "        vertical-align: middle;\n",
       "    }\n",
       "\n",
       "    .dataframe tbody tr th {\n",
       "        vertical-align: top;\n",
       "    }\n",
       "\n",
       "    .dataframe thead th {\n",
       "        text-align: right;\n",
       "    }\n",
       "</style>\n",
       "<table border=\"1\" class=\"dataframe\">\n",
       "  <thead>\n",
       "    <tr style=\"text-align: right;\">\n",
       "      <th></th>\n",
       "      <th>age</th>\n",
       "      <th>bmi</th>\n",
       "      <th>children</th>\n",
       "    </tr>\n",
       "  </thead>\n",
       "  <tbody>\n",
       "    <tr>\n",
       "      <th>202</th>\n",
       "      <td>1.499548</td>\n",
       "      <td>-1.102020</td>\n",
       "      <td>-0.930441</td>\n",
       "    </tr>\n",
       "    <tr>\n",
       "      <th>714</th>\n",
       "      <td>-1.081163</td>\n",
       "      <td>-1.345372</td>\n",
       "      <td>-0.930441</td>\n",
       "    </tr>\n",
       "    <tr>\n",
       "      <th>358</th>\n",
       "      <td>-1.152850</td>\n",
       "      <td>1.929273</td>\n",
       "      <td>-0.930441</td>\n",
       "    </tr>\n",
       "    <tr>\n",
       "      <th>897</th>\n",
       "      <td>-1.439596</td>\n",
       "      <td>-0.844255</td>\n",
       "      <td>-0.103469</td>\n",
       "    </tr>\n",
       "    <tr>\n",
       "      <th>825</th>\n",
       "      <td>1.786293</td>\n",
       "      <td>0.219030</td>\n",
       "      <td>0.723503</td>\n",
       "    </tr>\n",
       "  </tbody>\n",
       "</table>\n",
       "</div>"
      ],
      "text/plain": [
       "          age       bmi  children\n",
       "202  1.499548 -1.102020 -0.930441\n",
       "714 -1.081163 -1.345372 -0.930441\n",
       "358 -1.152850  1.929273 -0.930441\n",
       "897 -1.439596 -0.844255 -0.103469\n",
       "825  1.786293  0.219030  0.723503"
      ]
     },
     "execution_count": 68,
     "metadata": {},
     "output_type": "execute_result"
    }
   ],
   "source": [
    "from sklearn.preprocessing import StandardScaler\n",
    "scaler = StandardScaler()\n",
    "\n",
    "# After the scalling column names will be lost \n",
    "X_train_num_rescaled = pd.DataFrame(scaler.fit_transform(X_train_num),\n",
    "                                         columns= X_train_num.columns,\n",
    "                                         index = X_train_num.index)\n",
    "X_train_num_rescaled.head()"
   ]
  },
  {
   "cell_type": "code",
   "execution_count": 69,
   "id": "907a7547",
   "metadata": {},
   "outputs": [
    {
     "data": {
      "text/html": [
       "<div>\n",
       "<style scoped>\n",
       "    .dataframe tbody tr th:only-of-type {\n",
       "        vertical-align: middle;\n",
       "    }\n",
       "\n",
       "    .dataframe tbody tr th {\n",
       "        vertical-align: top;\n",
       "    }\n",
       "\n",
       "    .dataframe thead th {\n",
       "        text-align: right;\n",
       "    }\n",
       "</style>\n",
       "<table border=\"1\" class=\"dataframe\">\n",
       "  <thead>\n",
       "    <tr style=\"text-align: right;\">\n",
       "      <th></th>\n",
       "      <th>age</th>\n",
       "      <th>bmi</th>\n",
       "      <th>children</th>\n",
       "    </tr>\n",
       "  </thead>\n",
       "  <tbody>\n",
       "    <tr>\n",
       "      <th>count</th>\n",
       "      <td>1063.000000</td>\n",
       "      <td>1063.000000</td>\n",
       "      <td>1063.000000</td>\n",
       "    </tr>\n",
       "    <tr>\n",
       "      <th>mean</th>\n",
       "      <td>39.081844</td>\n",
       "      <td>30.533420</td>\n",
       "      <td>1.125118</td>\n",
       "    </tr>\n",
       "    <tr>\n",
       "      <th>std</th>\n",
       "      <td>13.956209</td>\n",
       "      <td>5.899599</td>\n",
       "      <td>1.209800</td>\n",
       "    </tr>\n",
       "    <tr>\n",
       "      <th>min</th>\n",
       "      <td>18.000000</td>\n",
       "      <td>15.960000</td>\n",
       "      <td>0.000000</td>\n",
       "    </tr>\n",
       "    <tr>\n",
       "      <th>25%</th>\n",
       "      <td>26.000000</td>\n",
       "      <td>26.302500</td>\n",
       "      <td>0.000000</td>\n",
       "    </tr>\n",
       "    <tr>\n",
       "      <th>50%</th>\n",
       "      <td>40.000000</td>\n",
       "      <td>30.250000</td>\n",
       "      <td>1.000000</td>\n",
       "    </tr>\n",
       "    <tr>\n",
       "      <th>75%</th>\n",
       "      <td>51.000000</td>\n",
       "      <td>34.580000</td>\n",
       "      <td>2.000000</td>\n",
       "    </tr>\n",
       "    <tr>\n",
       "      <th>max</th>\n",
       "      <td>64.000000</td>\n",
       "      <td>46.750000</td>\n",
       "      <td>5.000000</td>\n",
       "    </tr>\n",
       "  </tbody>\n",
       "</table>\n",
       "</div>"
      ],
      "text/plain": [
       "               age          bmi     children\n",
       "count  1063.000000  1063.000000  1063.000000\n",
       "mean     39.081844    30.533420     1.125118\n",
       "std      13.956209     5.899599     1.209800\n",
       "min      18.000000    15.960000     0.000000\n",
       "25%      26.000000    26.302500     0.000000\n",
       "50%      40.000000    30.250000     1.000000\n",
       "75%      51.000000    34.580000     2.000000\n",
       "max      64.000000    46.750000     5.000000"
      ]
     },
     "execution_count": 69,
     "metadata": {},
     "output_type": "execute_result"
    }
   ],
   "source": [
    "X_train_num.describe()"
   ]
  },
  {
   "cell_type": "code",
   "execution_count": 72,
   "id": "f86cb6e9",
   "metadata": {},
   "outputs": [
    {
     "name": "stdout",
     "output_type": "stream",
     "text": [
      "Number of Numerical Features: 3\n",
      "Mean of each column: [39.08184384 30.53341957  1.12511759]\n",
      "Std of each column: [13.94964333  5.8968231   1.20923048]\n"
     ]
    }
   ],
   "source": [
    "print(\"Number of Numerical Features:\", scaler.n_features_in_)\n",
    "print(\"Mean of each column:\", scaler.mean_)\n",
    "print(\"Std of each column:\", np.sqrt(scaler.var_))"
   ]
  },
  {
   "cell_type": "markdown",
   "id": "4c1a8913",
   "metadata": {},
   "source": [
    "### One-Hot Encoding for Categorical Columns"
   ]
  },
  {
   "cell_type": "code",
   "execution_count": 87,
   "id": "a4c7cfa9",
   "metadata": {},
   "outputs": [
    {
     "data": {
      "text/html": [
       "<div>\n",
       "<style scoped>\n",
       "    .dataframe tbody tr th:only-of-type {\n",
       "        vertical-align: middle;\n",
       "    }\n",
       "\n",
       "    .dataframe tbody tr th {\n",
       "        vertical-align: top;\n",
       "    }\n",
       "\n",
       "    .dataframe thead th {\n",
       "        text-align: right;\n",
       "    }\n",
       "</style>\n",
       "<table border=\"1\" class=\"dataframe\">\n",
       "  <thead>\n",
       "    <tr style=\"text-align: right;\">\n",
       "      <th></th>\n",
       "      <th>sex_male</th>\n",
       "      <th>smoker_yes</th>\n",
       "      <th>region_northwest</th>\n",
       "      <th>region_southeast</th>\n",
       "      <th>region_southwest</th>\n",
       "    </tr>\n",
       "  </thead>\n",
       "  <tbody>\n",
       "    <tr>\n",
       "      <th>202</th>\n",
       "      <td>0.0</td>\n",
       "      <td>0.0</td>\n",
       "      <td>1.0</td>\n",
       "      <td>0.0</td>\n",
       "      <td>0.0</td>\n",
       "    </tr>\n",
       "    <tr>\n",
       "      <th>714</th>\n",
       "      <td>0.0</td>\n",
       "      <td>0.0</td>\n",
       "      <td>0.0</td>\n",
       "      <td>0.0</td>\n",
       "      <td>1.0</td>\n",
       "    </tr>\n",
       "    <tr>\n",
       "      <th>358</th>\n",
       "      <td>1.0</td>\n",
       "      <td>0.0</td>\n",
       "      <td>0.0</td>\n",
       "      <td>1.0</td>\n",
       "      <td>0.0</td>\n",
       "    </tr>\n",
       "    <tr>\n",
       "      <th>897</th>\n",
       "      <td>1.0</td>\n",
       "      <td>0.0</td>\n",
       "      <td>1.0</td>\n",
       "      <td>0.0</td>\n",
       "      <td>0.0</td>\n",
       "    </tr>\n",
       "    <tr>\n",
       "      <th>825</th>\n",
       "      <td>0.0</td>\n",
       "      <td>0.0</td>\n",
       "      <td>0.0</td>\n",
       "      <td>0.0</td>\n",
       "      <td>0.0</td>\n",
       "    </tr>\n",
       "  </tbody>\n",
       "</table>\n",
       "</div>"
      ],
      "text/plain": [
       "     sex_male  smoker_yes  region_northwest  region_southeast  \\\n",
       "202       0.0         0.0               1.0               0.0   \n",
       "714       0.0         0.0               0.0               0.0   \n",
       "358       1.0         0.0               0.0               1.0   \n",
       "897       1.0         0.0               1.0               0.0   \n",
       "825       0.0         0.0               0.0               0.0   \n",
       "\n",
       "     region_southwest  \n",
       "202               0.0  \n",
       "714               1.0  \n",
       "358               0.0  \n",
       "897               0.0  \n",
       "825               0.0  "
      ]
     },
     "execution_count": 87,
     "metadata": {},
     "output_type": "execute_result"
    }
   ],
   "source": [
    "from sklearn.preprocessing import OneHotEncoder\n",
    "\n",
    "encoder = OneHotEncoder(drop='first', sparse=False)\n",
    "\n",
    "# column names are (annoyingly) lost after OneHotEncoding\n",
    "# (i.e. the dataframe is converted to a numpy ndarray)\n",
    "\n",
    "X_train_cat_OneEnc = pd.DataFrame(encoder.fit_transform(X_train_cat), \n",
    "                               columns=encoder.get_feature_names_out(X_train_cat.columns), \n",
    "                               index = X_train_cat.index)\n",
    "\n",
    "X_train_cat_OneEnc.head()"
   ]
  },
  {
   "cell_type": "markdown",
   "id": "fdfb8ba2",
   "metadata": {},
   "source": [
    "### Concatinating the Rescaled Numerical features and Encoded Categorical Features"
   ]
  },
  {
   "cell_type": "code",
   "execution_count": 88,
   "id": "1623d88a",
   "metadata": {},
   "outputs": [
    {
     "data": {
      "text/html": [
       "<div>\n",
       "<style scoped>\n",
       "    .dataframe tbody tr th:only-of-type {\n",
       "        vertical-align: middle;\n",
       "    }\n",
       "\n",
       "    .dataframe tbody tr th {\n",
       "        vertical-align: top;\n",
       "    }\n",
       "\n",
       "    .dataframe thead th {\n",
       "        text-align: right;\n",
       "    }\n",
       "</style>\n",
       "<table border=\"1\" class=\"dataframe\">\n",
       "  <thead>\n",
       "    <tr style=\"text-align: right;\">\n",
       "      <th></th>\n",
       "      <th>age</th>\n",
       "      <th>bmi</th>\n",
       "      <th>children</th>\n",
       "      <th>sex_male</th>\n",
       "      <th>smoker_yes</th>\n",
       "      <th>region_northwest</th>\n",
       "      <th>region_southeast</th>\n",
       "      <th>region_southwest</th>\n",
       "    </tr>\n",
       "  </thead>\n",
       "  <tbody>\n",
       "    <tr>\n",
       "      <th>202</th>\n",
       "      <td>1.499548</td>\n",
       "      <td>-1.102020</td>\n",
       "      <td>-0.930441</td>\n",
       "      <td>0.0</td>\n",
       "      <td>0.0</td>\n",
       "      <td>1.0</td>\n",
       "      <td>0.0</td>\n",
       "      <td>0.0</td>\n",
       "    </tr>\n",
       "    <tr>\n",
       "      <th>714</th>\n",
       "      <td>-1.081163</td>\n",
       "      <td>-1.345372</td>\n",
       "      <td>-0.930441</td>\n",
       "      <td>0.0</td>\n",
       "      <td>0.0</td>\n",
       "      <td>0.0</td>\n",
       "      <td>0.0</td>\n",
       "      <td>1.0</td>\n",
       "    </tr>\n",
       "    <tr>\n",
       "      <th>358</th>\n",
       "      <td>-1.152850</td>\n",
       "      <td>1.929273</td>\n",
       "      <td>-0.930441</td>\n",
       "      <td>1.0</td>\n",
       "      <td>0.0</td>\n",
       "      <td>0.0</td>\n",
       "      <td>1.0</td>\n",
       "      <td>0.0</td>\n",
       "    </tr>\n",
       "    <tr>\n",
       "      <th>897</th>\n",
       "      <td>-1.439596</td>\n",
       "      <td>-0.844255</td>\n",
       "      <td>-0.103469</td>\n",
       "      <td>1.0</td>\n",
       "      <td>0.0</td>\n",
       "      <td>1.0</td>\n",
       "      <td>0.0</td>\n",
       "      <td>0.0</td>\n",
       "    </tr>\n",
       "    <tr>\n",
       "      <th>825</th>\n",
       "      <td>1.786293</td>\n",
       "      <td>0.219030</td>\n",
       "      <td>0.723503</td>\n",
       "      <td>0.0</td>\n",
       "      <td>0.0</td>\n",
       "      <td>0.0</td>\n",
       "      <td>0.0</td>\n",
       "      <td>0.0</td>\n",
       "    </tr>\n",
       "  </tbody>\n",
       "</table>\n",
       "</div>"
      ],
      "text/plain": [
       "          age       bmi  children  sex_male  smoker_yes  region_northwest  \\\n",
       "202  1.499548 -1.102020 -0.930441       0.0         0.0               1.0   \n",
       "714 -1.081163 -1.345372 -0.930441       0.0         0.0               0.0   \n",
       "358 -1.152850  1.929273 -0.930441       1.0         0.0               0.0   \n",
       "897 -1.439596 -0.844255 -0.103469       1.0         0.0               1.0   \n",
       "825  1.786293  0.219030  0.723503       0.0         0.0               0.0   \n",
       "\n",
       "     region_southeast  region_southwest  \n",
       "202               0.0               0.0  \n",
       "714               0.0               1.0  \n",
       "358               1.0               0.0  \n",
       "897               0.0               0.0  \n",
       "825               0.0               0.0  "
      ]
     },
     "execution_count": 88,
     "metadata": {},
     "output_type": "execute_result"
    }
   ],
   "source": [
    "X_train_transformed = pd.concat([X_train_num_rescaled, X_train_cat_OneEnc], axis=1)\n",
    "\n",
    "X_train_transformed.head()"
   ]
  },
  {
   "cell_type": "markdown",
   "id": "834688a5",
   "metadata": {},
   "source": [
    "### Data Preparation on Test data"
   ]
  },
  {
   "cell_type": "code",
   "execution_count": 89,
   "id": "4a445004",
   "metadata": {},
   "outputs": [
    {
     "data": {
      "text/html": [
       "<div>\n",
       "<style scoped>\n",
       "    .dataframe tbody tr th:only-of-type {\n",
       "        vertical-align: middle;\n",
       "    }\n",
       "\n",
       "    .dataframe tbody tr th {\n",
       "        vertical-align: top;\n",
       "    }\n",
       "\n",
       "    .dataframe thead th {\n",
       "        text-align: right;\n",
       "    }\n",
       "</style>\n",
       "<table border=\"1\" class=\"dataframe\">\n",
       "  <thead>\n",
       "    <tr style=\"text-align: right;\">\n",
       "      <th></th>\n",
       "      <th>age</th>\n",
       "      <th>sex</th>\n",
       "      <th>bmi</th>\n",
       "      <th>children</th>\n",
       "      <th>smoker</th>\n",
       "      <th>region</th>\n",
       "    </tr>\n",
       "  </thead>\n",
       "  <tbody>\n",
       "    <tr>\n",
       "      <th>1104</th>\n",
       "      <td>37</td>\n",
       "      <td>male</td>\n",
       "      <td>29.800</td>\n",
       "      <td>0</td>\n",
       "      <td>no</td>\n",
       "      <td>southwest</td>\n",
       "    </tr>\n",
       "    <tr>\n",
       "      <th>453</th>\n",
       "      <td>20</td>\n",
       "      <td>male</td>\n",
       "      <td>29.735</td>\n",
       "      <td>0</td>\n",
       "      <td>no</td>\n",
       "      <td>northwest</td>\n",
       "    </tr>\n",
       "    <tr>\n",
       "      <th>1291</th>\n",
       "      <td>19</td>\n",
       "      <td>male</td>\n",
       "      <td>34.900</td>\n",
       "      <td>0</td>\n",
       "      <td>yes</td>\n",
       "      <td>southwest</td>\n",
       "    </tr>\n",
       "    <tr>\n",
       "      <th>1277</th>\n",
       "      <td>32</td>\n",
       "      <td>female</td>\n",
       "      <td>29.735</td>\n",
       "      <td>0</td>\n",
       "      <td>no</td>\n",
       "      <td>northwest</td>\n",
       "    </tr>\n",
       "    <tr>\n",
       "      <th>523</th>\n",
       "      <td>38</td>\n",
       "      <td>female</td>\n",
       "      <td>37.730</td>\n",
       "      <td>0</td>\n",
       "      <td>no</td>\n",
       "      <td>southeast</td>\n",
       "    </tr>\n",
       "  </tbody>\n",
       "</table>\n",
       "</div>"
      ],
      "text/plain": [
       "      age     sex     bmi  children smoker     region\n",
       "1104   37    male  29.800         0     no  southwest\n",
       "453    20    male  29.735         0     no  northwest\n",
       "1291   19    male  34.900         0    yes  southwest\n",
       "1277   32  female  29.735         0     no  northwest\n",
       "523    38  female  37.730         0     no  southeast"
      ]
     },
     "execution_count": 89,
     "metadata": {},
     "output_type": "execute_result"
    }
   ],
   "source": [
    "X_test.head()"
   ]
  },
  {
   "cell_type": "code",
   "execution_count": 90,
   "id": "85c0ab3c",
   "metadata": {},
   "outputs": [
    {
     "name": "stdout",
     "output_type": "stream",
     "text": [
      "<class 'pandas.core.frame.DataFrame'>\n",
      "Int64Index: 266 entries, 1104 to 1265\n",
      "Data columns (total 6 columns):\n",
      " #   Column    Non-Null Count  Dtype  \n",
      "---  ------    --------------  -----  \n",
      " 0   age       266 non-null    int64  \n",
      " 1   sex       266 non-null    object \n",
      " 2   bmi       266 non-null    float64\n",
      " 3   children  266 non-null    int64  \n",
      " 4   smoker    266 non-null    object \n",
      " 5   region    266 non-null    object \n",
      "dtypes: float64(1), int64(2), object(3)\n",
      "memory usage: 14.5+ KB\n"
     ]
    }
   ],
   "source": [
    "X_test.info()"
   ]
  },
  {
   "cell_type": "code",
   "execution_count": 91,
   "id": "38dbfb70",
   "metadata": {},
   "outputs": [
    {
     "data": {
      "text/html": [
       "<div>\n",
       "<style scoped>\n",
       "    .dataframe tbody tr th:only-of-type {\n",
       "        vertical-align: middle;\n",
       "    }\n",
       "\n",
       "    .dataframe tbody tr th {\n",
       "        vertical-align: top;\n",
       "    }\n",
       "\n",
       "    .dataframe thead th {\n",
       "        text-align: right;\n",
       "    }\n",
       "</style>\n",
       "<table border=\"1\" class=\"dataframe\">\n",
       "  <thead>\n",
       "    <tr style=\"text-align: right;\">\n",
       "      <th></th>\n",
       "      <th>age</th>\n",
       "      <th>bmi</th>\n",
       "      <th>children</th>\n",
       "    </tr>\n",
       "  </thead>\n",
       "  <tbody>\n",
       "    <tr>\n",
       "      <th>1104</th>\n",
       "      <td>37</td>\n",
       "      <td>29.800</td>\n",
       "      <td>0</td>\n",
       "    </tr>\n",
       "    <tr>\n",
       "      <th>453</th>\n",
       "      <td>20</td>\n",
       "      <td>29.735</td>\n",
       "      <td>0</td>\n",
       "    </tr>\n",
       "    <tr>\n",
       "      <th>1291</th>\n",
       "      <td>19</td>\n",
       "      <td>34.900</td>\n",
       "      <td>0</td>\n",
       "    </tr>\n",
       "    <tr>\n",
       "      <th>1277</th>\n",
       "      <td>32</td>\n",
       "      <td>29.735</td>\n",
       "      <td>0</td>\n",
       "    </tr>\n",
       "    <tr>\n",
       "      <th>523</th>\n",
       "      <td>38</td>\n",
       "      <td>37.730</td>\n",
       "      <td>0</td>\n",
       "    </tr>\n",
       "  </tbody>\n",
       "</table>\n",
       "</div>"
      ],
      "text/plain": [
       "      age     bmi  children\n",
       "1104   37  29.800         0\n",
       "453    20  29.735         0\n",
       "1291   19  34.900         0\n",
       "1277   32  29.735         0\n",
       "523    38  37.730         0"
      ]
     },
     "execution_count": 91,
     "metadata": {},
     "output_type": "execute_result"
    }
   ],
   "source": [
    "X_test_num = X_test.select_dtypes(include=['int64','float64'])\n",
    "\n",
    "X_test_num.head()"
   ]
  },
  {
   "cell_type": "code",
   "execution_count": 92,
   "id": "ddec93ac",
   "metadata": {},
   "outputs": [
    {
     "data": {
      "text/html": [
       "<div>\n",
       "<style scoped>\n",
       "    .dataframe tbody tr th:only-of-type {\n",
       "        vertical-align: middle;\n",
       "    }\n",
       "\n",
       "    .dataframe tbody tr th {\n",
       "        vertical-align: top;\n",
       "    }\n",
       "\n",
       "    .dataframe thead th {\n",
       "        text-align: right;\n",
       "    }\n",
       "</style>\n",
       "<table border=\"1\" class=\"dataframe\">\n",
       "  <thead>\n",
       "    <tr style=\"text-align: right;\">\n",
       "      <th></th>\n",
       "      <th>sex</th>\n",
       "      <th>smoker</th>\n",
       "      <th>region</th>\n",
       "    </tr>\n",
       "  </thead>\n",
       "  <tbody>\n",
       "    <tr>\n",
       "      <th>1104</th>\n",
       "      <td>male</td>\n",
       "      <td>no</td>\n",
       "      <td>southwest</td>\n",
       "    </tr>\n",
       "    <tr>\n",
       "      <th>453</th>\n",
       "      <td>male</td>\n",
       "      <td>no</td>\n",
       "      <td>northwest</td>\n",
       "    </tr>\n",
       "    <tr>\n",
       "      <th>1291</th>\n",
       "      <td>male</td>\n",
       "      <td>yes</td>\n",
       "      <td>southwest</td>\n",
       "    </tr>\n",
       "    <tr>\n",
       "      <th>1277</th>\n",
       "      <td>female</td>\n",
       "      <td>no</td>\n",
       "      <td>northwest</td>\n",
       "    </tr>\n",
       "    <tr>\n",
       "      <th>523</th>\n",
       "      <td>female</td>\n",
       "      <td>no</td>\n",
       "      <td>southeast</td>\n",
       "    </tr>\n",
       "  </tbody>\n",
       "</table>\n",
       "</div>"
      ],
      "text/plain": [
       "         sex smoker     region\n",
       "1104    male     no  southwest\n",
       "453     male     no  northwest\n",
       "1291    male    yes  southwest\n",
       "1277  female     no  northwest\n",
       "523   female     no  southeast"
      ]
     },
     "execution_count": 92,
     "metadata": {},
     "output_type": "execute_result"
    }
   ],
   "source": [
    "X_test_cat = X_test.select_dtypes(include=['object'])\n",
    "\n",
    "X_test_cat.head()"
   ]
  },
  {
   "cell_type": "code",
   "execution_count": 93,
   "id": "b3f6fbd2",
   "metadata": {},
   "outputs": [
    {
     "data": {
      "text/html": [
       "<div>\n",
       "<style scoped>\n",
       "    .dataframe tbody tr th:only-of-type {\n",
       "        vertical-align: middle;\n",
       "    }\n",
       "\n",
       "    .dataframe tbody tr th {\n",
       "        vertical-align: top;\n",
       "    }\n",
       "\n",
       "    .dataframe thead th {\n",
       "        text-align: right;\n",
       "    }\n",
       "</style>\n",
       "<table border=\"1\" class=\"dataframe\">\n",
       "  <thead>\n",
       "    <tr style=\"text-align: right;\">\n",
       "      <th></th>\n",
       "      <th>age</th>\n",
       "      <th>bmi</th>\n",
       "      <th>children</th>\n",
       "    </tr>\n",
       "  </thead>\n",
       "  <tbody>\n",
       "    <tr>\n",
       "      <th>1104</th>\n",
       "      <td>-0.149240</td>\n",
       "      <td>-0.124375</td>\n",
       "      <td>-0.930441</td>\n",
       "    </tr>\n",
       "    <tr>\n",
       "      <th>453</th>\n",
       "      <td>-1.367909</td>\n",
       "      <td>-0.135398</td>\n",
       "      <td>-0.930441</td>\n",
       "    </tr>\n",
       "    <tr>\n",
       "      <th>1291</th>\n",
       "      <td>-1.439596</td>\n",
       "      <td>0.740497</td>\n",
       "      <td>-0.930441</td>\n",
       "    </tr>\n",
       "    <tr>\n",
       "      <th>1277</th>\n",
       "      <td>-0.507672</td>\n",
       "      <td>-0.135398</td>\n",
       "      <td>-0.930441</td>\n",
       "    </tr>\n",
       "    <tr>\n",
       "      <th>523</th>\n",
       "      <td>-0.077554</td>\n",
       "      <td>1.220417</td>\n",
       "      <td>-0.930441</td>\n",
       "    </tr>\n",
       "  </tbody>\n",
       "</table>\n",
       "</div>"
      ],
      "text/plain": [
       "           age       bmi  children\n",
       "1104 -0.149240 -0.124375 -0.930441\n",
       "453  -1.367909 -0.135398 -0.930441\n",
       "1291 -1.439596  0.740497 -0.930441\n",
       "1277 -0.507672 -0.135398 -0.930441\n",
       "523  -0.077554  1.220417 -0.930441"
      ]
     },
     "execution_count": 93,
     "metadata": {},
     "output_type": "execute_result"
    }
   ],
   "source": [
    "X_test_num_rescaled = pd.DataFrame(scaler.transform(X_test_num), \n",
    "                                   columns = X_test_num.columns, \n",
    "                                   index = X_test_num.index)\n",
    "\n",
    "X_test_num_rescaled.head()"
   ]
  },
  {
   "cell_type": "code",
   "execution_count": 99,
   "id": "1c299681",
   "metadata": {},
   "outputs": [
    {
     "data": {
      "text/html": [
       "<div>\n",
       "<style scoped>\n",
       "    .dataframe tbody tr th:only-of-type {\n",
       "        vertical-align: middle;\n",
       "    }\n",
       "\n",
       "    .dataframe tbody tr th {\n",
       "        vertical-align: top;\n",
       "    }\n",
       "\n",
       "    .dataframe thead th {\n",
       "        text-align: right;\n",
       "    }\n",
       "</style>\n",
       "<table border=\"1\" class=\"dataframe\">\n",
       "  <thead>\n",
       "    <tr style=\"text-align: right;\">\n",
       "      <th></th>\n",
       "      <th>sex_male</th>\n",
       "      <th>smoker_yes</th>\n",
       "      <th>region_northwest</th>\n",
       "      <th>region_southeast</th>\n",
       "      <th>region_southwest</th>\n",
       "    </tr>\n",
       "  </thead>\n",
       "  <tbody>\n",
       "    <tr>\n",
       "      <th>1104</th>\n",
       "      <td>1.0</td>\n",
       "      <td>0.0</td>\n",
       "      <td>0.0</td>\n",
       "      <td>0.0</td>\n",
       "      <td>1.0</td>\n",
       "    </tr>\n",
       "    <tr>\n",
       "      <th>453</th>\n",
       "      <td>1.0</td>\n",
       "      <td>0.0</td>\n",
       "      <td>1.0</td>\n",
       "      <td>0.0</td>\n",
       "      <td>0.0</td>\n",
       "    </tr>\n",
       "    <tr>\n",
       "      <th>1291</th>\n",
       "      <td>1.0</td>\n",
       "      <td>1.0</td>\n",
       "      <td>0.0</td>\n",
       "      <td>0.0</td>\n",
       "      <td>1.0</td>\n",
       "    </tr>\n",
       "    <tr>\n",
       "      <th>1277</th>\n",
       "      <td>0.0</td>\n",
       "      <td>0.0</td>\n",
       "      <td>1.0</td>\n",
       "      <td>0.0</td>\n",
       "      <td>0.0</td>\n",
       "    </tr>\n",
       "    <tr>\n",
       "      <th>523</th>\n",
       "      <td>0.0</td>\n",
       "      <td>0.0</td>\n",
       "      <td>0.0</td>\n",
       "      <td>1.0</td>\n",
       "      <td>0.0</td>\n",
       "    </tr>\n",
       "  </tbody>\n",
       "</table>\n",
       "</div>"
      ],
      "text/plain": [
       "      sex_male  smoker_yes  region_northwest  region_southeast  \\\n",
       "1104       1.0         0.0               0.0               0.0   \n",
       "453        1.0         0.0               1.0               0.0   \n",
       "1291       1.0         1.0               0.0               0.0   \n",
       "1277       0.0         0.0               1.0               0.0   \n",
       "523        0.0         0.0               0.0               1.0   \n",
       "\n",
       "      region_southwest  \n",
       "1104               1.0  \n",
       "453                0.0  \n",
       "1291               1.0  \n",
       "1277               0.0  \n",
       "523                0.0  "
      ]
     },
     "execution_count": 99,
     "metadata": {},
     "output_type": "execute_result"
    }
   ],
   "source": [
    "X_test_cat_OneEnc = pd.DataFrame(encoder.transform(X_test_cat), \n",
    "                               columns=encoder.get_feature_names_out(X_test_cat.columns), \n",
    "                               index = X_test_cat.index)\n",
    "\n",
    "X_test_cat_OneEnc.head()"
   ]
  },
  {
   "cell_type": "code",
   "execution_count": 100,
   "id": "3649fc10",
   "metadata": {},
   "outputs": [
    {
     "data": {
      "text/html": [
       "<div>\n",
       "<style scoped>\n",
       "    .dataframe tbody tr th:only-of-type {\n",
       "        vertical-align: middle;\n",
       "    }\n",
       "\n",
       "    .dataframe tbody tr th {\n",
       "        vertical-align: top;\n",
       "    }\n",
       "\n",
       "    .dataframe thead th {\n",
       "        text-align: right;\n",
       "    }\n",
       "</style>\n",
       "<table border=\"1\" class=\"dataframe\">\n",
       "  <thead>\n",
       "    <tr style=\"text-align: right;\">\n",
       "      <th></th>\n",
       "      <th>age</th>\n",
       "      <th>bmi</th>\n",
       "      <th>children</th>\n",
       "      <th>sex_male</th>\n",
       "      <th>smoker_yes</th>\n",
       "      <th>region_northwest</th>\n",
       "      <th>region_southeast</th>\n",
       "      <th>region_southwest</th>\n",
       "    </tr>\n",
       "  </thead>\n",
       "  <tbody>\n",
       "    <tr>\n",
       "      <th>1104</th>\n",
       "      <td>-0.149240</td>\n",
       "      <td>-0.124375</td>\n",
       "      <td>-0.930441</td>\n",
       "      <td>1.0</td>\n",
       "      <td>0.0</td>\n",
       "      <td>0.0</td>\n",
       "      <td>0.0</td>\n",
       "      <td>1.0</td>\n",
       "    </tr>\n",
       "    <tr>\n",
       "      <th>453</th>\n",
       "      <td>-1.367909</td>\n",
       "      <td>-0.135398</td>\n",
       "      <td>-0.930441</td>\n",
       "      <td>1.0</td>\n",
       "      <td>0.0</td>\n",
       "      <td>1.0</td>\n",
       "      <td>0.0</td>\n",
       "      <td>0.0</td>\n",
       "    </tr>\n",
       "    <tr>\n",
       "      <th>1291</th>\n",
       "      <td>-1.439596</td>\n",
       "      <td>0.740497</td>\n",
       "      <td>-0.930441</td>\n",
       "      <td>1.0</td>\n",
       "      <td>1.0</td>\n",
       "      <td>0.0</td>\n",
       "      <td>0.0</td>\n",
       "      <td>1.0</td>\n",
       "    </tr>\n",
       "    <tr>\n",
       "      <th>1277</th>\n",
       "      <td>-0.507672</td>\n",
       "      <td>-0.135398</td>\n",
       "      <td>-0.930441</td>\n",
       "      <td>0.0</td>\n",
       "      <td>0.0</td>\n",
       "      <td>1.0</td>\n",
       "      <td>0.0</td>\n",
       "      <td>0.0</td>\n",
       "    </tr>\n",
       "    <tr>\n",
       "      <th>523</th>\n",
       "      <td>-0.077554</td>\n",
       "      <td>1.220417</td>\n",
       "      <td>-0.930441</td>\n",
       "      <td>0.0</td>\n",
       "      <td>0.0</td>\n",
       "      <td>0.0</td>\n",
       "      <td>1.0</td>\n",
       "      <td>0.0</td>\n",
       "    </tr>\n",
       "  </tbody>\n",
       "</table>\n",
       "</div>"
      ],
      "text/plain": [
       "           age       bmi  children  sex_male  smoker_yes  region_northwest  \\\n",
       "1104 -0.149240 -0.124375 -0.930441       1.0         0.0               0.0   \n",
       "453  -1.367909 -0.135398 -0.930441       1.0         0.0               1.0   \n",
       "1291 -1.439596  0.740497 -0.930441       1.0         1.0               0.0   \n",
       "1277 -0.507672 -0.135398 -0.930441       0.0         0.0               1.0   \n",
       "523  -0.077554  1.220417 -0.930441       0.0         0.0               0.0   \n",
       "\n",
       "      region_southeast  region_southwest  \n",
       "1104               0.0               1.0  \n",
       "453                0.0               0.0  \n",
       "1291               0.0               1.0  \n",
       "1277               0.0               0.0  \n",
       "523                1.0               0.0  "
      ]
     },
     "execution_count": 100,
     "metadata": {},
     "output_type": "execute_result"
    }
   ],
   "source": [
    "X_test_transformed = pd.concat([X_test_num_rescaled, X_test_cat_OneEnc], axis=1)\n",
    "\n",
    "X_test_transformed.head()"
   ]
  },
  {
   "cell_type": "markdown",
   "id": "de3ad84c",
   "metadata": {},
   "source": [
    "### Model Building and Predicting"
   ]
  },
  {
   "cell_type": "markdown",
   "id": "4b9d5696",
   "metadata": {},
   "source": [
    "#### Linear Regression"
   ]
  },
  {
   "cell_type": "code",
   "execution_count": 110,
   "id": "5416ecca",
   "metadata": {},
   "outputs": [
    {
     "data": {
      "text/html": [
       "<div>\n",
       "<style scoped>\n",
       "    .dataframe tbody tr th:only-of-type {\n",
       "        vertical-align: middle;\n",
       "    }\n",
       "\n",
       "    .dataframe tbody tr th {\n",
       "        vertical-align: top;\n",
       "    }\n",
       "\n",
       "    .dataframe thead th {\n",
       "        text-align: right;\n",
       "    }\n",
       "</style>\n",
       "<table border=\"1\" class=\"dataframe\">\n",
       "  <thead>\n",
       "    <tr style=\"text-align: right;\">\n",
       "      <th></th>\n",
       "      <th>Actual</th>\n",
       "      <th>Predicted</th>\n",
       "    </tr>\n",
       "  </thead>\n",
       "  <tbody>\n",
       "    <tr>\n",
       "      <th>1104</th>\n",
       "      <td>20420.60465</td>\n",
       "      <td>5948.250722</td>\n",
       "    </tr>\n",
       "    <tr>\n",
       "      <th>453</th>\n",
       "      <td>1769.53165</td>\n",
       "      <td>2791.791057</td>\n",
       "    </tr>\n",
       "    <tr>\n",
       "      <th>1291</th>\n",
       "      <td>34828.65400</td>\n",
       "      <td>26706.741834</td>\n",
       "    </tr>\n",
       "    <tr>\n",
       "      <th>1277</th>\n",
       "      <td>4357.04365</td>\n",
       "      <td>6058.924220</td>\n",
       "    </tr>\n",
       "    <tr>\n",
       "      <th>523</th>\n",
       "      <td>5397.61670</td>\n",
       "      <td>9653.179088</td>\n",
       "    </tr>\n",
       "  </tbody>\n",
       "</table>\n",
       "</div>"
      ],
      "text/plain": [
       "           Actual     Predicted\n",
       "1104  20420.60465   5948.250722\n",
       "453    1769.53165   2791.791057\n",
       "1291  34828.65400  26706.741834\n",
       "1277   4357.04365   6058.924220\n",
       "523    5397.61670   9653.179088"
      ]
     },
     "execution_count": 110,
     "metadata": {},
     "output_type": "execute_result"
    }
   ],
   "source": [
    "from sklearn.linear_model import LinearRegression\n",
    "regressor = LinearRegression()\n",
    "regressor.fit(X_train_transformed, y_train)\n",
    "\n",
    "y_test_predicted = regressor.predict(X_test_transformed)\n",
    "\n",
    "temp_df = pd.DataFrame({'Actual': y_test, 'Predicted': y_test_predicted})\n",
    "\n",
    "temp_df.head()"
   ]
  },
  {
   "cell_type": "code",
   "execution_count": 111,
   "id": "975f56ff",
   "metadata": {},
   "outputs": [
    {
     "name": "stdout",
     "output_type": "stream",
     "text": [
      "Mean Absolute Error:  4161.476976098654\n",
      "Mean Squared Error:  36021398.70402463\n",
      "Root Mean Squared Error:  6001.782960423063\n"
     ]
    }
   ],
   "source": [
    "from sklearn import metrics\n",
    "\n",
    "print('Mean Absolute Error: ', metrics.mean_absolute_error(y_test, y_test_predicted))\n",
    "\n",
    "print('Mean Squared Error: ', metrics.mean_squared_error(y_test, y_test_predicted))\n",
    "\n",
    "print('Root Mean Squared Error: ', np.sqrt(metrics.mean_squared_error(y_test, y_test_predicted)))"
   ]
  },
  {
   "cell_type": "markdown",
   "id": "d76385f3",
   "metadata": {},
   "source": [
    "#### KNN Regression"
   ]
  },
  {
   "cell_type": "code",
   "execution_count": 115,
   "id": "940a5f49",
   "metadata": {},
   "outputs": [
    {
     "data": {
      "text/html": [
       "<div>\n",
       "<style scoped>\n",
       "    .dataframe tbody tr th:only-of-type {\n",
       "        vertical-align: middle;\n",
       "    }\n",
       "\n",
       "    .dataframe tbody tr th {\n",
       "        vertical-align: top;\n",
       "    }\n",
       "\n",
       "    .dataframe thead th {\n",
       "        text-align: right;\n",
       "    }\n",
       "</style>\n",
       "<table border=\"1\" class=\"dataframe\">\n",
       "  <thead>\n",
       "    <tr style=\"text-align: right;\">\n",
       "      <th></th>\n",
       "      <th>Actual</th>\n",
       "      <th>Predicted</th>\n",
       "    </tr>\n",
       "  </thead>\n",
       "  <tbody>\n",
       "    <tr>\n",
       "      <th>1104</th>\n",
       "      <td>20420.60465</td>\n",
       "      <td>4075.76560</td>\n",
       "    </tr>\n",
       "    <tr>\n",
       "      <th>453</th>\n",
       "      <td>1769.53165</td>\n",
       "      <td>2165.43066</td>\n",
       "    </tr>\n",
       "    <tr>\n",
       "      <th>1291</th>\n",
       "      <td>34828.65400</td>\n",
       "      <td>14920.41793</td>\n",
       "    </tr>\n",
       "    <tr>\n",
       "      <th>1277</th>\n",
       "      <td>4357.04365</td>\n",
       "      <td>3824.17022</td>\n",
       "    </tr>\n",
       "    <tr>\n",
       "      <th>523</th>\n",
       "      <td>5397.61670</td>\n",
       "      <td>6115.68122</td>\n",
       "    </tr>\n",
       "  </tbody>\n",
       "</table>\n",
       "</div>"
      ],
      "text/plain": [
       "           Actual    Predicted\n",
       "1104  20420.60465   4075.76560\n",
       "453    1769.53165   2165.43066\n",
       "1291  34828.65400  14920.41793\n",
       "1277   4357.04365   3824.17022\n",
       "523    5397.61670   6115.68122"
      ]
     },
     "execution_count": 115,
     "metadata": {},
     "output_type": "execute_result"
    }
   ],
   "source": [
    "from sklearn.neighbors import KNeighborsRegressor\n",
    "regressor = KNeighborsRegressor()\n",
    "regressor.fit(X_train_transformed, y_train)\n",
    "\n",
    "\n",
    "y_test_pred = regressor.predict(X_test_transformed)\n",
    "\n",
    "\n",
    "temp_df = pd.DataFrame({'Actual': y_test, 'Predicted': y_test_pred})\n",
    "\n",
    "temp_df.head()"
   ]
  },
  {
   "cell_type": "code",
   "execution_count": 116,
   "id": "d3273169",
   "metadata": {},
   "outputs": [
    {
     "name": "stdout",
     "output_type": "stream",
     "text": [
      "Mean Absolute Error:  4048.6279562691734\n",
      "Mean Squared Error:  46691825.16706344\n",
      "Root Mean Squared Error:  6833.14167620308\n"
     ]
    }
   ],
   "source": [
    "print('Mean Absolute Error: ', metrics.mean_absolute_error(y_test, y_test_pred))\n",
    "\n",
    "print('Mean Squared Error: ', metrics.mean_squared_error(y_test, y_test_pred))\n",
    "\n",
    "print('Root Mean Squared Error: ', np.sqrt(metrics.mean_squared_error(y_test, y_test_pred)))"
   ]
  },
  {
   "cell_type": "markdown",
   "id": "ed656f30",
   "metadata": {},
   "source": [
    "#### Decision Tree Regression"
   ]
  },
  {
   "cell_type": "code",
   "execution_count": 117,
   "id": "188e0843",
   "metadata": {},
   "outputs": [
    {
     "data": {
      "text/html": [
       "<div>\n",
       "<style scoped>\n",
       "    .dataframe tbody tr th:only-of-type {\n",
       "        vertical-align: middle;\n",
       "    }\n",
       "\n",
       "    .dataframe tbody tr th {\n",
       "        vertical-align: top;\n",
       "    }\n",
       "\n",
       "    .dataframe thead th {\n",
       "        text-align: right;\n",
       "    }\n",
       "</style>\n",
       "<table border=\"1\" class=\"dataframe\">\n",
       "  <thead>\n",
       "    <tr style=\"text-align: right;\">\n",
       "      <th></th>\n",
       "      <th>Actual</th>\n",
       "      <th>Predicted</th>\n",
       "    </tr>\n",
       "  </thead>\n",
       "  <tbody>\n",
       "    <tr>\n",
       "      <th>1104</th>\n",
       "      <td>20420.60465</td>\n",
       "      <td>5028.1466</td>\n",
       "    </tr>\n",
       "    <tr>\n",
       "      <th>453</th>\n",
       "      <td>1769.53165</td>\n",
       "      <td>1744.4650</td>\n",
       "    </tr>\n",
       "    <tr>\n",
       "      <th>1291</th>\n",
       "      <td>34828.65400</td>\n",
       "      <td>36397.5760</td>\n",
       "    </tr>\n",
       "    <tr>\n",
       "      <th>1277</th>\n",
       "      <td>4357.04365</td>\n",
       "      <td>3972.9247</td>\n",
       "    </tr>\n",
       "    <tr>\n",
       "      <th>523</th>\n",
       "      <td>5397.61670</td>\n",
       "      <td>5920.1041</td>\n",
       "    </tr>\n",
       "  </tbody>\n",
       "</table>\n",
       "</div>"
      ],
      "text/plain": [
       "           Actual   Predicted\n",
       "1104  20420.60465   5028.1466\n",
       "453    1769.53165   1744.4650\n",
       "1291  34828.65400  36397.5760\n",
       "1277   4357.04365   3972.9247\n",
       "523    5397.61670   5920.1041"
      ]
     },
     "execution_count": 117,
     "metadata": {},
     "output_type": "execute_result"
    }
   ],
   "source": [
    "from sklearn.tree import DecisionTreeRegressor\n",
    "regressor = DecisionTreeRegressor()\n",
    "regressor.fit(X_train_transformed, y_train)\n",
    "\n",
    "y_test_predicted = regressor.predict(X_test_transformed)\n",
    "\n",
    "temp_df = pd.DataFrame({'Actual': y_test, 'Predicted': y_test_predicted})\n",
    "\n",
    "temp_df.head()"
   ]
  },
  {
   "cell_type": "code",
   "execution_count": 118,
   "id": "63a0e76a",
   "metadata": {},
   "outputs": [
    {
     "name": "stdout",
     "output_type": "stream",
     "text": [
      "Mean Absolute Error:  2984.993067105263\n",
      "Mean Squared Error:  40296832.90776022\n",
      "Root Mean Squared Error:  6347.978647393217\n"
     ]
    }
   ],
   "source": [
    "from sklearn import metrics\n",
    "\n",
    "print('Mean Absolute Error: ', metrics.mean_absolute_error(y_test, y_test_predicted))\n",
    "\n",
    "print('Mean Squared Error: ', metrics.mean_squared_error(y_test, y_test_predicted))\n",
    "\n",
    "print('Root Mean Squared Error: ', np.sqrt(metrics.mean_squared_error(y_test, y_test_predicted)))"
   ]
  },
  {
   "cell_type": "markdown",
   "id": "c9166333",
   "metadata": {},
   "source": [
    "#### Random Forest Regression"
   ]
  },
  {
   "cell_type": "code",
   "execution_count": 119,
   "id": "31728c1e",
   "metadata": {},
   "outputs": [
    {
     "data": {
      "text/html": [
       "<div>\n",
       "<style scoped>\n",
       "    .dataframe tbody tr th:only-of-type {\n",
       "        vertical-align: middle;\n",
       "    }\n",
       "\n",
       "    .dataframe tbody tr th {\n",
       "        vertical-align: top;\n",
       "    }\n",
       "\n",
       "    .dataframe thead th {\n",
       "        text-align: right;\n",
       "    }\n",
       "</style>\n",
       "<table border=\"1\" class=\"dataframe\">\n",
       "  <thead>\n",
       "    <tr style=\"text-align: right;\">\n",
       "      <th></th>\n",
       "      <th>Actual</th>\n",
       "      <th>Predicted</th>\n",
       "    </tr>\n",
       "  </thead>\n",
       "  <tbody>\n",
       "    <tr>\n",
       "      <th>1104</th>\n",
       "      <td>20420.60465</td>\n",
       "      <td>4841.087556</td>\n",
       "    </tr>\n",
       "    <tr>\n",
       "      <th>453</th>\n",
       "      <td>1769.53165</td>\n",
       "      <td>2469.258756</td>\n",
       "    </tr>\n",
       "    <tr>\n",
       "      <th>1291</th>\n",
       "      <td>34828.65400</td>\n",
       "      <td>36143.752547</td>\n",
       "    </tr>\n",
       "    <tr>\n",
       "      <th>1277</th>\n",
       "      <td>4357.04365</td>\n",
       "      <td>4228.751131</td>\n",
       "    </tr>\n",
       "    <tr>\n",
       "      <th>523</th>\n",
       "      <td>5397.61670</td>\n",
       "      <td>6562.113748</td>\n",
       "    </tr>\n",
       "  </tbody>\n",
       "</table>\n",
       "</div>"
      ],
      "text/plain": [
       "           Actual     Predicted\n",
       "1104  20420.60465   4841.087556\n",
       "453    1769.53165   2469.258756\n",
       "1291  34828.65400  36143.752547\n",
       "1277   4357.04365   4228.751131\n",
       "523    5397.61670   6562.113748"
      ]
     },
     "execution_count": 119,
     "metadata": {},
     "output_type": "execute_result"
    }
   ],
   "source": [
    "from sklearn.ensemble import RandomForestRegressor\n",
    "regressor = RandomForestRegressor()\n",
    "regressor.fit(X_train_transformed, y_train)\n",
    "\n",
    "y_test_pred = regressor.predict(X_test_transformed)\n",
    "\n",
    "\n",
    "temp_df = pd.DataFrame({'Actual': y_test, 'Predicted': y_test_pred})\n",
    "\n",
    "temp_df.head()"
   ]
  },
  {
   "cell_type": "code",
   "execution_count": 120,
   "id": "b9550979",
   "metadata": {},
   "outputs": [
    {
     "name": "stdout",
     "output_type": "stream",
     "text": [
      "Mean Absolute Error:  2692.72601506453\n",
      "Mean Squared Error:  25696636.807244115\n",
      "Root Mean Squared Error:  5069.185023970235\n"
     ]
    }
   ],
   "source": [
    "print('Mean Absolute Error: ', metrics.mean_absolute_error(y_test, y_test_pred))\n",
    "\n",
    "print('Mean Squared Error: ', metrics.mean_squared_error(y_test, y_test_pred))\n",
    "\n",
    "print('Root Mean Squared Error: ', np.sqrt(metrics.mean_squared_error(y_test, y_test_pred)))"
   ]
  },
  {
   "cell_type": "markdown",
   "id": "a6e094e9",
   "metadata": {},
   "source": [
    "# Conclusion:\n",
    "- RandomForest Regression is the best model to predict the Score.      \n",
    "- Because, Compare to other models RandomForest Regressor has less Mean Absolute Error."
   ]
  },
  {
   "cell_type": "code",
   "execution_count": null,
   "id": "e72a007f",
   "metadata": {},
   "outputs": [],
   "source": []
  }
 ],
 "metadata": {
  "kernelspec": {
   "display_name": "Python 3 (ipykernel)",
   "language": "python",
   "name": "python3"
  },
  "language_info": {
   "codemirror_mode": {
    "name": "ipython",
    "version": 3
   },
   "file_extension": ".py",
   "mimetype": "text/x-python",
   "name": "python",
   "nbconvert_exporter": "python",
   "pygments_lexer": "ipython3",
   "version": "3.9.7"
  }
 },
 "nbformat": 4,
 "nbformat_minor": 5
}
