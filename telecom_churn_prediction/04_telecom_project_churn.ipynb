{
 "cells": [
  {
   "cell_type": "markdown",
   "id": "650f7dd0",
   "metadata": {},
   "source": [
    "# SPRINT - 1"
   ]
  },
  {
   "cell_type": "markdown",
   "id": "b9aeba46",
   "metadata": {},
   "source": [
    "**Business Objective:**\n",
    "\n",
    "    State the main objective of the project: to understand and reduce customer churn in the telecom company.\n",
    "    Emphasize the significance of this objective in improving customer retention and overall business performance."
   ]
  },
  {
   "cell_type": "code",
   "execution_count": 1,
   "id": "0bd07ea6",
   "metadata": {},
   "outputs": [],
   "source": [
    "# Importing python libraries\n",
    "import numpy as np\n",
    "import pandas as pd\n",
    "from scipy import stats\n",
    "import matplotlib.pyplot as plt"
   ]
  },
  {
   "cell_type": "code",
   "execution_count": 2,
   "id": "ca06485a",
   "metadata": {},
   "outputs": [
    {
     "data": {
      "text/html": [
       "<div>\n",
       "<style scoped>\n",
       "    .dataframe tbody tr th:only-of-type {\n",
       "        vertical-align: middle;\n",
       "    }\n",
       "\n",
       "    .dataframe tbody tr th {\n",
       "        vertical-align: top;\n",
       "    }\n",
       "\n",
       "    .dataframe thead th {\n",
       "        text-align: right;\n",
       "    }\n",
       "</style>\n",
       "<table border=\"1\" class=\"dataframe\">\n",
       "  <thead>\n",
       "    <tr style=\"text-align: right;\">\n",
       "      <th></th>\n",
       "      <th>customerID</th>\n",
       "      <th>gender</th>\n",
       "      <th>SeniorCitizen</th>\n",
       "      <th>Partner</th>\n",
       "      <th>Dependents</th>\n",
       "      <th>tenure</th>\n",
       "      <th>PhoneService</th>\n",
       "      <th>MultipleLines</th>\n",
       "      <th>InternetService</th>\n",
       "      <th>OnlineSecurity</th>\n",
       "      <th>...</th>\n",
       "      <th>DeviceProtection</th>\n",
       "      <th>TechSupport</th>\n",
       "      <th>StreamingTV</th>\n",
       "      <th>StreamingMovies</th>\n",
       "      <th>Contract</th>\n",
       "      <th>PaperlessBilling</th>\n",
       "      <th>PaymentMethod</th>\n",
       "      <th>MonthlyCharges</th>\n",
       "      <th>TotalCharges</th>\n",
       "      <th>Churn</th>\n",
       "    </tr>\n",
       "  </thead>\n",
       "  <tbody>\n",
       "    <tr>\n",
       "      <th>0</th>\n",
       "      <td>7590-VHVEG</td>\n",
       "      <td>Female</td>\n",
       "      <td>0</td>\n",
       "      <td>Yes</td>\n",
       "      <td>No</td>\n",
       "      <td>1</td>\n",
       "      <td>No</td>\n",
       "      <td>No phone service</td>\n",
       "      <td>DSL</td>\n",
       "      <td>No</td>\n",
       "      <td>...</td>\n",
       "      <td>No</td>\n",
       "      <td>No</td>\n",
       "      <td>No</td>\n",
       "      <td>No</td>\n",
       "      <td>Month-to-month</td>\n",
       "      <td>Yes</td>\n",
       "      <td>Electronic check</td>\n",
       "      <td>29.85</td>\n",
       "      <td>29.85</td>\n",
       "      <td>No</td>\n",
       "    </tr>\n",
       "    <tr>\n",
       "      <th>1</th>\n",
       "      <td>5575-GNVDE</td>\n",
       "      <td>Male</td>\n",
       "      <td>0</td>\n",
       "      <td>No</td>\n",
       "      <td>No</td>\n",
       "      <td>34</td>\n",
       "      <td>Yes</td>\n",
       "      <td>No</td>\n",
       "      <td>DSL</td>\n",
       "      <td>Yes</td>\n",
       "      <td>...</td>\n",
       "      <td>Yes</td>\n",
       "      <td>No</td>\n",
       "      <td>No</td>\n",
       "      <td>No</td>\n",
       "      <td>One year</td>\n",
       "      <td>No</td>\n",
       "      <td>Mailed check</td>\n",
       "      <td>56.95</td>\n",
       "      <td>1889.5</td>\n",
       "      <td>No</td>\n",
       "    </tr>\n",
       "    <tr>\n",
       "      <th>2</th>\n",
       "      <td>3668-QPYBK</td>\n",
       "      <td>Male</td>\n",
       "      <td>0</td>\n",
       "      <td>No</td>\n",
       "      <td>No</td>\n",
       "      <td>2</td>\n",
       "      <td>Yes</td>\n",
       "      <td>No</td>\n",
       "      <td>DSL</td>\n",
       "      <td>Yes</td>\n",
       "      <td>...</td>\n",
       "      <td>No</td>\n",
       "      <td>No</td>\n",
       "      <td>No</td>\n",
       "      <td>No</td>\n",
       "      <td>Month-to-month</td>\n",
       "      <td>Yes</td>\n",
       "      <td>Mailed check</td>\n",
       "      <td>53.85</td>\n",
       "      <td>108.15</td>\n",
       "      <td>Yes</td>\n",
       "    </tr>\n",
       "    <tr>\n",
       "      <th>3</th>\n",
       "      <td>7795-CFOCW</td>\n",
       "      <td>Male</td>\n",
       "      <td>0</td>\n",
       "      <td>No</td>\n",
       "      <td>No</td>\n",
       "      <td>45</td>\n",
       "      <td>No</td>\n",
       "      <td>No phone service</td>\n",
       "      <td>DSL</td>\n",
       "      <td>Yes</td>\n",
       "      <td>...</td>\n",
       "      <td>Yes</td>\n",
       "      <td>Yes</td>\n",
       "      <td>No</td>\n",
       "      <td>No</td>\n",
       "      <td>One year</td>\n",
       "      <td>No</td>\n",
       "      <td>Bank transfer (automatic)</td>\n",
       "      <td>42.30</td>\n",
       "      <td>1840.75</td>\n",
       "      <td>No</td>\n",
       "    </tr>\n",
       "    <tr>\n",
       "      <th>4</th>\n",
       "      <td>9237-HQITU</td>\n",
       "      <td>Female</td>\n",
       "      <td>0</td>\n",
       "      <td>No</td>\n",
       "      <td>No</td>\n",
       "      <td>2</td>\n",
       "      <td>Yes</td>\n",
       "      <td>No</td>\n",
       "      <td>Fiber optic</td>\n",
       "      <td>No</td>\n",
       "      <td>...</td>\n",
       "      <td>No</td>\n",
       "      <td>No</td>\n",
       "      <td>No</td>\n",
       "      <td>No</td>\n",
       "      <td>Month-to-month</td>\n",
       "      <td>Yes</td>\n",
       "      <td>Electronic check</td>\n",
       "      <td>70.70</td>\n",
       "      <td>151.65</td>\n",
       "      <td>Yes</td>\n",
       "    </tr>\n",
       "  </tbody>\n",
       "</table>\n",
       "<p>5 rows × 21 columns</p>\n",
       "</div>"
      ],
      "text/plain": [
       "   customerID  gender  SeniorCitizen Partner Dependents  tenure PhoneService  \\\n",
       "0  7590-VHVEG  Female              0     Yes         No       1           No   \n",
       "1  5575-GNVDE    Male              0      No         No      34          Yes   \n",
       "2  3668-QPYBK    Male              0      No         No       2          Yes   \n",
       "3  7795-CFOCW    Male              0      No         No      45           No   \n",
       "4  9237-HQITU  Female              0      No         No       2          Yes   \n",
       "\n",
       "      MultipleLines InternetService OnlineSecurity  ... DeviceProtection  \\\n",
       "0  No phone service             DSL             No  ...               No   \n",
       "1                No             DSL            Yes  ...              Yes   \n",
       "2                No             DSL            Yes  ...               No   \n",
       "3  No phone service             DSL            Yes  ...              Yes   \n",
       "4                No     Fiber optic             No  ...               No   \n",
       "\n",
       "  TechSupport StreamingTV StreamingMovies        Contract PaperlessBilling  \\\n",
       "0          No          No              No  Month-to-month              Yes   \n",
       "1          No          No              No        One year               No   \n",
       "2          No          No              No  Month-to-month              Yes   \n",
       "3         Yes          No              No        One year               No   \n",
       "4          No          No              No  Month-to-month              Yes   \n",
       "\n",
       "               PaymentMethod MonthlyCharges  TotalCharges Churn  \n",
       "0           Electronic check          29.85         29.85    No  \n",
       "1               Mailed check          56.95        1889.5    No  \n",
       "2               Mailed check          53.85        108.15   Yes  \n",
       "3  Bank transfer (automatic)          42.30       1840.75    No  \n",
       "4           Electronic check          70.70        151.65   Yes  \n",
       "\n",
       "[5 rows x 21 columns]"
      ]
     },
     "execution_count": 2,
     "metadata": {},
     "output_type": "execute_result"
    }
   ],
   "source": [
    "PATH = (r\"C:\\Users\\NAVYA\\Desktop\\MY_PYTHON_PRACTICE\\all_data_sets\\churn_dataset.csv\")\n",
    "df = pd.read_csv(PATH)\n",
    "df.head()"
   ]
  },
  {
   "cell_type": "code",
   "execution_count": 3,
   "id": "c7484d5a",
   "metadata": {},
   "outputs": [
    {
     "data": {
      "text/plain": [
       "Index(['customerID', 'gender', 'SeniorCitizen', 'Partner', 'Dependents',\n",
       "       'tenure', 'PhoneService', 'MultipleLines', 'InternetService',\n",
       "       'OnlineSecurity', 'OnlineBackup', 'DeviceProtection', 'TechSupport',\n",
       "       'StreamingTV', 'StreamingMovies', 'Contract', 'PaperlessBilling',\n",
       "       'PaymentMethod', 'MonthlyCharges', 'TotalCharges', 'Churn'],\n",
       "      dtype='object')"
      ]
     },
     "execution_count": 3,
     "metadata": {},
     "output_type": "execute_result"
    }
   ],
   "source": [
    "df.columns"
   ]
  },
  {
   "cell_type": "code",
   "execution_count": 4,
   "id": "5062d6a8",
   "metadata": {},
   "outputs": [
    {
     "name": "stdout",
     "output_type": "stream",
     "text": [
      "<class 'pandas.core.frame.DataFrame'>\n"
     ]
    }
   ],
   "source": [
    "print(type(df))"
   ]
  },
  {
   "cell_type": "code",
   "execution_count": 5,
   "id": "43e4acd1",
   "metadata": {},
   "outputs": [
    {
     "data": {
      "text/plain": [
       "(7043, 21)"
      ]
     },
     "execution_count": 5,
     "metadata": {},
     "output_type": "execute_result"
    }
   ],
   "source": [
    "# Getting Number of (rows,Columns)\n",
    "df.shape"
   ]
  },
  {
   "cell_type": "code",
   "execution_count": 6,
   "id": "5a11ccf1",
   "metadata": {},
   "outputs": [
    {
     "name": "stdout",
     "output_type": "stream",
     "text": [
      "<class 'pandas.core.frame.DataFrame'>\n",
      "RangeIndex: 7043 entries, 0 to 7042\n",
      "Data columns (total 21 columns):\n",
      " #   Column            Non-Null Count  Dtype  \n",
      "---  ------            --------------  -----  \n",
      " 0   customerID        7043 non-null   object \n",
      " 1   gender            7043 non-null   object \n",
      " 2   SeniorCitizen     7043 non-null   int64  \n",
      " 3   Partner           7043 non-null   object \n",
      " 4   Dependents        7043 non-null   object \n",
      " 5   tenure            7043 non-null   int64  \n",
      " 6   PhoneService      7043 non-null   object \n",
      " 7   MultipleLines     7043 non-null   object \n",
      " 8   InternetService   7043 non-null   object \n",
      " 9   OnlineSecurity    7043 non-null   object \n",
      " 10  OnlineBackup      7043 non-null   object \n",
      " 11  DeviceProtection  7043 non-null   object \n",
      " 12  TechSupport       7043 non-null   object \n",
      " 13  StreamingTV       7043 non-null   object \n",
      " 14  StreamingMovies   7043 non-null   object \n",
      " 15  Contract          7043 non-null   object \n",
      " 16  PaperlessBilling  7043 non-null   object \n",
      " 17  PaymentMethod     7043 non-null   object \n",
      " 18  MonthlyCharges    7043 non-null   float64\n",
      " 19  TotalCharges      7043 non-null   object \n",
      " 20  Churn             7043 non-null   object \n",
      "dtypes: float64(1), int64(2), object(18)\n",
      "memory usage: 1.1+ MB\n"
     ]
    }
   ],
   "source": [
    "# Getting columns with their dtype\n",
    "df.info()"
   ]
  },
  {
   "cell_type": "code",
   "execution_count": 7,
   "id": "ba23aff1",
   "metadata": {},
   "outputs": [],
   "source": [
    "# pd.to_numeric(df[\"TotalCharges\"])"
   ]
  },
  {
   "cell_type": "code",
   "execution_count": 8,
   "id": "77adf099",
   "metadata": {},
   "outputs": [],
   "source": [
    "# Replacing empty strings with Nan values\n",
    "df['TotalCharges'] = df['TotalCharges'].replace(\" \",np.nan)"
   ]
  },
  {
   "cell_type": "code",
   "execution_count": 9,
   "id": "5403fbb7",
   "metadata": {},
   "outputs": [],
   "source": [
    "# type casting df['TotalCharges'] from object to float\n",
    "df['TotalCharges'] = df['TotalCharges'].astype(float)"
   ]
  },
  {
   "cell_type": "code",
   "execution_count": 10,
   "id": "4e5d3a5d",
   "metadata": {},
   "outputs": [
    {
     "name": "stdout",
     "output_type": "stream",
     "text": [
      "<class 'pandas.core.frame.DataFrame'>\n",
      "RangeIndex: 7043 entries, 0 to 7042\n",
      "Data columns (total 21 columns):\n",
      " #   Column            Non-Null Count  Dtype  \n",
      "---  ------            --------------  -----  \n",
      " 0   customerID        7043 non-null   object \n",
      " 1   gender            7043 non-null   object \n",
      " 2   SeniorCitizen     7043 non-null   int64  \n",
      " 3   Partner           7043 non-null   object \n",
      " 4   Dependents        7043 non-null   object \n",
      " 5   tenure            7043 non-null   int64  \n",
      " 6   PhoneService      7043 non-null   object \n",
      " 7   MultipleLines     7043 non-null   object \n",
      " 8   InternetService   7043 non-null   object \n",
      " 9   OnlineSecurity    7043 non-null   object \n",
      " 10  OnlineBackup      7043 non-null   object \n",
      " 11  DeviceProtection  7043 non-null   object \n",
      " 12  TechSupport       7043 non-null   object \n",
      " 13  StreamingTV       7043 non-null   object \n",
      " 14  StreamingMovies   7043 non-null   object \n",
      " 15  Contract          7043 non-null   object \n",
      " 16  PaperlessBilling  7043 non-null   object \n",
      " 17  PaymentMethod     7043 non-null   object \n",
      " 18  MonthlyCharges    7043 non-null   float64\n",
      " 19  TotalCharges      7032 non-null   float64\n",
      " 20  Churn             7043 non-null   object \n",
      "dtypes: float64(2), int64(2), object(17)\n",
      "memory usage: 1.1+ MB\n"
     ]
    }
   ],
   "source": [
    "# Finding Nan values in each column\n",
    "df.info()"
   ]
  },
  {
   "cell_type": "markdown",
   "id": "a3a64954",
   "metadata": {},
   "source": [
    "-- There are Some Missing values in TotalCharges column."
   ]
  },
  {
   "cell_type": "code",
   "execution_count": 11,
   "id": "10749649",
   "metadata": {},
   "outputs": [
    {
     "data": {
      "text/plain": [
       "customerID           0\n",
       "gender               0\n",
       "SeniorCitizen        0\n",
       "Partner              0\n",
       "Dependents           0\n",
       "tenure               0\n",
       "PhoneService         0\n",
       "MultipleLines        0\n",
       "InternetService      0\n",
       "OnlineSecurity       0\n",
       "OnlineBackup         0\n",
       "DeviceProtection     0\n",
       "TechSupport          0\n",
       "StreamingTV          0\n",
       "StreamingMovies      0\n",
       "Contract             0\n",
       "PaperlessBilling     0\n",
       "PaymentMethod        0\n",
       "MonthlyCharges       0\n",
       "TotalCharges        11\n",
       "Churn                0\n",
       "dtype: int64"
      ]
     },
     "execution_count": 11,
     "metadata": {},
     "output_type": "execute_result"
    }
   ],
   "source": [
    "df.isnull().sum()"
   ]
  },
  {
   "cell_type": "code",
   "execution_count": 12,
   "id": "01a0bdc4",
   "metadata": {},
   "outputs": [
    {
     "name": "stdout",
     "output_type": "stream",
     "text": [
      "2283.3004408418697\n",
      "1397.475\n"
     ]
    }
   ],
   "source": [
    "# Non_ Visualization statistical Analysis\n",
    "print(df['TotalCharges'].mean())\n",
    "print(df['TotalCharges'].median())"
   ]
  },
  {
   "cell_type": "code",
   "execution_count": 13,
   "id": "f87365bc",
   "metadata": {},
   "outputs": [],
   "source": [
    "# Imputation of Missing values using median as it doesn't effect the data\n",
    "df['TotalCharges'] = df['TotalCharges'].replace(np.nan,df['TotalCharges'].median())"
   ]
  },
  {
   "cell_type": "code",
   "execution_count": 14,
   "id": "6ef979d0",
   "metadata": {},
   "outputs": [
    {
     "data": {
      "text/plain": [
       "customerID          0\n",
       "gender              0\n",
       "SeniorCitizen       0\n",
       "Partner             0\n",
       "Dependents          0\n",
       "tenure              0\n",
       "PhoneService        0\n",
       "MultipleLines       0\n",
       "InternetService     0\n",
       "OnlineSecurity      0\n",
       "OnlineBackup        0\n",
       "DeviceProtection    0\n",
       "TechSupport         0\n",
       "StreamingTV         0\n",
       "StreamingMovies     0\n",
       "Contract            0\n",
       "PaperlessBilling    0\n",
       "PaymentMethod       0\n",
       "MonthlyCharges      0\n",
       "TotalCharges        0\n",
       "Churn               0\n",
       "dtype: int64"
      ]
     },
     "execution_count": 14,
     "metadata": {},
     "output_type": "execute_result"
    }
   ],
   "source": [
    "df.isnull().sum()"
   ]
  },
  {
   "cell_type": "markdown",
   "id": "c08d2c58",
   "metadata": {},
   "source": [
    "# **Exploratory Data Analysis**"
   ]
  },
  {
   "cell_type": "markdown",
   "id": "48e7126e",
   "metadata": {},
   "source": [
    "# Univariate Analysis\n",
    "\n",
    "**Non-Viz**  \n",
    "Min  \n",
    "Max  \n",
    "Central tendency  \n",
    "Dispersion  \n",
    "\n",
    "**Viz**  \n",
    "plot of Distribution - Distribution  \n",
    "plot of BoxPlot - Outliers  "
   ]
  },
  {
   "cell_type": "markdown",
   "id": "c304b25f",
   "metadata": {},
   "source": [
    "## Analysing gender Feature - Categorical"
   ]
  },
  {
   "cell_type": "code",
   "execution_count": 15,
   "id": "0b60f7ca",
   "metadata": {},
   "outputs": [
    {
     "data": {
      "text/plain": [
       "Male      3555\n",
       "Female    3488\n",
       "Name: gender, dtype: int64"
      ]
     },
     "execution_count": 15,
     "metadata": {},
     "output_type": "execute_result"
    }
   ],
   "source": [
    "# getting value_counts()\n",
    "df['gender'].value_counts()"
   ]
  },
  {
   "cell_type": "code",
   "execution_count": 16,
   "id": "ada634dd",
   "metadata": {},
   "outputs": [
    {
     "data": {
      "text/plain": [
       "Male      0.504756\n",
       "Female    0.495244\n",
       "Name: gender, dtype: float64"
      ]
     },
     "execution_count": 16,
     "metadata": {},
     "output_type": "execute_result"
    }
   ],
   "source": [
    "# getting value_counts() by normalization\n",
    "df['gender'].value_counts(normalize = True)"
   ]
  },
  {
   "cell_type": "code",
   "execution_count": 17,
   "id": "75cae719",
   "metadata": {},
   "outputs": [
    {
     "data": {
      "text/plain": [
       "<AxesSubplot:>"
      ]
     },
     "execution_count": 17,
     "metadata": {},
     "output_type": "execute_result"
    },
    {
     "data": {
      "image/png": "[encoded data removed]",
      "text/plain": [
       "<Figure size 432x288 with 1 Axes>"
      ]
     },
     "metadata": {
      "needs_background": "light"
     },
     "output_type": "display_data"
    }
   ],
   "source": [
    "# Plotting barplot for Gender feature\n",
    "df['gender'].value_counts().plot(kind = 'bar')"
   ]
  },
  {
   "cell_type": "markdown",
   "id": "a4354702",
   "metadata": {},
   "source": [
    "## Analysing SeniorCitizen Feature - Numerical"
   ]
  },
  {
   "cell_type": "code",
   "execution_count": 18,
   "id": "5ff8fa2b",
   "metadata": {},
   "outputs": [
    {
     "name": "stdout",
     "output_type": "stream",
     "text": [
      "SeniorCitizen_min: 0\n",
      "SeniorCitizen_max: 1\n",
      "SeniorCitizen_mean: 0.1621468124378816\n",
      "SeniorCitizen_median: 0.0\n",
      "SeniorCitizen_std: 0.36861160561002687\n"
     ]
    }
   ],
   "source": [
    "# Non-visualization statistical analysis\n",
    "print('SeniorCitizen_min:',df['SeniorCitizen'].min())\n",
    "print('SeniorCitizen_max:',df['SeniorCitizen'].max())\n",
    "print('SeniorCitizen_mean:',df['SeniorCitizen'].mean())\n",
    "print('SeniorCitizen_median:',df['SeniorCitizen'].median())\n",
    "print('SeniorCitizen_std:',df['SeniorCitizen'].std())"
   ]
  },
  {
   "cell_type": "code",
   "execution_count": 19,
   "id": "febc8d83",
   "metadata": {},
   "outputs": [
    {
     "data": {
      "text/plain": [
       "0    5901\n",
       "1    1142\n",
       "Name: SeniorCitizen, dtype: int64"
      ]
     },
     "execution_count": 19,
     "metadata": {},
     "output_type": "execute_result"
    }
   ],
   "source": [
    "# Calculating No of senior citizens\n",
    "df['SeniorCitizen'].value_counts()"
   ]
  },
  {
   "cell_type": "code",
   "execution_count": 20,
   "id": "90a79f3e",
   "metadata": {},
   "outputs": [
    {
     "data": {
      "text/plain": [
       "0    0.837853\n",
       "1    0.162147\n",
       "Name: SeniorCitizen, dtype: float64"
      ]
     },
     "execution_count": 20,
     "metadata": {},
     "output_type": "execute_result"
    }
   ],
   "source": [
    "# Normalization of Senior Citizen feature\n",
    "df['SeniorCitizen'].value_counts(normalize= True)"
   ]
  },
  {
   "cell_type": "code",
   "execution_count": 21,
   "id": "419ee19c",
   "metadata": {},
   "outputs": [
    {
     "data": {
      "text/plain": [
       "<AxesSubplot:>"
      ]
     },
     "execution_count": 21,
     "metadata": {},
     "output_type": "execute_result"
    },
    {
     "data": {
      "image/png": "[encoded data removed]",
      "text/plain": [
       "<Figure size 432x288 with 1 Axes>"
      ]
     },
     "metadata": {
      "needs_background": "light"
     },
     "output_type": "display_data"
    }
   ],
   "source": [
    "# Detecting outliers using boxplot\n",
    "df['SeniorCitizen'].value_counts(normalize= True).plot(kind = 'box')"
   ]
  },
  {
   "cell_type": "markdown",
   "id": "3b2549e4",
   "metadata": {},
   "source": [
    "#### **Observation:**\n",
    "There are no Outliers in Senior Citizen feature."
   ]
  },
  {
   "cell_type": "code",
   "execution_count": 22,
   "id": "4c4d9a3c",
   "metadata": {},
   "outputs": [
    {
     "data": {
      "text/plain": [
       "<AxesSubplot:ylabel='Density'>"
      ]
     },
     "execution_count": 22,
     "metadata": {},
     "output_type": "execute_result"
    },
    {
     "data": {
      "image/png": "[encoded data removed]",
      "text/plain": [
       "<Figure size 432x288 with 1 Axes>"
      ]
     },
     "metadata": {
      "needs_background": "light"
     },
     "output_type": "display_data"
    }
   ],
   "source": [
    "# Distribution Of SeniorCitizen Feature using kde plot\n",
    "df['SeniorCitizen'].plot(kind = 'kde')"
   ]
  },
  {
   "cell_type": "markdown",
   "id": "1d3f4722",
   "metadata": {},
   "source": [
    "#### **Observation:**\n",
    "The distribution is like normal distribution,with some disperencies."
   ]
  },
  {
   "cell_type": "code",
   "execution_count": 23,
   "id": "db95c403",
   "metadata": {},
   "outputs": [
    {
     "data": {
      "image/png": "[encoded data removed]",
      "text/plain": [
       "<Figure size 432x288 with 1 Axes>"
      ]
     },
     "metadata": {
      "needs_background": "light"
     },
     "output_type": "display_data"
    }
   ],
   "source": [
    "# Checking normal distribution for df using QQ plot\n",
    "stats.probplot(df['SeniorCitizen'],dist='norm',plot=plt)\n",
    "\n",
    "plt.grid()"
   ]
  },
  {
   "cell_type": "markdown",
   "id": "f306bf34",
   "metadata": {},
   "source": [
    "#### **Observation:**\n",
    "-- Even though Mean and Median is close to each other, By above QQ-plot the SeniorCitizen feature is not normally distributed."
   ]
  },
  {
   "cell_type": "markdown",
   "id": "a67a991b",
   "metadata": {},
   "source": [
    "## Analysing Partner Feature - Categorical"
   ]
  },
  {
   "cell_type": "code",
   "execution_count": 24,
   "id": "a55cd5cf",
   "metadata": {},
   "outputs": [
    {
     "data": {
      "text/plain": [
       "No     3641\n",
       "Yes    3402\n",
       "Name: Partner, dtype: int64"
      ]
     },
     "execution_count": 24,
     "metadata": {},
     "output_type": "execute_result"
    }
   ],
   "source": [
    "# getting value_counts()\n",
    "df['Partner'].value_counts()"
   ]
  },
  {
   "cell_type": "code",
   "execution_count": 25,
   "id": "1c9056d5",
   "metadata": {},
   "outputs": [
    {
     "data": {
      "text/plain": [
       "No     0.516967\n",
       "Yes    0.483033\n",
       "Name: Partner, dtype: float64"
      ]
     },
     "execution_count": 25,
     "metadata": {},
     "output_type": "execute_result"
    }
   ],
   "source": [
    "# getting value_counts() with normalization\n",
    "df['Partner'].value_counts(normalize= True)"
   ]
  },
  {
   "cell_type": "code",
   "execution_count": 26,
   "id": "d3f8f96d",
   "metadata": {},
   "outputs": [
    {
     "data": {
      "text/plain": [
       "<AxesSubplot:>"
      ]
     },
     "execution_count": 26,
     "metadata": {},
     "output_type": "execute_result"
    },
    {
     "data": {
      "image/png": "[encoded data removed]",
      "text/plain": [
       "<Figure size 432x288 with 1 Axes>"
      ]
     },
     "metadata": {
      "needs_background": "light"
     },
     "output_type": "display_data"
    }
   ],
   "source": [
    "# Plotting barplot for partner feature\n",
    "df['Partner'].value_counts().plot(kind = 'bar')"
   ]
  },
  {
   "cell_type": "markdown",
   "id": "986c2fb9",
   "metadata": {},
   "source": [
    "#### **Observation:**\n",
    "From above plot,it is clear that Having No partner is more in number than Having A partner."
   ]
  },
  {
   "cell_type": "markdown",
   "id": "5521d293",
   "metadata": {},
   "source": [
    "## Analysing Dependents  Feature - Categorical"
   ]
  },
  {
   "cell_type": "code",
   "execution_count": 27,
   "id": "201d9cee",
   "metadata": {},
   "outputs": [
    {
     "data": {
      "text/plain": [
       "No     4933\n",
       "Yes    2110\n",
       "Name: Dependents, dtype: int64"
      ]
     },
     "execution_count": 27,
     "metadata": {},
     "output_type": "execute_result"
    }
   ],
   "source": [
    "# getting value_counts()\n",
    "df['Dependents'].value_counts()"
   ]
  },
  {
   "cell_type": "code",
   "execution_count": 28,
   "id": "ca79a6eb",
   "metadata": {},
   "outputs": [
    {
     "data": {
      "text/plain": [
       "No     0.700412\n",
       "Yes    0.299588\n",
       "Name: Dependents, dtype: float64"
      ]
     },
     "execution_count": 28,
     "metadata": {},
     "output_type": "execute_result"
    }
   ],
   "source": [
    "# getting value_counts() with normalization\n",
    "df['Dependents'].value_counts(normalize= True)"
   ]
  },
  {
   "cell_type": "code",
   "execution_count": 29,
   "id": "43053023",
   "metadata": {},
   "outputs": [
    {
     "data": {
      "text/plain": [
       "<AxesSubplot:>"
      ]
     },
     "execution_count": 29,
     "metadata": {},
     "output_type": "execute_result"
    },
    {
     "data": {
      "image/png": "[encoded data removed]",
      "text/plain": [
       "<Figure size 432x288 with 1 Axes>"
      ]
     },
     "metadata": {
      "needs_background": "light"
     },
     "output_type": "display_data"
    }
   ],
   "source": [
    "# Plotting barplot for partner feature\n",
    "df['Dependents'].value_counts().plot(kind = 'bar')"
   ]
  },
  {
   "cell_type": "markdown",
   "id": "9905a4f4",
   "metadata": {},
   "source": [
    "#### **Observation:**\n",
    "-- More people are not having dependents."
   ]
  },
  {
   "cell_type": "markdown",
   "id": "79a4e731",
   "metadata": {},
   "source": [
    "## Analysing Tenure Feature - Numerical\n",
    "-- Customer tenure in a telecom company refers to the length of time a customer has been using the company's services."
   ]
  },
  {
   "cell_type": "code",
   "execution_count": 30,
   "id": "0ae7f5b7",
   "metadata": {},
   "outputs": [
    {
     "name": "stdout",
     "output_type": "stream",
     "text": [
      "Tenure_min: 0\n",
      "Tenure_max: 72\n",
      "Tenure_mean: 32.37114865824223\n",
      "Tenure_median: 29.0\n",
      "Tenure_std: 24.55948102309423\n"
     ]
    }
   ],
   "source": [
    "# Non-visualization statistical analysis\n",
    "print('Tenure_min:',df['tenure'].min())\n",
    "print('Tenure_max:',df['tenure'].max())\n",
    "print('Tenure_mean:',df['tenure'].mean())\n",
    "print('Tenure_median:',df['tenure'].median())\n",
    "print('Tenure_std:',df['tenure'].std())"
   ]
  },
  {
   "cell_type": "code",
   "execution_count": 31,
   "id": "efa05a5c",
   "metadata": {},
   "outputs": [
    {
     "data": {
      "text/plain": [
       "<AxesSubplot:>"
      ]
     },
     "execution_count": 31,
     "metadata": {},
     "output_type": "execute_result"
    },
    {
     "data": {
      "image/png": "[encoded data removed]",
      "text/plain": [
       "<Figure size 432x288 with 1 Axes>"
      ]
     },
     "metadata": {
      "needs_background": "light"
     },
     "output_type": "display_data"
    }
   ],
   "source": [
    "# Detecting the outliers using boxplot\n",
    "df['tenure'].plot(kind = 'box')"
   ]
  },
  {
   "cell_type": "markdown",
   "id": "f61f4fa7",
   "metadata": {},
   "source": [
    "#### **Observation:**\n",
    "-- There are no outliers in tenure column."
   ]
  },
  {
   "cell_type": "code",
   "execution_count": 32,
   "id": "d0fbc499",
   "metadata": {},
   "outputs": [
    {
     "data": {
      "text/plain": [
       "<AxesSubplot:ylabel='Density'>"
      ]
     },
     "execution_count": 32,
     "metadata": {},
     "output_type": "execute_result"
    },
    {
     "data": {
      "image/png": "[encoded data removed]",
      "text/plain": [
       "<Figure size 432x288 with 1 Axes>"
      ]
     },
     "metadata": {
      "needs_background": "light"
     },
     "output_type": "display_data"
    }
   ],
   "source": [
    "# Distribution Of tenure Feature using kde plot\n",
    "df['tenure'].plot(kind = 'kde')"
   ]
  },
  {
   "cell_type": "markdown",
   "id": "58262eec",
   "metadata": {},
   "source": [
    "-- As mean and median are similar, It looks like normal distribution.So,we should find out whether it is exactly follows normal distribution or not."
   ]
  },
  {
   "cell_type": "code",
   "execution_count": 33,
   "id": "daab0c9a",
   "metadata": {},
   "outputs": [
    {
     "data": {
      "image/png": "[encoded data removed]",
      "text/plain": [
       "<Figure size 432x288 with 1 Axes>"
      ]
     },
     "metadata": {
      "needs_background": "light"
     },
     "output_type": "display_data"
    }
   ],
   "source": [
    "# checking for normal distribution using QQ-plot\n",
    "stats.probplot(df['tenure'],dist='norm',plot=plt)\n",
    "\n",
    "plt.grid()"
   ]
  },
  {
   "cell_type": "markdown",
   "id": "4fb821c4",
   "metadata": {},
   "source": [
    "#### **Observation:**\n",
    "-- By the above QQ-plot,the tenure feature is not normally distributed."
   ]
  },
  {
   "cell_type": "markdown",
   "id": "8ab4b563",
   "metadata": {},
   "source": [
    "## Analysing PhoneService Feature - Categorical"
   ]
  },
  {
   "cell_type": "code",
   "execution_count": 34,
   "id": "f8d60a54",
   "metadata": {},
   "outputs": [
    {
     "data": {
      "text/plain": [
       "Yes    6361\n",
       "No      682\n",
       "Name: PhoneService, dtype: int64"
      ]
     },
     "execution_count": 34,
     "metadata": {},
     "output_type": "execute_result"
    }
   ],
   "source": [
    "# getting value_counts()\n",
    "df['PhoneService'].value_counts()"
   ]
  },
  {
   "cell_type": "code",
   "execution_count": 35,
   "id": "16ca898d",
   "metadata": {},
   "outputs": [
    {
     "data": {
      "text/plain": [
       "Yes    0.903166\n",
       "No     0.096834\n",
       "Name: PhoneService, dtype: float64"
      ]
     },
     "execution_count": 35,
     "metadata": {},
     "output_type": "execute_result"
    }
   ],
   "source": [
    "# getting value_counts() by normalization\n",
    "df['PhoneService'].value_counts(normalize = True)"
   ]
  },
  {
   "cell_type": "code",
   "execution_count": 36,
   "id": "8fe3acfc",
   "metadata": {},
   "outputs": [
    {
     "data": {
      "text/plain": [
       "<AxesSubplot:>"
      ]
     },
     "execution_count": 36,
     "metadata": {},
     "output_type": "execute_result"
    },
    {
     "data": {
      "image/png": "[encoded data removed]",
      "text/plain": [
       "<Figure size 432x288 with 1 Axes>"
      ]
     },
     "metadata": {
      "needs_background": "light"
     },
     "output_type": "display_data"
    }
   ],
   "source": [
    "# Plotting barplot for phoneservice feature\n",
    "df['PhoneService'].value_counts().plot(kind = 'bar')"
   ]
  },
  {
   "cell_type": "markdown",
   "id": "b467689c",
   "metadata": {},
   "source": [
    "#### **Observation:**\n",
    "-- By the above plot,it is clear that more people are having Phone services."
   ]
  },
  {
   "cell_type": "markdown",
   "id": "48999e5d",
   "metadata": {},
   "source": [
    "## Analysing MultipleLines Feature - Categorical"
   ]
  },
  {
   "cell_type": "code",
   "execution_count": 37,
   "id": "03b74c14",
   "metadata": {},
   "outputs": [
    {
     "data": {
      "text/plain": [
       "No                  3390\n",
       "Yes                 2971\n",
       "No phone service     682\n",
       "Name: MultipleLines, dtype: int64"
      ]
     },
     "execution_count": 37,
     "metadata": {},
     "output_type": "execute_result"
    }
   ],
   "source": [
    "# getting value_counts()\n",
    "df['MultipleLines'].value_counts()"
   ]
  },
  {
   "cell_type": "code",
   "execution_count": 38,
   "id": "1dd3e591",
   "metadata": {},
   "outputs": [
    {
     "data": {
      "text/plain": [
       "No                  0.481329\n",
       "Yes                 0.421837\n",
       "No phone service    0.096834\n",
       "Name: MultipleLines, dtype: float64"
      ]
     },
     "execution_count": 38,
     "metadata": {},
     "output_type": "execute_result"
    }
   ],
   "source": [
    "# getting value_counts() by normalization\n",
    "df['MultipleLines'].value_counts(normalize = True)"
   ]
  },
  {
   "cell_type": "code",
   "execution_count": 39,
   "id": "b8de0ca8",
   "metadata": {},
   "outputs": [
    {
     "data": {
      "text/plain": [
       "<AxesSubplot:>"
      ]
     },
     "execution_count": 39,
     "metadata": {},
     "output_type": "execute_result"
    },
    {
     "data": {
      "image/png": "[encoded data removed]",
      "text/plain": [
       "<Figure size 432x288 with 1 Axes>"
      ]
     },
     "metadata": {
      "needs_background": "light"
     },
     "output_type": "display_data"
    }
   ],
   "source": [
    "# Plotting barplot for MultipleLines feature\n",
    "df['MultipleLines'].value_counts().plot(kind = 'bar')"
   ]
  },
  {
   "cell_type": "markdown",
   "id": "5024b7af",
   "metadata": {},
   "source": [
    "#### **Observation:**\n",
    "-- Nearly 3400 people are not having multiplelines.where as nearly 2900 are having multiplelines.  \n",
    "and very people are not having any phone services."
   ]
  },
  {
   "cell_type": "markdown",
   "id": "e0c35b9b",
   "metadata": {},
   "source": [
    "## Analysing InternetService Feature - Categorical"
   ]
  },
  {
   "cell_type": "code",
   "execution_count": 40,
   "id": "02cdd3ff",
   "metadata": {},
   "outputs": [
    {
     "data": {
      "text/plain": [
       "Fiber optic    3096\n",
       "DSL            2421\n",
       "No             1526\n",
       "Name: InternetService, dtype: int64"
      ]
     },
     "execution_count": 40,
     "metadata": {},
     "output_type": "execute_result"
    }
   ],
   "source": [
    "# getting value_counts()\n",
    "df['InternetService'].value_counts()"
   ]
  },
  {
   "cell_type": "code",
   "execution_count": 41,
   "id": "4a67c79a",
   "metadata": {},
   "outputs": [
    {
     "data": {
      "text/plain": [
       "Fiber optic    0.439585\n",
       "DSL            0.343746\n",
       "No             0.216669\n",
       "Name: InternetService, dtype: float64"
      ]
     },
     "execution_count": 41,
     "metadata": {},
     "output_type": "execute_result"
    }
   ],
   "source": [
    "# getting value_counts() by normalization\n",
    "df['InternetService'].value_counts(normalize = True)"
   ]
  },
  {
   "cell_type": "code",
   "execution_count": 42,
   "id": "3bdaf272",
   "metadata": {},
   "outputs": [
    {
     "data": {
      "text/plain": [
       "<AxesSubplot:>"
      ]
     },
     "execution_count": 42,
     "metadata": {},
     "output_type": "execute_result"
    },
    {
     "data": {
      "image/png": "[encoded data removed]",
      "text/plain": [
       "<Figure size 432x288 with 1 Axes>"
      ]
     },
     "metadata": {
      "needs_background": "light"
     },
     "output_type": "display_data"
    }
   ],
   "source": [
    "# Plotting barplot for InternetService feature\n",
    "df['InternetService'].value_counts().plot(kind = 'bar')"
   ]
  },
  {
   "cell_type": "markdown",
   "id": "b61a33dd",
   "metadata": {},
   "source": [
    "#### **Observation:**\n",
    "-- almost 3000 people are having Fiberoptic internet service.and  people those who are not having any internetservice is nearly 1500  "
   ]
  },
  {
   "cell_type": "markdown",
   "id": "3ccfb5ae",
   "metadata": {},
   "source": [
    "## Analysing OnlineSecurity Feature - Categorical"
   ]
  },
  {
   "cell_type": "code",
   "execution_count": 43,
   "id": "1a495b4e",
   "metadata": {},
   "outputs": [
    {
     "data": {
      "text/plain": [
       "No                     3498\n",
       "Yes                    2019\n",
       "No internet service    1526\n",
       "Name: OnlineSecurity, dtype: int64"
      ]
     },
     "execution_count": 43,
     "metadata": {},
     "output_type": "execute_result"
    }
   ],
   "source": [
    "# getting value_counts()\n",
    "df['OnlineSecurity'].value_counts()"
   ]
  },
  {
   "cell_type": "code",
   "execution_count": 44,
   "id": "77efecaa",
   "metadata": {},
   "outputs": [
    {
     "data": {
      "text/plain": [
       "No                     0.496663\n",
       "Yes                    0.286668\n",
       "No internet service    0.216669\n",
       "Name: OnlineSecurity, dtype: float64"
      ]
     },
     "execution_count": 44,
     "metadata": {},
     "output_type": "execute_result"
    }
   ],
   "source": [
    "# getting value_counts() by normalization\n",
    "df['OnlineSecurity'].value_counts(normalize = True)"
   ]
  },
  {
   "cell_type": "code",
   "execution_count": 45,
   "id": "daafd7b4",
   "metadata": {},
   "outputs": [
    {
     "data": {
      "text/plain": [
       "<AxesSubplot:>"
      ]
     },
     "execution_count": 45,
     "metadata": {},
     "output_type": "execute_result"
    },
    {
     "data": {
      "image/png": "[encoded data removed]",
      "text/plain": [
       "<Figure size 432x288 with 1 Axes>"
      ]
     },
     "metadata": {
      "needs_background": "light"
     },
     "output_type": "display_data"
    }
   ],
   "source": [
    "# Plotting barplot for OnlineSecurity feature\n",
    "df['OnlineSecurity'].value_counts().plot(kind = 'bar')"
   ]
  },
  {
   "cell_type": "markdown",
   "id": "08a6159d",
   "metadata": {},
   "source": [
    "#### **Observation:**\n",
    "-- Nearly 3300 people are not having onlinesecurity."
   ]
  },
  {
   "cell_type": "markdown",
   "id": "24f86ec2",
   "metadata": {},
   "source": [
    "## Analysing OnlineBackup Feature - Categorical"
   ]
  },
  {
   "cell_type": "code",
   "execution_count": 46,
   "id": "d8d90393",
   "metadata": {},
   "outputs": [
    {
     "data": {
      "text/plain": [
       "No                     3088\n",
       "Yes                    2429\n",
       "No internet service    1526\n",
       "Name: OnlineBackup, dtype: int64"
      ]
     },
     "execution_count": 46,
     "metadata": {},
     "output_type": "execute_result"
    }
   ],
   "source": [
    "# getting value_counts()\n",
    "df['OnlineBackup'].value_counts()"
   ]
  },
  {
   "cell_type": "code",
   "execution_count": 47,
   "id": "b4417005",
   "metadata": {},
   "outputs": [
    {
     "data": {
      "text/plain": [
       "No                     0.438450\n",
       "Yes                    0.344881\n",
       "No internet service    0.216669\n",
       "Name: OnlineBackup, dtype: float64"
      ]
     },
     "execution_count": 47,
     "metadata": {},
     "output_type": "execute_result"
    }
   ],
   "source": [
    "# getting value_counts() by normalization\n",
    "df['OnlineBackup'].value_counts(normalize = True)"
   ]
  },
  {
   "cell_type": "code",
   "execution_count": 48,
   "id": "8091a6f6",
   "metadata": {},
   "outputs": [
    {
     "data": {
      "text/plain": [
       "<AxesSubplot:>"
      ]
     },
     "execution_count": 48,
     "metadata": {},
     "output_type": "execute_result"
    },
    {
     "data": {
      "image/png": "[encoded data removed]",
      "text/plain": [
       "<Figure size 432x288 with 1 Axes>"
      ]
     },
     "metadata": {
      "needs_background": "light"
     },
     "output_type": "display_data"
    }
   ],
   "source": [
    "# Plotting barplot for OnlineBackUp feature\n",
    "df['OnlineBackup'].value_counts().plot(kind = 'bar')"
   ]
  },
  {
   "cell_type": "markdown",
   "id": "33716b94",
   "metadata": {},
   "source": [
    "#### **Observation:**\n",
    "-- More people are not having onlineBackup option."
   ]
  },
  {
   "cell_type": "markdown",
   "id": "071ac0bb",
   "metadata": {},
   "source": [
    "## Analysing DeviceProtection Feature - Categorical"
   ]
  },
  {
   "cell_type": "code",
   "execution_count": 49,
   "id": "2e740042",
   "metadata": {},
   "outputs": [
    {
     "data": {
      "text/plain": [
       "No                     3095\n",
       "Yes                    2422\n",
       "No internet service    1526\n",
       "Name: DeviceProtection, dtype: int64"
      ]
     },
     "execution_count": 49,
     "metadata": {},
     "output_type": "execute_result"
    }
   ],
   "source": [
    "# getting value_counts()\n",
    "df['DeviceProtection'].value_counts()"
   ]
  },
  {
   "cell_type": "code",
   "execution_count": 50,
   "id": "9acf93a5",
   "metadata": {},
   "outputs": [
    {
     "data": {
      "text/plain": [
       "No                     0.439443\n",
       "Yes                    0.343888\n",
       "No internet service    0.216669\n",
       "Name: DeviceProtection, dtype: float64"
      ]
     },
     "execution_count": 50,
     "metadata": {},
     "output_type": "execute_result"
    }
   ],
   "source": [
    "# getting value_counts() by normalization\n",
    "df['DeviceProtection'].value_counts(normalize = True)"
   ]
  },
  {
   "cell_type": "code",
   "execution_count": 51,
   "id": "dc46515a",
   "metadata": {},
   "outputs": [
    {
     "data": {
      "text/plain": [
       "<AxesSubplot:>"
      ]
     },
     "execution_count": 51,
     "metadata": {},
     "output_type": "execute_result"
    },
    {
     "data": {
      "image/png": "[encoded data removed]",
      "text/plain": [
       "<Figure size 432x288 with 1 Axes>"
      ]
     },
     "metadata": {
      "needs_background": "light"
     },
     "output_type": "display_data"
    }
   ],
   "source": [
    "# Plotting barplot for DeviceProtection feature\n",
    "df['DeviceProtection'].value_counts().plot(kind = 'bar')"
   ]
  },
  {
   "cell_type": "markdown",
   "id": "c9f70296",
   "metadata": {},
   "source": [
    "#### **Observation:**\n",
    "-- Compared to other people more people are not having DeviceProtection."
   ]
  },
  {
   "cell_type": "markdown",
   "id": "c1e78211",
   "metadata": {},
   "source": [
    "## Analysing TechSupport Feature - Categorical"
   ]
  },
  {
   "cell_type": "code",
   "execution_count": 52,
   "id": "084946ff",
   "metadata": {},
   "outputs": [
    {
     "data": {
      "text/plain": [
       "No                     3473\n",
       "Yes                    2044\n",
       "No internet service    1526\n",
       "Name: TechSupport, dtype: int64"
      ]
     },
     "execution_count": 52,
     "metadata": {},
     "output_type": "execute_result"
    }
   ],
   "source": [
    "# getting value_counts()\n",
    "df['TechSupport'].value_counts()"
   ]
  },
  {
   "cell_type": "code",
   "execution_count": 53,
   "id": "49efa193",
   "metadata": {},
   "outputs": [
    {
     "data": {
      "text/plain": [
       "No                     0.493114\n",
       "Yes                    0.290217\n",
       "No internet service    0.216669\n",
       "Name: TechSupport, dtype: float64"
      ]
     },
     "execution_count": 53,
     "metadata": {},
     "output_type": "execute_result"
    }
   ],
   "source": [
    "# getting value_counts() by normalization\n",
    "df['TechSupport'].value_counts(normalize = True)"
   ]
  },
  {
   "cell_type": "code",
   "execution_count": 54,
   "id": "e0ea306a",
   "metadata": {},
   "outputs": [
    {
     "data": {
      "text/plain": [
       "<AxesSubplot:>"
      ]
     },
     "execution_count": 54,
     "metadata": {},
     "output_type": "execute_result"
    },
    {
     "data": {
      "image/png": "[encoded data removed]",
      "text/plain": [
       "<Figure size 432x288 with 1 Axes>"
      ]
     },
     "metadata": {
      "needs_background": "light"
     },
     "output_type": "display_data"
    }
   ],
   "source": [
    "# Plotting barplot for TechSupport feature\n",
    "df['TechSupport'].value_counts().plot(kind = 'bar')"
   ]
  },
  {
   "cell_type": "markdown",
   "id": "5d3dffa0",
   "metadata": {},
   "source": [
    "#### **Observation:**\n",
    "-- More people are not having technical support."
   ]
  },
  {
   "cell_type": "markdown",
   "id": "031a98ff",
   "metadata": {},
   "source": [
    "## Analysing StreamingTV Feature - Categorical"
   ]
  },
  {
   "cell_type": "code",
   "execution_count": 55,
   "id": "ebb51de3",
   "metadata": {},
   "outputs": [
    {
     "data": {
      "text/plain": [
       "No                     2810\n",
       "Yes                    2707\n",
       "No internet service    1526\n",
       "Name: StreamingTV, dtype: int64"
      ]
     },
     "execution_count": 55,
     "metadata": {},
     "output_type": "execute_result"
    }
   ],
   "source": [
    "# getting value_counts()\n",
    "df['StreamingTV'].value_counts()"
   ]
  },
  {
   "cell_type": "code",
   "execution_count": 56,
   "id": "842bcad0",
   "metadata": {},
   "outputs": [
    {
     "data": {
      "text/plain": [
       "No                     0.398978\n",
       "Yes                    0.384353\n",
       "No internet service    0.216669\n",
       "Name: StreamingTV, dtype: float64"
      ]
     },
     "execution_count": 56,
     "metadata": {},
     "output_type": "execute_result"
    }
   ],
   "source": [
    "# getting value_counts() by normalization\n",
    "df['StreamingTV'].value_counts(normalize = True)"
   ]
  },
  {
   "cell_type": "code",
   "execution_count": 57,
   "id": "09499718",
   "metadata": {},
   "outputs": [
    {
     "data": {
      "text/plain": [
       "<AxesSubplot:>"
      ]
     },
     "execution_count": 57,
     "metadata": {},
     "output_type": "execute_result"
    },
    {
     "data": {
      "image/png": "[encoded data removed]",
      "text/plain": [
       "<Figure size 432x288 with 1 Axes>"
      ]
     },
     "metadata": {
      "needs_background": "light"
     },
     "output_type": "display_data"
    }
   ],
   "source": [
    "# Plotting barplot for StreamingTv feature\n",
    "df['StreamingTV'].value_counts().plot(kind = 'bar')"
   ]
  },
  {
   "cell_type": "markdown",
   "id": "634ad76e",
   "metadata": {},
   "source": [
    "#### **Observation:**\n",
    "-- Almost Both People StreamingTv and Not StreamingTv is similar with minimum difference."
   ]
  },
  {
   "cell_type": "markdown",
   "id": "1ff3faaf",
   "metadata": {},
   "source": [
    "## Analysing StreamingMovies Feature - Categorical"
   ]
  },
  {
   "cell_type": "code",
   "execution_count": 58,
   "id": "1ad88449",
   "metadata": {},
   "outputs": [
    {
     "data": {
      "text/plain": [
       "No                     2785\n",
       "Yes                    2732\n",
       "No internet service    1526\n",
       "Name: StreamingMovies, dtype: int64"
      ]
     },
     "execution_count": 58,
     "metadata": {},
     "output_type": "execute_result"
    }
   ],
   "source": [
    "# getting value_counts()\n",
    "df['StreamingMovies'].value_counts()"
   ]
  },
  {
   "cell_type": "code",
   "execution_count": 59,
   "id": "4765efd5",
   "metadata": {},
   "outputs": [
    {
     "data": {
      "text/plain": [
       "No                     0.395428\n",
       "Yes                    0.387903\n",
       "No internet service    0.216669\n",
       "Name: StreamingMovies, dtype: float64"
      ]
     },
     "execution_count": 59,
     "metadata": {},
     "output_type": "execute_result"
    }
   ],
   "source": [
    "# getting value_counts() by normalization\n",
    "df['StreamingMovies'].value_counts(normalize = True)"
   ]
  },
  {
   "cell_type": "code",
   "execution_count": 60,
   "id": "52a83aa1",
   "metadata": {},
   "outputs": [
    {
     "data": {
      "text/plain": [
       "<AxesSubplot:>"
      ]
     },
     "execution_count": 60,
     "metadata": {},
     "output_type": "execute_result"
    },
    {
     "data": {
      "image/png": "[encoded data removed]",
      "text/plain": [
       "<Figure size 432x288 with 1 Axes>"
      ]
     },
     "metadata": {
      "needs_background": "light"
     },
     "output_type": "display_data"
    }
   ],
   "source": [
    "# Plotting barplot for StreamingMovies feature\n",
    "df['StreamingMovies'].value_counts().plot(kind = 'bar')"
   ]
  },
  {
   "cell_type": "markdown",
   "id": "928141a9",
   "metadata": {},
   "source": [
    "#### **Observation:**\n",
    "-- More people are not streamingMovies."
   ]
  },
  {
   "cell_type": "markdown",
   "id": "0c6011c3",
   "metadata": {},
   "source": [
    "## Analysing Contract Feature - Categorical"
   ]
  },
  {
   "cell_type": "code",
   "execution_count": 61,
   "id": "31b512c6",
   "metadata": {},
   "outputs": [
    {
     "data": {
      "text/plain": [
       "Month-to-month    3875\n",
       "Two year          1695\n",
       "One year          1473\n",
       "Name: Contract, dtype: int64"
      ]
     },
     "execution_count": 61,
     "metadata": {},
     "output_type": "execute_result"
    }
   ],
   "source": [
    "# getting value_counts()\n",
    "df['Contract'].value_counts()"
   ]
  },
  {
   "cell_type": "code",
   "execution_count": 62,
   "id": "febb1cf4",
   "metadata": {},
   "outputs": [
    {
     "data": {
      "text/plain": [
       "Month-to-month    0.550192\n",
       "Two year          0.240664\n",
       "One year          0.209144\n",
       "Name: Contract, dtype: float64"
      ]
     },
     "execution_count": 62,
     "metadata": {},
     "output_type": "execute_result"
    }
   ],
   "source": [
    "# getting value_counts() by normalization\n",
    "df['Contract'].value_counts(normalize = True)"
   ]
  },
  {
   "cell_type": "code",
   "execution_count": 63,
   "id": "8aee581c",
   "metadata": {},
   "outputs": [
    {
     "data": {
      "text/plain": [
       "<AxesSubplot:>"
      ]
     },
     "execution_count": 63,
     "metadata": {},
     "output_type": "execute_result"
    },
    {
     "data": {
      "image/png": "[encoded data removed]",
      "text/plain": [
       "<Figure size 432x288 with 1 Axes>"
      ]
     },
     "metadata": {
      "needs_background": "light"
     },
     "output_type": "display_data"
    }
   ],
   "source": [
    "# Plotting barplot for contract feature\n",
    "df['Contract'].value_counts().plot(kind = 'bar')"
   ]
  },
  {
   "cell_type": "markdown",
   "id": "be1e7fa1",
   "metadata": {},
   "source": [
    "#### **Observation:**\n",
    "-- More people are adpoting to Month-Month contract.   \n",
    "-- Next is For Two-Years contract.   \n",
    "-- Nnd next is Yearly contract."
   ]
  },
  {
   "cell_type": "markdown",
   "id": "61741028",
   "metadata": {},
   "source": [
    "## Analysing PaperlessBilling Feature - Categorical"
   ]
  },
  {
   "cell_type": "code",
   "execution_count": 64,
   "id": "452d9bb3",
   "metadata": {},
   "outputs": [
    {
     "data": {
      "text/plain": [
       "Yes    4171\n",
       "No     2872\n",
       "Name: PaperlessBilling, dtype: int64"
      ]
     },
     "execution_count": 64,
     "metadata": {},
     "output_type": "execute_result"
    }
   ],
   "source": [
    "# getting value_counts()\n",
    "df['PaperlessBilling'].value_counts()"
   ]
  },
  {
   "cell_type": "code",
   "execution_count": 65,
   "id": "2f14469e",
   "metadata": {},
   "outputs": [
    {
     "data": {
      "text/plain": [
       "Yes    0.592219\n",
       "No     0.407781\n",
       "Name: PaperlessBilling, dtype: float64"
      ]
     },
     "execution_count": 65,
     "metadata": {},
     "output_type": "execute_result"
    }
   ],
   "source": [
    "# getting value_counts() by normalization\n",
    "df['PaperlessBilling'].value_counts(normalize = True)"
   ]
  },
  {
   "cell_type": "code",
   "execution_count": 66,
   "id": "7939d752",
   "metadata": {},
   "outputs": [
    {
     "data": {
      "text/plain": [
       "<AxesSubplot:>"
      ]
     },
     "execution_count": 66,
     "metadata": {},
     "output_type": "execute_result"
    },
    {
     "data": {
      "image/png": "[encoded data removed]",
      "text/plain": [
       "<Figure size 432x288 with 1 Axes>"
      ]
     },
     "metadata": {
      "needs_background": "light"
     },
     "output_type": "display_data"
    }
   ],
   "source": [
    "# Plotting barplot for PaperLessBilling feature\n",
    "df['PaperlessBilling'].value_counts().plot(kind = 'bar')"
   ]
  },
  {
   "cell_type": "markdown",
   "id": "dfccbcf3",
   "metadata": {},
   "source": [
    "#### **Observation:**\n",
    "-- More people are choosing Paperlessbilling.So,they might me older people."
   ]
  },
  {
   "cell_type": "markdown",
   "id": "4798e993",
   "metadata": {},
   "source": [
    "## Analysing PaymentMethod Feature - Categorical"
   ]
  },
  {
   "cell_type": "code",
   "execution_count": 67,
   "id": "88f4f789",
   "metadata": {},
   "outputs": [
    {
     "data": {
      "text/plain": [
       "Electronic check             2365\n",
       "Mailed check                 1612\n",
       "Bank transfer (automatic)    1544\n",
       "Credit card (automatic)      1522\n",
       "Name: PaymentMethod, dtype: int64"
      ]
     },
     "execution_count": 67,
     "metadata": {},
     "output_type": "execute_result"
    }
   ],
   "source": [
    "# getting value_counts()\n",
    "df['PaymentMethod'].value_counts()"
   ]
  },
  {
   "cell_type": "code",
   "execution_count": 68,
   "id": "fb453c35",
   "metadata": {},
   "outputs": [
    {
     "data": {
      "text/plain": [
       "Electronic check             0.335794\n",
       "Mailed check                 0.228880\n",
       "Bank transfer (automatic)    0.219225\n",
       "Credit card (automatic)      0.216101\n",
       "Name: PaymentMethod, dtype: float64"
      ]
     },
     "execution_count": 68,
     "metadata": {},
     "output_type": "execute_result"
    }
   ],
   "source": [
    "# getting value_counts() by normalization\n",
    "df['PaymentMethod'].value_counts(normalize = True)"
   ]
  },
  {
   "cell_type": "code",
   "execution_count": 69,
   "id": "5ce7c463",
   "metadata": {},
   "outputs": [
    {
     "data": {
      "text/plain": [
       "<AxesSubplot:>"
      ]
     },
     "execution_count": 69,
     "metadata": {},
     "output_type": "execute_result"
    },
    {
     "data": {
      "image/png": "[encoded data removed]",
      "text/plain": [
       "<Figure size 432x288 with 1 Axes>"
      ]
     },
     "metadata": {
      "needs_background": "light"
     },
     "output_type": "display_data"
    }
   ],
   "source": [
    "# Plotting barplot for PaymentMethod feature\n",
    "df['PaymentMethod'].value_counts().plot(kind = 'bar')"
   ]
  },
  {
   "cell_type": "markdown",
   "id": "3b284e6f",
   "metadata": {},
   "source": [
    "#### **Observation:**\n",
    "-- Compared to others more people are taking Electronic Checks."
   ]
  },
  {
   "cell_type": "markdown",
   "id": "5a53fbbd",
   "metadata": {},
   "source": [
    "## Analysing MonthlyCharges Feature - Numerical"
   ]
  },
  {
   "cell_type": "code",
   "execution_count": 70,
   "id": "ead77c3a",
   "metadata": {},
   "outputs": [
    {
     "name": "stdout",
     "output_type": "stream",
     "text": [
      "MonthlyCharges_min: 18.25\n",
      "MonthlyCharges_max: 118.75\n",
      "MonthlyCharges_mean: 64.76169246059922\n",
      "MonthlyCharges_median: 70.35\n",
      "MonthlyCharges_std: 30.09004709767854\n"
     ]
    }
   ],
   "source": [
    "# Non-visualization statistical analysis\n",
    "print('MonthlyCharges_min:',df['MonthlyCharges'].min())\n",
    "print('MonthlyCharges_max:',df['MonthlyCharges'].max())\n",
    "print('MonthlyCharges_mean:',df['MonthlyCharges'].mean())\n",
    "print('MonthlyCharges_median:',df['MonthlyCharges'].median())\n",
    "print('MonthlyCharges_std:',df['MonthlyCharges'].std())"
   ]
  },
  {
   "cell_type": "code",
   "execution_count": 71,
   "id": "ea267b2e",
   "metadata": {},
   "outputs": [
    {
     "data": {
      "text/plain": [
       "<AxesSubplot:>"
      ]
     },
     "execution_count": 71,
     "metadata": {},
     "output_type": "execute_result"
    },
    {
     "data": {
      "image/png": "[encoded data removed]",
      "text/plain": [
       "<Figure size 432x288 with 1 Axes>"
      ]
     },
     "metadata": {
      "needs_background": "light"
     },
     "output_type": "display_data"
    }
   ],
   "source": [
    "# Detecting outliers using boxplot\n",
    "df['MonthlyCharges'].plot(kind = 'box')"
   ]
  },
  {
   "cell_type": "markdown",
   "id": "527c0a65",
   "metadata": {},
   "source": [
    "#### **Observation:**\n",
    "-- By above plot,The children are in a particular range and no Outliers in Children Feature"
   ]
  },
  {
   "cell_type": "code",
   "execution_count": 72,
   "id": "858e08e9",
   "metadata": {},
   "outputs": [
    {
     "data": {
      "text/plain": [
       "<AxesSubplot:ylabel='Density'>"
      ]
     },
     "execution_count": 72,
     "metadata": {},
     "output_type": "execute_result"
    },
    {
     "data": {
      "image/png": "[encoded data removed]",
      "text/plain": [
       "<Figure size 432x288 with 1 Axes>"
      ]
     },
     "metadata": {
      "needs_background": "light"
     },
     "output_type": "display_data"
    }
   ],
   "source": [
    "# Distribution Of children Feature using kde plot\n",
    "df['MonthlyCharges'].plot(kind = 'kde')"
   ]
  },
  {
   "cell_type": "markdown",
   "id": "d6bf9dc2",
   "metadata": {},
   "source": [
    "#### **Observation:**\n",
    "-- Children feature seems like normal distribution With many Disperencies.So it may or maynot follow normal distribution."
   ]
  },
  {
   "cell_type": "code",
   "execution_count": 73,
   "id": "a20f0b8f",
   "metadata": {},
   "outputs": [
    {
     "data": {
      "image/png": "[encoded data removed]",
      "text/plain": [
       "<Figure size 432x288 with 1 Axes>"
      ]
     },
     "metadata": {
      "needs_background": "light"
     },
     "output_type": "display_data"
    }
   ],
   "source": [
    "# Checking normal distribution using QQ plot\n",
    "stats.probplot(df['MonthlyCharges'],dist='norm',plot=plt)\n",
    "\n",
    "plt.grid()"
   ]
  },
  {
   "cell_type": "markdown",
   "id": "6deac051",
   "metadata": {},
   "source": [
    "#### **Observation:**\n",
    "-- Children feature doesn't follow Normal Distribution."
   ]
  },
  {
   "cell_type": "markdown",
   "id": "dbc3ccf7",
   "metadata": {},
   "source": [
    "## Analysing TotalCharges Feature - Numerical"
   ]
  },
  {
   "cell_type": "code",
   "execution_count": 74,
   "id": "4ca5e2a6",
   "metadata": {},
   "outputs": [
    {
     "name": "stdout",
     "output_type": "stream",
     "text": [
      "TotalCharges_min: 18.8\n",
      "TotalCharges_max: 8684.8\n",
      "TotalCharges_mean: 2281.9169281556187\n",
      "TotalCharges_median: 1397.475\n",
      "TotalCharges_std: 2265.2703984821865\n"
     ]
    }
   ],
   "source": [
    "# Non-visualization statistical analysis\n",
    "print('TotalCharges_min:',df['TotalCharges'].min())\n",
    "print('TotalCharges_max:',df['TotalCharges'].max())\n",
    "print('TotalCharges_mean:',df['TotalCharges'].mean())\n",
    "print('TotalCharges_median:',df['TotalCharges'].median())\n",
    "print('TotalCharges_std:',df['TotalCharges'].std())"
   ]
  },
  {
   "cell_type": "code",
   "execution_count": 75,
   "id": "093d9095",
   "metadata": {},
   "outputs": [
    {
     "data": {
      "text/plain": [
       "<AxesSubplot:>"
      ]
     },
     "execution_count": 75,
     "metadata": {},
     "output_type": "execute_result"
    },
    {
     "data": {
      "image/png": "[encoded data removed]",
      "text/plain": [
       "<Figure size 432x288 with 1 Axes>"
      ]
     },
     "metadata": {
      "needs_background": "light"
     },
     "output_type": "display_data"
    }
   ],
   "source": [
    "# Detecting outliers using boxplot\n",
    "df['TotalCharges'].plot(kind = 'box')"
   ]
  },
  {
   "cell_type": "markdown",
   "id": "675a5a69",
   "metadata": {},
   "source": [
    "#### **Observation:**\n",
    "-- There are no outliers in Totalcharges feature.   \n",
    "-- More people are in the high range that is their charges are in 4000 to 9000 approximately."
   ]
  },
  {
   "cell_type": "code",
   "execution_count": 76,
   "id": "06de5e77",
   "metadata": {},
   "outputs": [
    {
     "data": {
      "text/plain": [
       "<AxesSubplot:ylabel='Density'>"
      ]
     },
     "execution_count": 76,
     "metadata": {},
     "output_type": "execute_result"
    },
    {
     "data": {
      "image/png": "[encoded data removed]",
      "text/plain": [
       "<Figure size 432x288 with 1 Axes>"
      ]
     },
     "metadata": {
      "needs_background": "light"
     },
     "output_type": "display_data"
    }
   ],
   "source": [
    "# Distribution Of children Feature using kde plot\n",
    "df['TotalCharges'].plot(kind = 'kde')"
   ]
  },
  {
   "cell_type": "markdown",
   "id": "3ccfdd49",
   "metadata": {},
   "source": [
    "#### **Observation:**\n",
    "-- It seems like TotalCharges Feature follows Normal Distribution With some Disperencies."
   ]
  },
  {
   "cell_type": "code",
   "execution_count": 77,
   "id": "2b2a2b1a",
   "metadata": {},
   "outputs": [
    {
     "data": {
      "image/png": "[encoded data removed]",
      "text/plain": [
       "<Figure size 432x288 with 1 Axes>"
      ]
     },
     "metadata": {
      "needs_background": "light"
     },
     "output_type": "display_data"
    }
   ],
   "source": [
    "# Checking normal distribution for df using QQ plot\n",
    "stats.probplot(df['TotalCharges'],dist='norm',plot=plt)\n",
    "\n",
    "plt.grid()"
   ]
  },
  {
   "cell_type": "markdown",
   "id": "cebcbe3c",
   "metadata": {},
   "source": [
    "#### **Observation:**\n",
    "-- It is clear that TotalCharges Feature doesn't follow Normal Distribution."
   ]
  },
  {
   "cell_type": "markdown",
   "id": "e5029de4",
   "metadata": {},
   "source": [
    "## Analysing Churn Feature - Categorical"
   ]
  },
  {
   "cell_type": "code",
   "execution_count": 78,
   "id": "c4c51e7f",
   "metadata": {},
   "outputs": [
    {
     "data": {
      "text/plain": [
       "No     5174\n",
       "Yes    1869\n",
       "Name: Churn, dtype: int64"
      ]
     },
     "execution_count": 78,
     "metadata": {},
     "output_type": "execute_result"
    }
   ],
   "source": [
    "# Applying value_counts to get datapoints according to regions\n",
    "df['Churn'].value_counts()"
   ]
  },
  {
   "cell_type": "code",
   "execution_count": 79,
   "id": "78a69c86",
   "metadata": {},
   "outputs": [
    {
     "data": {
      "text/plain": [
       "No     0.73463\n",
       "Yes    0.26537\n",
       "Name: Churn, dtype: float64"
      ]
     },
     "execution_count": 79,
     "metadata": {},
     "output_type": "execute_result"
    }
   ],
   "source": [
    "# Applying value_counts by normalization\n",
    "df['Churn'].value_counts(normalize = True)"
   ]
  },
  {
   "cell_type": "code",
   "execution_count": 80,
   "id": "dad607be",
   "metadata": {},
   "outputs": [
    {
     "data": {
      "text/plain": [
       "<AxesSubplot:>"
      ]
     },
     "execution_count": 80,
     "metadata": {},
     "output_type": "execute_result"
    },
    {
     "data": {
      "image/png": "[encoded data removed]",
      "text/plain": [
       "<Figure size 432x288 with 1 Axes>"
      ]
     },
     "metadata": {
      "needs_background": "light"
     },
     "output_type": "display_data"
    }
   ],
   "source": [
    "# Plotting barplot for region feature\n",
    "df['Churn'].value_counts().plot(kind = 'bar')"
   ]
  },
  {
   "cell_type": "markdown",
   "id": "b844d923",
   "metadata": {},
   "source": [
    "#### **Observation:**\n",
    "-- By above plot,it is clear that almost 2000 people  left within the last month."
   ]
  },
  {
   "cell_type": "markdown",
   "id": "6d7b557f",
   "metadata": {},
   "source": [
    "# Bivariate Analysis"
   ]
  },
  {
   "cell_type": "markdown",
   "id": "4b8ccdd2",
   "metadata": {},
   "source": [
    "## Relationship between Target Variable(Churn) and Gender"
   ]
  },
  {
   "cell_type": "code",
   "execution_count": 81,
   "id": "a0956281",
   "metadata": {},
   "outputs": [
    {
     "data": {
      "image/png": "[encoded data removed]",
      "text/plain": [
       "<Figure size 432x288 with 1 Axes>"
      ]
     },
     "metadata": {
      "needs_background": "light"
     },
     "output_type": "display_data"
    }
   ],
   "source": [
    "# Counting the occurrences of each variable\n",
    "count_df = df.groupby(['Churn', 'gender']).size().reset_index(name='count')\n",
    "\n",
    "# Reshaping the data for stacked bar plot\n",
    "stacked_df = count_df.pivot(index='Churn', columns='gender', values='count')\n",
    "\n",
    "# Creating the stacked bar plot\n",
    "stacked_df.plot(kind='bar', stacked=True)\n",
    "\n",
    "# Adding labels and titles\n",
    "plt.xlabel('Churn')\n",
    "plt.ylabel('Count')\n",
    "plt.title('Churn by Gender')\n",
    "\n",
    "# Display the plot\n",
    "plt.show()"
   ]
  },
  {
   "cell_type": "markdown",
   "id": "b4476315",
   "metadata": {},
   "source": [
    "#### **Observation:**\n",
    "-- Both Males and females are in the same ratio. So,The gender variation Doesn't impact the churn."
   ]
  },
  {
   "cell_type": "markdown",
   "id": "435eaff4",
   "metadata": {},
   "source": [
    "## Relationship between Target Variable(Churn) and SeniorCitizen"
   ]
  },
  {
   "cell_type": "code",
   "execution_count": 82,
   "id": "7665e484",
   "metadata": {},
   "outputs": [
    {
     "data": {
      "image/png": "[encoded data removed]",
      "text/plain": [
       "<Figure size 432x288 with 1 Axes>"
      ]
     },
     "metadata": {
      "needs_background": "light"
     },
     "output_type": "display_data"
    }
   ],
   "source": [
    "# Counting the occurrences of each variable\n",
    "count_df = df.groupby(['Churn', 'SeniorCitizen']).size().reset_index(name='count')\n",
    "\n",
    "# Reshaping the data for stacked bar plot\n",
    "stacked_df = count_df.pivot(index='Churn', columns='SeniorCitizen', values='count')\n",
    "\n",
    "# Creating the stacked bar plot\n",
    "stacked_df.plot(kind='bar', stacked=True)\n",
    "\n",
    "# Adding labels and titles\n",
    "plt.xlabel('Churn')\n",
    "plt.ylabel('Count')\n",
    "plt.title('Churn by SeniorCitizen')\n",
    "\n",
    "# Display the plot\n",
    "plt.show()"
   ]
  },
  {
   "cell_type": "markdown",
   "id": "900612f5",
   "metadata": {},
   "source": [
    "## Relationship between Target Variable(Churn) and Partner"
   ]
  },
  {
   "cell_type": "code",
   "execution_count": 83,
   "id": "f651b324",
   "metadata": {},
   "outputs": [
    {
     "data": {
      "image/png": "[encoded data removed]",
      "text/plain": [
       "<Figure size 432x288 with 1 Axes>"
      ]
     },
     "metadata": {
      "needs_background": "light"
     },
     "output_type": "display_data"
    }
   ],
   "source": [
    "# Counting the occurrences of each variable\n",
    "count_df = df.groupby(['Churn', 'Partner']).size().reset_index(name='count')\n",
    "\n",
    "# Reshaping the data for stacked bar plot\n",
    "stacked_df = count_df.pivot(index='Churn', columns='Partner', values='count')\n",
    "\n",
    "# Creating the stacked bar plot\n",
    "stacked_df.plot(kind='bar', stacked=True)\n",
    "\n",
    "# Adding labels and titles\n",
    "plt.xlabel('Churn')\n",
    "plt.ylabel('Count')\n",
    "plt.title('Churn by Partner')\n",
    "\n",
    "# Display the plot\n",
    "plt.show()"
   ]
  },
  {
   "cell_type": "markdown",
   "id": "817a35dd",
   "metadata": {},
   "source": [
    "#### **Observation:**\n",
    "-- By above plot,It is clear that those who are not having partner is impacted the churn."
   ]
  },
  {
   "cell_type": "markdown",
   "id": "8a546f9d",
   "metadata": {},
   "source": [
    "## Relationship between Target Variable(Churn) and Dependents"
   ]
  },
  {
   "cell_type": "code",
   "execution_count": 84,
   "id": "b25d4fed",
   "metadata": {},
   "outputs": [
    {
     "data": {
      "image/png": "[encoded data removed]",
      "text/plain": [
       "<Figure size 432x288 with 1 Axes>"
      ]
     },
     "metadata": {
      "needs_background": "light"
     },
     "output_type": "display_data"
    }
   ],
   "source": [
    "# Counting the occurrences of each variable\n",
    "count_df = df.groupby(['Churn', 'Dependents']).size().reset_index(name='count')\n",
    "\n",
    "# Reshaping the data for stacked bar plot\n",
    "stacked_df = count_df.pivot(index='Churn', columns='Dependents', values='count')\n",
    "\n",
    "# Creating the stacked bar plot\n",
    "stacked_df.plot(kind='bar', stacked=True)\n",
    "\n",
    "# Adding labels and titles\n",
    "plt.xlabel('Churn')\n",
    "plt.ylabel('Count')\n",
    "plt.title('Churn by Dependents')\n",
    "\n",
    "# Display the plot\n",
    "plt.show()"
   ]
  },
  {
   "cell_type": "markdown",
   "id": "0d1d3eaa",
   "metadata": {},
   "source": [
    "#### **Observation:**\n",
    "-- Those who are having dependents their ratio is impact on Churn."
   ]
  },
  {
   "cell_type": "markdown",
   "id": "fd3173b5",
   "metadata": {},
   "source": [
    "## Relationship between Target Variable(Churn) and tenure\n",
    "-- Customer tenure in a telecom company refers to the length of time a customer has been using the company's services."
   ]
  },
  {
   "cell_type": "code",
   "execution_count": 85,
   "id": "6c0c106b",
   "metadata": {},
   "outputs": [
    {
     "data": {
      "text/plain": [
       "<AxesSubplot:title={'center':'tenure'}, xlabel='Churn'>"
      ]
     },
     "execution_count": 85,
     "metadata": {},
     "output_type": "execute_result"
    },
    {
     "data": {
      "image/png": "[encoded data removed]",
      "text/plain": [
       "<Figure size 432x288 with 1 Axes>"
      ]
     },
     "metadata": {
      "needs_background": "light"
     },
     "output_type": "display_data"
    }
   ],
   "source": [
    "df.boxplot(by='Churn', column='tenure')"
   ]
  },
  {
   "cell_type": "markdown",
   "id": "4e37ca97",
   "metadata": {},
   "source": [
    "#### **Observation:**\n",
    "-- People having more tenure are not refered to churn."
   ]
  },
  {
   "cell_type": "markdown",
   "id": "59220049",
   "metadata": {},
   "source": [
    "## Relationship between Target Variable(Churn) and PhoneService"
   ]
  },
  {
   "cell_type": "code",
   "execution_count": 86,
   "id": "b330f108",
   "metadata": {},
   "outputs": [
    {
     "data": {
      "image/png": "[encoded data removed]",
      "text/plain": [
       "<Figure size 432x288 with 1 Axes>"
      ]
     },
     "metadata": {
      "needs_background": "light"
     },
     "output_type": "display_data"
    }
   ],
   "source": [
    "# Counting the occurrences of each variable\n",
    "count_df = df.groupby(['Churn', 'PhoneService']).size().reset_index(name='count')\n",
    "\n",
    "# Reshaping the data for stacked bar plot\n",
    "stacked_df = count_df.pivot(index='Churn', columns='PhoneService', values='count')\n",
    "\n",
    "# Creating the stacked bar plot\n",
    "stacked_df.plot(kind='bar', stacked=True)\n",
    "\n",
    "# Adding labels and titles\n",
    "plt.xlabel('Churn')\n",
    "plt.ylabel('Count')\n",
    "plt.title('Churn by PhoneService')\n",
    "\n",
    "# Display the plot\n",
    "plt.show()"
   ]
  },
  {
   "cell_type": "markdown",
   "id": "0d8dba3a",
   "metadata": {},
   "source": [
    "#### **Observation:**\n",
    "-- Those who are having Phone services may impact churn.Here Those who are having phone services is not having churn."
   ]
  },
  {
   "cell_type": "markdown",
   "id": "091c66ea",
   "metadata": {},
   "source": [
    "## Relationship between Target Variable(Churn) and MultipleLines"
   ]
  },
  {
   "cell_type": "code",
   "execution_count": 87,
   "id": "2486f165",
   "metadata": {},
   "outputs": [
    {
     "data": {
      "image/png": "[encoded data removed]",
      "text/plain": [
       "<Figure size 432x288 with 1 Axes>"
      ]
     },
     "metadata": {
      "needs_background": "light"
     },
     "output_type": "display_data"
    }
   ],
   "source": [
    "# Counting the occurrences of each variable\n",
    "count_df = df.groupby(['Churn', 'MultipleLines']).size().reset_index(name='count')\n",
    "\n",
    "# Reshaping the data for stacked bar plot\n",
    "stacked_df = count_df.pivot(index='Churn', columns='MultipleLines', values='count')\n",
    "\n",
    "# Creating the stacked bar plot\n",
    "stacked_df.plot(kind='bar', stacked=True)\n",
    "\n",
    "# Adding labels and titles\n",
    "plt.xlabel('Churn')\n",
    "plt.ylabel('Count')\n",
    "plt.title('Churn by MultipleLines')\n",
    "\n",
    "# Display the plot\n",
    "plt.show()"
   ]
  },
  {
   "cell_type": "markdown",
   "id": "31e1e26a",
   "metadata": {},
   "source": [
    "#### **Observation:**\n",
    "-- Those who are having multiple lines and single line are continuing  the services more"
   ]
  },
  {
   "cell_type": "markdown",
   "id": "dfc97eb2",
   "metadata": {},
   "source": [
    "## Relationship between Target Variable(Churn) and InternetService"
   ]
  },
  {
   "cell_type": "code",
   "execution_count": 88,
   "id": "b434ddc6",
   "metadata": {},
   "outputs": [
    {
     "data": {
      "image/png": "[encoded data removed]",
      "text/plain": [
       "<Figure size 432x288 with 1 Axes>"
      ]
     },
     "metadata": {
      "needs_background": "light"
     },
     "output_type": "display_data"
    }
   ],
   "source": [
    "# Counting the occurrences of each variable\n",
    "count_df = df.groupby(['Churn', 'InternetService']).size().reset_index(name='count')\n",
    "\n",
    "# Reshaping the data for stacked bar plot\n",
    "stacked_df = count_df.pivot(index='Churn', columns='InternetService', values='count')\n",
    "\n",
    "# Creating the stacked bar plot\n",
    "stacked_df.plot(kind='bar', stacked=True)\n",
    "\n",
    "# Adding labels and titles\n",
    "plt.xlabel('Churn')\n",
    "plt.ylabel('Count')\n",
    "plt.title('Churn by InternetService')\n",
    "\n",
    "# Display the plot\n",
    "plt.show()"
   ]
  },
  {
   "cell_type": "markdown",
   "id": "d5c687e0",
   "metadata": {},
   "source": [
    "## Relationship between Target Variable(Churn) and OnlineSecurity"
   ]
  },
  {
   "cell_type": "code",
   "execution_count": 89,
   "id": "9cd0ce01",
   "metadata": {},
   "outputs": [
    {
     "data": {
      "image/png": "[encoded data removed]",
      "text/plain": [
       "<Figure size 432x288 with 1 Axes>"
      ]
     },
     "metadata": {
      "needs_background": "light"
     },
     "output_type": "display_data"
    }
   ],
   "source": [
    "# Counting the occurrences of each variable\n",
    "count_df = df.groupby(['Churn', 'OnlineSecurity']).size().reset_index(name='count')\n",
    "\n",
    "# Reshaping the data for stacked bar plot\n",
    "stacked_df = count_df.pivot(index='Churn', columns='OnlineSecurity', values='count')\n",
    "\n",
    "# Creating the stacked bar plot\n",
    "stacked_df.plot(kind='bar', stacked=True)\n",
    "\n",
    "# Adding labels and titles\n",
    "plt.xlabel('Churn')\n",
    "plt.ylabel('Count')\n",
    "plt.title('Churn by OnlineSecurity')\n",
    "\n",
    "# Display the plot\n",
    "plt.show()"
   ]
  },
  {
   "cell_type": "markdown",
   "id": "ea9c005f",
   "metadata": {},
   "source": [
    "#### **Observation:**\n",
    "-- those who are having online securities are continuing services but there are people not having any services also."
   ]
  },
  {
   "cell_type": "markdown",
   "id": "1bd53b5f",
   "metadata": {},
   "source": [
    "## Relationship between Target Variable(Churn) and OnlineBackup"
   ]
  },
  {
   "cell_type": "code",
   "execution_count": 90,
   "id": "17ccebb0",
   "metadata": {},
   "outputs": [
    {
     "data": {
      "image/png": "[encoded data removed]",
      "text/plain": [
       "<Figure size 432x288 with 1 Axes>"
      ]
     },
     "metadata": {
      "needs_background": "light"
     },
     "output_type": "display_data"
    }
   ],
   "source": [
    "# Counting the occurrences of each variable\n",
    "count_df = df.groupby(['Churn', 'OnlineBackup']).size().reset_index(name='count')\n",
    "\n",
    "# Reshaping the data for stacked bar plot\n",
    "stacked_df = count_df.pivot(index='Churn', columns='OnlineBackup', values='count')\n",
    "\n",
    "# Creating the stacked bar plot\n",
    "stacked_df.plot(kind='bar', stacked=True)\n",
    "\n",
    "# Adding labels and titles\n",
    "plt.xlabel('Churn')\n",
    "plt.ylabel('Count')\n",
    "plt.title('Churn by OnlineBackup')\n",
    "\n",
    "# Display the plot\n",
    "plt.show()"
   ]
  },
  {
   "cell_type": "markdown",
   "id": "d9322428",
   "metadata": {},
   "source": [
    "#### **Observation:**\n",
    "-- People having online backup is continuing the services and some are not having any online backup."
   ]
  },
  {
   "cell_type": "markdown",
   "id": "3c4ede14",
   "metadata": {},
   "source": [
    "## Relationship between Target Variable(Churn) and DeviceProtection"
   ]
  },
  {
   "cell_type": "code",
   "execution_count": 91,
   "id": "24f3bb49",
   "metadata": {},
   "outputs": [
    {
     "data": {
      "image/png": "[encoded data removed]",
      "text/plain": [
       "<Figure size 432x288 with 1 Axes>"
      ]
     },
     "metadata": {
      "needs_background": "light"
     },
     "output_type": "display_data"
    }
   ],
   "source": [
    "# Counting the occurrences of each variable\n",
    "count_df = df.groupby(['Churn', 'DeviceProtection']).size().reset_index(name='count')\n",
    "\n",
    "# Reshaping the data for stacked bar plot\n",
    "stacked_df = count_df.pivot(index='Churn', columns='DeviceProtection', values='count')\n",
    "\n",
    "# Creating the stacked bar plot\n",
    "stacked_df.plot(kind='bar', stacked=True)\n",
    "\n",
    "# Adding labels and titles\n",
    "plt.xlabel('Churn')\n",
    "plt.ylabel('Count')\n",
    "plt.title('Churn by DeviceProtection')\n",
    "\n",
    "# Display the plot\n",
    "plt.show()"
   ]
  },
  {
   "cell_type": "markdown",
   "id": "8f691fad",
   "metadata": {},
   "source": [
    "#### **Observation:** \n",
    "-- People are more in number  having device protection and also people are not having any services it will not impact on churn."
   ]
  },
  {
   "cell_type": "markdown",
   "id": "a826cc87",
   "metadata": {},
   "source": [
    "## Relationship between Target Variable(Churn) and TechSupport"
   ]
  },
  {
   "cell_type": "code",
   "execution_count": 92,
   "id": "e29a5ef0",
   "metadata": {},
   "outputs": [
    {
     "data": {
      "image/png": "[encoded data removed]",
      "text/plain": [
       "<Figure size 432x288 with 1 Axes>"
      ]
     },
     "metadata": {
      "needs_background": "light"
     },
     "output_type": "display_data"
    }
   ],
   "source": [
    "# Counting the occurrences of each variable\n",
    "count_df = df.groupby(['Churn', 'TechSupport']).size().reset_index(name='count')\n",
    "\n",
    "# Reshaping the data for stacked bar plot\n",
    "stacked_df = count_df.pivot(index='Churn', columns='TechSupport', values='count')\n",
    "\n",
    "# Creating the stacked bar plot\n",
    "stacked_df.plot(kind='bar', stacked=True)\n",
    "\n",
    "# Adding labels and titles\n",
    "plt.xlabel('Churn')\n",
    "plt.ylabel('Count')\n",
    "plt.title('Churn by TechSupport')\n",
    "\n",
    "# Display the plot\n",
    "plt.show()"
   ]
  },
  {
   "cell_type": "markdown",
   "id": "513a1e8d",
   "metadata": {},
   "source": [
    "#### **Observation:**\n",
    "-- people compared to having tech support,having no service and people having service but no tech support are nmore in number."
   ]
  },
  {
   "cell_type": "markdown",
   "id": "96b306f6",
   "metadata": {},
   "source": [
    "## Relationship between Target Variable(Churn) and StreamingTV"
   ]
  },
  {
   "cell_type": "code",
   "execution_count": 93,
   "id": "cac4675c",
   "metadata": {},
   "outputs": [
    {
     "data": {
      "image/png": "[encoded data removed]",
      "text/plain": [
       "<Figure size 432x288 with 1 Axes>"
      ]
     },
     "metadata": {
      "needs_background": "light"
     },
     "output_type": "display_data"
    }
   ],
   "source": [
    "# Counting the occurrences of each variable\n",
    "count_df = df.groupby(['Churn', 'StreamingTV']).size().reset_index(name='count')\n",
    "\n",
    "# Reshaping the data for stacked bar plot\n",
    "stacked_df = count_df.pivot(index='Churn', columns='StreamingTV', values='count')\n",
    "\n",
    "# Creating the stacked bar plot\n",
    "stacked_df.plot(kind='bar', stacked=True)\n",
    "\n",
    "# Adding labels and titles\n",
    "plt.xlabel('Churn')\n",
    "plt.ylabel('Count')\n",
    "plt.title('Churn by StreamingTV')\n",
    "\n",
    "# Display the plot\n",
    "plt.show()"
   ]
  },
  {
   "cell_type": "markdown",
   "id": "9c933ef5",
   "metadata": {},
   "source": [
    "#### **Observation:**\n",
    "-- people having no services and not streaming tv are more in number.which should consider to take care."
   ]
  },
  {
   "cell_type": "markdown",
   "id": "bffb15bc",
   "metadata": {},
   "source": [
    "## Relationship between Target Variable(Churn) and StreamingMovies"
   ]
  },
  {
   "cell_type": "code",
   "execution_count": 94,
   "id": "cb139d4a",
   "metadata": {},
   "outputs": [
    {
     "data": {
      "image/png": "[encoded data removed]",
      "text/plain": [
       "<Figure size 432x288 with 1 Axes>"
      ]
     },
     "metadata": {
      "needs_background": "light"
     },
     "output_type": "display_data"
    }
   ],
   "source": [
    "# Counting the occurrences of each variable\n",
    "count_df = df.groupby(['Churn', 'StreamingMovies']).size().reset_index(name='count')\n",
    "\n",
    "# Reshaping the data for stacked bar plot\n",
    "stacked_df = count_df.pivot(index='Churn', columns='StreamingMovies', values='count')\n",
    "\n",
    "# Creating the stacked bar plot\n",
    "stacked_df.plot(kind='bar', stacked=True)\n",
    "\n",
    "# Adding labels and titles\n",
    "plt.xlabel('Churn')\n",
    "plt.ylabel('Count')\n",
    "plt.title('Churn by StreamingMovies')\n",
    "\n",
    "# Display the plot\n",
    "plt.show()"
   ]
  },
  {
   "cell_type": "markdown",
   "id": "0a232d43",
   "metadata": {},
   "source": [
    "#### **Observation:**\n",
    "-- -- people having no services and not streaming movies are more in number which should consider to take care."
   ]
  },
  {
   "cell_type": "markdown",
   "id": "9e4f92ee",
   "metadata": {},
   "source": [
    "## Relationship between Target Variable(Churn) and Contract"
   ]
  },
  {
   "cell_type": "code",
   "execution_count": 95,
   "id": "11dbbd32",
   "metadata": {},
   "outputs": [
    {
     "data": {
      "image/png": "[encoded data removed]",
      "text/plain": [
       "<Figure size 432x288 with 1 Axes>"
      ]
     },
     "metadata": {
      "needs_background": "light"
     },
     "output_type": "display_data"
    }
   ],
   "source": [
    "# Counting the occurrences of each variable\n",
    "count_df = df.groupby(['Churn', 'Contract']).size().reset_index(name='count')\n",
    "\n",
    "# Reshaping the data for stacked bar plot\n",
    "stacked_df = count_df.pivot(index='Churn', columns='Contract', values='count')\n",
    "\n",
    "# Creating the stacked bar plot\n",
    "stacked_df.plot(kind='bar', stacked=True)\n",
    "\n",
    "# Adding labels and titles\n",
    "plt.xlabel('Churn')\n",
    "plt.ylabel('Count')\n",
    "plt.title('Churn by Contract')\n",
    "\n",
    "# Display the plot\n",
    "plt.show()"
   ]
  },
  {
   "cell_type": "markdown",
   "id": "26399f20",
   "metadata": {},
   "source": [
    "#### **Observation:**\n",
    "-- those who are ghaving month_month contract are equally partioned for churn.it may impact churn more."
   ]
  },
  {
   "cell_type": "markdown",
   "id": "ed1f98bc",
   "metadata": {},
   "source": [
    "## Relationship between Target Variable(Churn) and PaperlessBilling"
   ]
  },
  {
   "cell_type": "code",
   "execution_count": 96,
   "id": "e58d3eef",
   "metadata": {},
   "outputs": [
    {
     "data": {
      "image/png": "[encoded data removed]",
      "text/plain": [
       "<Figure size 432x288 with 1 Axes>"
      ]
     },
     "metadata": {
      "needs_background": "light"
     },
     "output_type": "display_data"
    }
   ],
   "source": [
    "# Counting the occurrences of each variable\n",
    "count_df = df.groupby(['Churn', 'PaperlessBilling']).size().reset_index(name='count')\n",
    "\n",
    "# Reshaping the data for stacked bar plot\n",
    "stacked_df = count_df.pivot(index='Churn', columns='PaperlessBilling', values='count')\n",
    "\n",
    "# Creating the stacked bar plot\n",
    "stacked_df.plot(kind='bar', stacked=True)\n",
    "\n",
    "# Adding labels and titles\n",
    "plt.xlabel('Churn')\n",
    "plt.ylabel('Count')\n",
    "plt.title('Churn by PaperlessBilling')\n",
    "\n",
    "# Display the plot\n",
    "plt.show()"
   ]
  },
  {
   "cell_type": "markdown",
   "id": "ce460d36",
   "metadata": {},
   "source": [
    "#### **Observation:**\n",
    "-- those who are taking paperbilling impacts on churn"
   ]
  },
  {
   "cell_type": "markdown",
   "id": "37688cd2",
   "metadata": {},
   "source": [
    "## Relationship between Target Variable(Churn) and PaymentMethod"
   ]
  },
  {
   "cell_type": "code",
   "execution_count": 97,
   "id": "d216b8e2",
   "metadata": {},
   "outputs": [
    {
     "data": {
      "image/png": "[encoded data removed]",
      "text/plain": [
       "<Figure size 432x288 with 1 Axes>"
      ]
     },
     "metadata": {
      "needs_background": "light"
     },
     "output_type": "display_data"
    }
   ],
   "source": [
    "# Counting the occurrences of each variable\n",
    "count_df = df.groupby(['Churn', 'PaymentMethod']).size().reset_index(name='count')\n",
    "\n",
    "# Reshaping the data for stacked bar plot\n",
    "stacked_df = count_df.pivot(index='Churn', columns='PaymentMethod', values='count')\n",
    "\n",
    "# Creating the stacked bar plot\n",
    "stacked_df.plot(kind='bar', stacked=True)\n",
    "\n",
    "# Adding labels and titles\n",
    "plt.xlabel('Churn')\n",
    "plt.ylabel('Count')\n",
    "plt.title('Churn by PaymentMethod')\n",
    "\n",
    "# Display the plot\n",
    "plt.show()"
   ]
  },
  {
   "cell_type": "markdown",
   "id": "5925c2fa",
   "metadata": {},
   "source": [
    "#### **Observation:**\n",
    "-- Those who are taking electronic check impacting churn which should be take care.    \n",
    "-- but there is no relationship between payment method and churn."
   ]
  },
  {
   "cell_type": "markdown",
   "id": "863d6718",
   "metadata": {},
   "source": [
    "## Relationship between Target Variable(Churn) and MonthlyCharges"
   ]
  },
  {
   "cell_type": "code",
   "execution_count": 98,
   "id": "39c4135e",
   "metadata": {},
   "outputs": [
    {
     "data": {
      "text/plain": [
       "<AxesSubplot:title={'center':'MonthlyCharges'}, xlabel='Churn'>"
      ]
     },
     "execution_count": 98,
     "metadata": {},
     "output_type": "execute_result"
    },
    {
     "data": {
      "image/png": "[encoded data removed]",
      "text/plain": [
       "<Figure size 432x288 with 1 Axes>"
      ]
     },
     "metadata": {
      "needs_background": "light"
     },
     "output_type": "display_data"
    }
   ],
   "source": [
    "df.boxplot(by='Churn', column='MonthlyCharges')"
   ]
  },
  {
   "cell_type": "markdown",
   "id": "a598105c",
   "metadata": {},
   "source": [
    "#### **Observation:**\n",
    "-- Based on monthly charges customers are living the services.Monthly charges impact churn."
   ]
  },
  {
   "cell_type": "markdown",
   "id": "7f7d16fe",
   "metadata": {},
   "source": [
    "## Relationship between Target Variable(Churn) and TotalCharges"
   ]
  },
  {
   "cell_type": "code",
   "execution_count": 99,
   "id": "3cb3ec3e",
   "metadata": {},
   "outputs": [
    {
     "data": {
      "text/plain": [
       "<AxesSubplot:title={'center':'TotalCharges'}, xlabel='Churn'>"
      ]
     },
     "execution_count": 99,
     "metadata": {},
     "output_type": "execute_result"
    },
    {
     "data": {
      "image/png": "[encoded data removed]",
      "text/plain": [
       "<Figure size 432x288 with 1 Axes>"
      ]
     },
     "metadata": {
      "needs_background": "light"
     },
     "output_type": "display_data"
    }
   ],
   "source": [
    "df.boxplot(by='Churn', column='TotalCharges')"
   ]
  },
  {
   "cell_type": "markdown",
   "id": "c11c7940",
   "metadata": {},
   "source": [
    "#### **Observation:**\n",
    "-- Based on monthly charges more people are continuing their services."
   ]
  },
  {
   "cell_type": "code",
   "execution_count": 100,
   "id": "8238311e",
   "metadata": {},
   "outputs": [
    {
     "data": {
      "image/png": "[encoded data removed]",
      "text/plain": [
       "<Figure size 432x288 with 1 Axes>"
      ]
     },
     "metadata": {
      "needs_background": "light"
     },
     "output_type": "display_data"
    }
   ],
   "source": [
    "plt.scatter(df['tenure'], df['TotalCharges'])\n",
    "\n",
    "# Add labels and title\n",
    "plt.xlabel('Tenure')\n",
    "plt.ylabel('TotalCharges')\n",
    "\n",
    "\n",
    "# Display the plot\n",
    "plt.show()"
   ]
  },
  {
   "cell_type": "markdown",
   "id": "29781acd",
   "metadata": {},
   "source": [
    "## **Insights and Conclusions:**  "
   ]
  },
  {
   "cell_type": "markdown",
   "id": "d7372757",
   "metadata": {},
   "source": [
    "`Service Usage:`    \n",
    "> Understanding the services each customer has signed up for and there are people with no services and that  can provide insights into their preferences and needs.      \n",
    "> It can identify popular services and highlight areas where customers may have additional requirements or unmet needs with services.    \n",
    "\n",
    "`Customer Account Information:`     Examining customer account information, such as      \n",
    ">`contract type:`Customers on short time contract are more interested with services.and some are not even having any services.\n",
    "customers on long-term contracts are less in number.So, Some precautions should be taken to increase long time contract.   \n",
    "> `payment method:` utilizing Electronic check payment method impacted churn rates.     \n",
    "> `billing preferences:` People are often prefering paperbilling and that customers are more impacted the churn rates.        \n",
    "> `total charges:`  customers with less total charges are more in number impacted on churn rates.       \n",
    "\n",
    "\n",
    "`Demographic Analysis:`  Analyzing demographic information, including       \n",
    "> `gender:` Gender-based preferences are not impacted on churn rates.They are equal in number.There is no relationship between gender and churn.       \n",
    "> `partner:`Those who are not having partner impacts on churn rates.      \n",
    "> `dependents:`Challenges faced by customers with dependents can be addressed to reduce churn.So,THose who are not having dependenst effects churn rates.\n",
    "\n",
    "`Churn Analysis:`     \n",
    "> By analyzing customers their are nearly 2000 people who left within the last month,  the telecom company can identify patterns and factors contributing to customer churn.    \n",
    "> This analysis can reveal reasons behind churn, such as dissatisfaction with services, pricing, or customer support."
   ]
  },
  {
   "cell_type": "markdown",
   "id": "c63f0e18",
   "metadata": {},
   "source": [
    "## **Recommendations:**  "
   ]
  },
  {
   "cell_type": "markdown",
   "id": "86cc6170",
   "metadata": {},
   "source": [
    "`Improve Service Quality:`     \n",
    "> Identify areas where customers experience dissatisfaction and work on enhancing service quality, addressing common pain points, and improving overall customer experience.       \n",
    "> This could involve optimizing network performance, providing reliable internet service, and resolving technical issues promptly.\n",
    "\n",
    "`Personalized Offers:`     \n",
    "> Tailor offers and promotions based on customers' subscribed services, such as discounted bundles or add-ons that align with their needs.    \n",
    "> This can increase customer satisfaction, encourage service uptake, and reduce churn.\n",
    "\n",
    "`Contract Flexibility:`    \n",
    "> Offer flexible contract options to accommodate customers' changing needs. \n",
    "> Provide shorter-term contracts, contract renewal incentives, or the ability to upgrade or downgrade services without penalties to adapt to customers' evolving requirements.\n",
    "\n",
    "`Enhanced Customer Support:`    \n",
    "> Strengthen customer support services, particularly in areas such as technical support and online security.    \n",
    "> Quick and efficient resolutions to customer issues can boost satisfaction and loyalty.   \n",
    "\n",
    "`Billing and Paperless Options:`      \n",
    "> Simplify billing processes and offer incentives for paperless billing to enhance convenience and reduce billing-related frustrations. \n",
    "> Clear and transparent billing practices can contribute to improved customer satisfaction.\n",
    "\n",
    "`Targeted Marketing:`    \n",
    "> Utilize demographic information to tailor marketing campaigns and promotions.      \n",
    "> Develop messaging that resonates with different segments based on gender, partner status, and family needs.\n",
    "\n",
    "`Proactive Measures:`      \n",
    "> Implement proactive measures to identify customers at risk of churn and intervene before they decide to leave.    \n",
    "> This could involve personalized retention offers, loyalty programs, or targeted communication to address specific concerns.  \n",
    "\n",
    "\n",
    "Regular monitoring and analysis of customer data will help identify evolving trends and ensure ongoing improvements in service quality and customer satisfaction.    \n",
    "By implementing these recommendations, the telecom company can enhance customer satisfaction, reduce churn, and increase customer retention."
   ]
  },
  {
   "cell_type": "markdown",
   "id": "a6b379a0",
   "metadata": {},
   "source": [
    "# SPRINT - 2"
   ]
  },
  {
   "cell_type": "markdown",
   "id": "f09a2512",
   "metadata": {},
   "source": [
    "# Data Preparation and Model Building"
   ]
  },
  {
   "cell_type": "markdown",
   "id": "66b64fca",
   "metadata": {},
   "source": [
    "#### LOAD THE DATA"
   ]
  },
  {
   "cell_type": "code",
   "execution_count": 101,
   "id": "45f5a82f",
   "metadata": {},
   "outputs": [
    {
     "data": {
      "text/html": [
       "<div>\n",
       "<style scoped>\n",
       "    .dataframe tbody tr th:only-of-type {\n",
       "        vertical-align: middle;\n",
       "    }\n",
       "\n",
       "    .dataframe tbody tr th {\n",
       "        vertical-align: top;\n",
       "    }\n",
       "\n",
       "    .dataframe thead th {\n",
       "        text-align: right;\n",
       "    }\n",
       "</style>\n",
       "<table border=\"1\" class=\"dataframe\">\n",
       "  <thead>\n",
       "    <tr style=\"text-align: right;\">\n",
       "      <th></th>\n",
       "      <th>customerID</th>\n",
       "      <th>gender</th>\n",
       "      <th>SeniorCitizen</th>\n",
       "      <th>Partner</th>\n",
       "      <th>Dependents</th>\n",
       "      <th>tenure</th>\n",
       "      <th>PhoneService</th>\n",
       "      <th>MultipleLines</th>\n",
       "      <th>InternetService</th>\n",
       "      <th>OnlineSecurity</th>\n",
       "      <th>...</th>\n",
       "      <th>DeviceProtection</th>\n",
       "      <th>TechSupport</th>\n",
       "      <th>StreamingTV</th>\n",
       "      <th>StreamingMovies</th>\n",
       "      <th>Contract</th>\n",
       "      <th>PaperlessBilling</th>\n",
       "      <th>PaymentMethod</th>\n",
       "      <th>MonthlyCharges</th>\n",
       "      <th>TotalCharges</th>\n",
       "      <th>Churn</th>\n",
       "    </tr>\n",
       "  </thead>\n",
       "  <tbody>\n",
       "    <tr>\n",
       "      <th>0</th>\n",
       "      <td>7590-VHVEG</td>\n",
       "      <td>Female</td>\n",
       "      <td>0</td>\n",
       "      <td>Yes</td>\n",
       "      <td>No</td>\n",
       "      <td>1</td>\n",
       "      <td>No</td>\n",
       "      <td>No phone service</td>\n",
       "      <td>DSL</td>\n",
       "      <td>No</td>\n",
       "      <td>...</td>\n",
       "      <td>No</td>\n",
       "      <td>No</td>\n",
       "      <td>No</td>\n",
       "      <td>No</td>\n",
       "      <td>Month-to-month</td>\n",
       "      <td>Yes</td>\n",
       "      <td>Electronic check</td>\n",
       "      <td>29.85</td>\n",
       "      <td>29.85</td>\n",
       "      <td>No</td>\n",
       "    </tr>\n",
       "    <tr>\n",
       "      <th>1</th>\n",
       "      <td>5575-GNVDE</td>\n",
       "      <td>Male</td>\n",
       "      <td>0</td>\n",
       "      <td>No</td>\n",
       "      <td>No</td>\n",
       "      <td>34</td>\n",
       "      <td>Yes</td>\n",
       "      <td>No</td>\n",
       "      <td>DSL</td>\n",
       "      <td>Yes</td>\n",
       "      <td>...</td>\n",
       "      <td>Yes</td>\n",
       "      <td>No</td>\n",
       "      <td>No</td>\n",
       "      <td>No</td>\n",
       "      <td>One year</td>\n",
       "      <td>No</td>\n",
       "      <td>Mailed check</td>\n",
       "      <td>56.95</td>\n",
       "      <td>1889.50</td>\n",
       "      <td>No</td>\n",
       "    </tr>\n",
       "    <tr>\n",
       "      <th>2</th>\n",
       "      <td>3668-QPYBK</td>\n",
       "      <td>Male</td>\n",
       "      <td>0</td>\n",
       "      <td>No</td>\n",
       "      <td>No</td>\n",
       "      <td>2</td>\n",
       "      <td>Yes</td>\n",
       "      <td>No</td>\n",
       "      <td>DSL</td>\n",
       "      <td>Yes</td>\n",
       "      <td>...</td>\n",
       "      <td>No</td>\n",
       "      <td>No</td>\n",
       "      <td>No</td>\n",
       "      <td>No</td>\n",
       "      <td>Month-to-month</td>\n",
       "      <td>Yes</td>\n",
       "      <td>Mailed check</td>\n",
       "      <td>53.85</td>\n",
       "      <td>108.15</td>\n",
       "      <td>Yes</td>\n",
       "    </tr>\n",
       "    <tr>\n",
       "      <th>3</th>\n",
       "      <td>7795-CFOCW</td>\n",
       "      <td>Male</td>\n",
       "      <td>0</td>\n",
       "      <td>No</td>\n",
       "      <td>No</td>\n",
       "      <td>45</td>\n",
       "      <td>No</td>\n",
       "      <td>No phone service</td>\n",
       "      <td>DSL</td>\n",
       "      <td>Yes</td>\n",
       "      <td>...</td>\n",
       "      <td>Yes</td>\n",
       "      <td>Yes</td>\n",
       "      <td>No</td>\n",
       "      <td>No</td>\n",
       "      <td>One year</td>\n",
       "      <td>No</td>\n",
       "      <td>Bank transfer (automatic)</td>\n",
       "      <td>42.30</td>\n",
       "      <td>1840.75</td>\n",
       "      <td>No</td>\n",
       "    </tr>\n",
       "    <tr>\n",
       "      <th>4</th>\n",
       "      <td>9237-HQITU</td>\n",
       "      <td>Female</td>\n",
       "      <td>0</td>\n",
       "      <td>No</td>\n",
       "      <td>No</td>\n",
       "      <td>2</td>\n",
       "      <td>Yes</td>\n",
       "      <td>No</td>\n",
       "      <td>Fiber optic</td>\n",
       "      <td>No</td>\n",
       "      <td>...</td>\n",
       "      <td>No</td>\n",
       "      <td>No</td>\n",
       "      <td>No</td>\n",
       "      <td>No</td>\n",
       "      <td>Month-to-month</td>\n",
       "      <td>Yes</td>\n",
       "      <td>Electronic check</td>\n",
       "      <td>70.70</td>\n",
       "      <td>151.65</td>\n",
       "      <td>Yes</td>\n",
       "    </tr>\n",
       "  </tbody>\n",
       "</table>\n",
       "<p>5 rows × 21 columns</p>\n",
       "</div>"
      ],
      "text/plain": [
       "   customerID  gender  SeniorCitizen Partner Dependents  tenure PhoneService  \\\n",
       "0  7590-VHVEG  Female              0     Yes         No       1           No   \n",
       "1  5575-GNVDE    Male              0      No         No      34          Yes   \n",
       "2  3668-QPYBK    Male              0      No         No       2          Yes   \n",
       "3  7795-CFOCW    Male              0      No         No      45           No   \n",
       "4  9237-HQITU  Female              0      No         No       2          Yes   \n",
       "\n",
       "      MultipleLines InternetService OnlineSecurity  ... DeviceProtection  \\\n",
       "0  No phone service             DSL             No  ...               No   \n",
       "1                No             DSL            Yes  ...              Yes   \n",
       "2                No             DSL            Yes  ...               No   \n",
       "3  No phone service             DSL            Yes  ...              Yes   \n",
       "4                No     Fiber optic             No  ...               No   \n",
       "\n",
       "  TechSupport StreamingTV StreamingMovies        Contract PaperlessBilling  \\\n",
       "0          No          No              No  Month-to-month              Yes   \n",
       "1          No          No              No        One year               No   \n",
       "2          No          No              No  Month-to-month              Yes   \n",
       "3         Yes          No              No        One year               No   \n",
       "4          No          No              No  Month-to-month              Yes   \n",
       "\n",
       "               PaymentMethod MonthlyCharges  TotalCharges  Churn  \n",
       "0           Electronic check          29.85         29.85     No  \n",
       "1               Mailed check          56.95       1889.50     No  \n",
       "2               Mailed check          53.85        108.15    Yes  \n",
       "3  Bank transfer (automatic)          42.30       1840.75     No  \n",
       "4           Electronic check          70.70        151.65    Yes  \n",
       "\n",
       "[5 rows x 21 columns]"
      ]
     },
     "execution_count": 101,
     "metadata": {},
     "output_type": "execute_result"
    }
   ],
   "source": [
    "df.head()"
   ]
  },
  {
   "cell_type": "markdown",
   "id": "78b87fbf",
   "metadata": {},
   "source": [
    "#### Identify the input and output/target variables."
   ]
  },
  {
   "cell_type": "code",
   "execution_count": 102,
   "id": "db9065e0",
   "metadata": {},
   "outputs": [
    {
     "data": {
      "text/plain": [
       "Index(['customerID', 'gender', 'SeniorCitizen', 'Partner', 'Dependents',\n",
       "       'tenure', 'PhoneService', 'MultipleLines', 'InternetService',\n",
       "       'OnlineSecurity', 'OnlineBackup', 'DeviceProtection', 'TechSupport',\n",
       "       'StreamingTV', 'StreamingMovies', 'Contract', 'PaperlessBilling',\n",
       "       'PaymentMethod', 'MonthlyCharges', 'TotalCharges', 'Churn'],\n",
       "      dtype='object')"
      ]
     },
     "execution_count": 102,
     "metadata": {},
     "output_type": "execute_result"
    }
   ],
   "source": [
    "df.columns"
   ]
  },
  {
   "cell_type": "code",
   "execution_count": 103,
   "id": "65ad8173",
   "metadata": {},
   "outputs": [],
   "source": [
    "y = df['Churn']\n",
    "\n",
    "X = df[['tenure', 'PhoneService', 'InternetService',\n",
    "       'OnlineSecurity', 'OnlineBackup', 'DeviceProtection', 'TechSupport',\n",
    "       'Contract', 'PaperlessBilling',\n",
    "       'PaymentMethod', 'MonthlyCharges', 'TotalCharges']]"
   ]
  },
  {
   "cell_type": "markdown",
   "id": "65ef9de4",
   "metadata": {},
   "source": [
    "#### Identify the type of ML Task:\n",
    "**Alg:** Supervised     \n",
    "**Task:** Classification     "
   ]
  },
  {
   "cell_type": "markdown",
   "id": "16e775ea",
   "metadata": {},
   "source": [
    "####  Split the dataset into Training and Testing (recommended 75:25 split)"
   ]
  },
  {
   "cell_type": "code",
   "execution_count": 104,
   "id": "7a6445fd",
   "metadata": {},
   "outputs": [
    {
     "name": "stdout",
     "output_type": "stream",
     "text": [
      "(5282, 12) (5282,)\n",
      "(1761, 12) (1761,)\n"
     ]
    }
   ],
   "source": [
    "from sklearn.model_selection import train_test_split \n",
    "\n",
    "X_train,X_test,y_train,y_test = train_test_split(X,y,train_size=0.75,random_state=0)\n",
    "\n",
    "\n",
    "print(X_train.shape,y_train.shape)\n",
    "print(X_test.shape,y_test.shape)"
   ]
  },
  {
   "cell_type": "code",
   "execution_count": 105,
   "id": "0e5d992b",
   "metadata": {},
   "outputs": [
    {
     "data": {
      "text/html": [
       "<div>\n",
       "<style scoped>\n",
       "    .dataframe tbody tr th:only-of-type {\n",
       "        vertical-align: middle;\n",
       "    }\n",
       "\n",
       "    .dataframe tbody tr th {\n",
       "        vertical-align: top;\n",
       "    }\n",
       "\n",
       "    .dataframe thead th {\n",
       "        text-align: right;\n",
       "    }\n",
       "</style>\n",
       "<table border=\"1\" class=\"dataframe\">\n",
       "  <thead>\n",
       "    <tr style=\"text-align: right;\">\n",
       "      <th></th>\n",
       "      <th>tenure</th>\n",
       "      <th>PhoneService</th>\n",
       "      <th>InternetService</th>\n",
       "      <th>OnlineSecurity</th>\n",
       "      <th>OnlineBackup</th>\n",
       "      <th>DeviceProtection</th>\n",
       "      <th>TechSupport</th>\n",
       "      <th>Contract</th>\n",
       "      <th>PaperlessBilling</th>\n",
       "      <th>PaymentMethod</th>\n",
       "      <th>MonthlyCharges</th>\n",
       "      <th>TotalCharges</th>\n",
       "    </tr>\n",
       "  </thead>\n",
       "  <tbody>\n",
       "    <tr>\n",
       "      <th>3296</th>\n",
       "      <td>24</td>\n",
       "      <td>Yes</td>\n",
       "      <td>DSL</td>\n",
       "      <td>No</td>\n",
       "      <td>No</td>\n",
       "      <td>Yes</td>\n",
       "      <td>No</td>\n",
       "      <td>Month-to-month</td>\n",
       "      <td>Yes</td>\n",
       "      <td>Credit card (automatic)</td>\n",
       "      <td>49.30</td>\n",
       "      <td>1233.25</td>\n",
       "    </tr>\n",
       "    <tr>\n",
       "      <th>6397</th>\n",
       "      <td>54</td>\n",
       "      <td>Yes</td>\n",
       "      <td>DSL</td>\n",
       "      <td>No</td>\n",
       "      <td>No</td>\n",
       "      <td>Yes</td>\n",
       "      <td>Yes</td>\n",
       "      <td>One year</td>\n",
       "      <td>No</td>\n",
       "      <td>Bank transfer (automatic)</td>\n",
       "      <td>65.25</td>\n",
       "      <td>3529.95</td>\n",
       "    </tr>\n",
       "    <tr>\n",
       "      <th>6043</th>\n",
       "      <td>3</td>\n",
       "      <td>No</td>\n",
       "      <td>DSL</td>\n",
       "      <td>No</td>\n",
       "      <td>No</td>\n",
       "      <td>Yes</td>\n",
       "      <td>No</td>\n",
       "      <td>Month-to-month</td>\n",
       "      <td>Yes</td>\n",
       "      <td>Mailed check</td>\n",
       "      <td>40.15</td>\n",
       "      <td>130.75</td>\n",
       "    </tr>\n",
       "    <tr>\n",
       "      <th>5309</th>\n",
       "      <td>61</td>\n",
       "      <td>Yes</td>\n",
       "      <td>No</td>\n",
       "      <td>No internet service</td>\n",
       "      <td>No internet service</td>\n",
       "      <td>No internet service</td>\n",
       "      <td>No internet service</td>\n",
       "      <td>Two year</td>\n",
       "      <td>No</td>\n",
       "      <td>Credit card (automatic)</td>\n",
       "      <td>20.25</td>\n",
       "      <td>1278.80</td>\n",
       "    </tr>\n",
       "    <tr>\n",
       "      <th>3000</th>\n",
       "      <td>12</td>\n",
       "      <td>Yes</td>\n",
       "      <td>Fiber optic</td>\n",
       "      <td>No</td>\n",
       "      <td>No</td>\n",
       "      <td>No</td>\n",
       "      <td>No</td>\n",
       "      <td>Month-to-month</td>\n",
       "      <td>Yes</td>\n",
       "      <td>Electronic check</td>\n",
       "      <td>84.45</td>\n",
       "      <td>1059.55</td>\n",
       "    </tr>\n",
       "  </tbody>\n",
       "</table>\n",
       "</div>"
      ],
      "text/plain": [
       "      tenure PhoneService InternetService       OnlineSecurity  \\\n",
       "3296      24          Yes             DSL                   No   \n",
       "6397      54          Yes             DSL                   No   \n",
       "6043       3           No             DSL                   No   \n",
       "5309      61          Yes              No  No internet service   \n",
       "3000      12          Yes     Fiber optic                   No   \n",
       "\n",
       "             OnlineBackup     DeviceProtection          TechSupport  \\\n",
       "3296                   No                  Yes                   No   \n",
       "6397                   No                  Yes                  Yes   \n",
       "6043                   No                  Yes                   No   \n",
       "5309  No internet service  No internet service  No internet service   \n",
       "3000                   No                   No                   No   \n",
       "\n",
       "            Contract PaperlessBilling              PaymentMethod  \\\n",
       "3296  Month-to-month              Yes    Credit card (automatic)   \n",
       "6397        One year               No  Bank transfer (automatic)   \n",
       "6043  Month-to-month              Yes               Mailed check   \n",
       "5309        Two year               No    Credit card (automatic)   \n",
       "3000  Month-to-month              Yes           Electronic check   \n",
       "\n",
       "      MonthlyCharges  TotalCharges  \n",
       "3296           49.30       1233.25  \n",
       "6397           65.25       3529.95  \n",
       "6043           40.15        130.75  \n",
       "5309           20.25       1278.80  \n",
       "3000           84.45       1059.55  "
      ]
     },
     "execution_count": 105,
     "metadata": {},
     "output_type": "execute_result"
    }
   ],
   "source": [
    "X_train.head()"
   ]
  },
  {
   "cell_type": "markdown",
   "id": "89d84e02",
   "metadata": {},
   "source": [
    "#### Splitting the Numerical and Categorical features from the train data"
   ]
  },
  {
   "cell_type": "code",
   "execution_count": 106,
   "id": "91be28c0",
   "metadata": {},
   "outputs": [
    {
     "data": {
      "text/plain": [
       "tenure                int64\n",
       "PhoneService         object\n",
       "InternetService      object\n",
       "OnlineSecurity       object\n",
       "OnlineBackup         object\n",
       "DeviceProtection     object\n",
       "TechSupport          object\n",
       "Contract             object\n",
       "PaperlessBilling     object\n",
       "PaymentMethod        object\n",
       "MonthlyCharges      float64\n",
       "TotalCharges        float64\n",
       "dtype: object"
      ]
     },
     "execution_count": 106,
     "metadata": {},
     "output_type": "execute_result"
    }
   ],
   "source": [
    "X_train.dtypes"
   ]
  },
  {
   "cell_type": "code",
   "execution_count": 107,
   "id": "8bf4ad1a",
   "metadata": {},
   "outputs": [
    {
     "data": {
      "text/html": [
       "<div>\n",
       "<style scoped>\n",
       "    .dataframe tbody tr th:only-of-type {\n",
       "        vertical-align: middle;\n",
       "    }\n",
       "\n",
       "    .dataframe tbody tr th {\n",
       "        vertical-align: top;\n",
       "    }\n",
       "\n",
       "    .dataframe thead th {\n",
       "        text-align: right;\n",
       "    }\n",
       "</style>\n",
       "<table border=\"1\" class=\"dataframe\">\n",
       "  <thead>\n",
       "    <tr style=\"text-align: right;\">\n",
       "      <th></th>\n",
       "      <th>tenure</th>\n",
       "      <th>MonthlyCharges</th>\n",
       "      <th>TotalCharges</th>\n",
       "    </tr>\n",
       "  </thead>\n",
       "  <tbody>\n",
       "    <tr>\n",
       "      <th>3296</th>\n",
       "      <td>24</td>\n",
       "      <td>49.30</td>\n",
       "      <td>1233.25</td>\n",
       "    </tr>\n",
       "    <tr>\n",
       "      <th>6397</th>\n",
       "      <td>54</td>\n",
       "      <td>65.25</td>\n",
       "      <td>3529.95</td>\n",
       "    </tr>\n",
       "    <tr>\n",
       "      <th>6043</th>\n",
       "      <td>3</td>\n",
       "      <td>40.15</td>\n",
       "      <td>130.75</td>\n",
       "    </tr>\n",
       "    <tr>\n",
       "      <th>5309</th>\n",
       "      <td>61</td>\n",
       "      <td>20.25</td>\n",
       "      <td>1278.80</td>\n",
       "    </tr>\n",
       "    <tr>\n",
       "      <th>3000</th>\n",
       "      <td>12</td>\n",
       "      <td>84.45</td>\n",
       "      <td>1059.55</td>\n",
       "    </tr>\n",
       "  </tbody>\n",
       "</table>\n",
       "</div>"
      ],
      "text/plain": [
       "      tenure  MonthlyCharges  TotalCharges\n",
       "3296      24           49.30       1233.25\n",
       "6397      54           65.25       3529.95\n",
       "6043       3           40.15        130.75\n",
       "5309      61           20.25       1278.80\n",
       "3000      12           84.45       1059.55"
      ]
     },
     "execution_count": 107,
     "metadata": {},
     "output_type": "execute_result"
    }
   ],
   "source": [
    "X_train_num = X_train.select_dtypes(include=['int64','float64'])\n",
    "\n",
    "X_train_num.head()"
   ]
  },
  {
   "cell_type": "code",
   "execution_count": 108,
   "id": "479e3f1e",
   "metadata": {},
   "outputs": [
    {
     "data": {
      "text/html": [
       "<div>\n",
       "<style scoped>\n",
       "    .dataframe tbody tr th:only-of-type {\n",
       "        vertical-align: middle;\n",
       "    }\n",
       "\n",
       "    .dataframe tbody tr th {\n",
       "        vertical-align: top;\n",
       "    }\n",
       "\n",
       "    .dataframe thead th {\n",
       "        text-align: right;\n",
       "    }\n",
       "</style>\n",
       "<table border=\"1\" class=\"dataframe\">\n",
       "  <thead>\n",
       "    <tr style=\"text-align: right;\">\n",
       "      <th></th>\n",
       "      <th>PhoneService</th>\n",
       "      <th>InternetService</th>\n",
       "      <th>OnlineSecurity</th>\n",
       "      <th>OnlineBackup</th>\n",
       "      <th>DeviceProtection</th>\n",
       "      <th>TechSupport</th>\n",
       "      <th>Contract</th>\n",
       "      <th>PaperlessBilling</th>\n",
       "      <th>PaymentMethod</th>\n",
       "    </tr>\n",
       "  </thead>\n",
       "  <tbody>\n",
       "    <tr>\n",
       "      <th>3296</th>\n",
       "      <td>Yes</td>\n",
       "      <td>DSL</td>\n",
       "      <td>No</td>\n",
       "      <td>No</td>\n",
       "      <td>Yes</td>\n",
       "      <td>No</td>\n",
       "      <td>Month-to-month</td>\n",
       "      <td>Yes</td>\n",
       "      <td>Credit card (automatic)</td>\n",
       "    </tr>\n",
       "    <tr>\n",
       "      <th>6397</th>\n",
       "      <td>Yes</td>\n",
       "      <td>DSL</td>\n",
       "      <td>No</td>\n",
       "      <td>No</td>\n",
       "      <td>Yes</td>\n",
       "      <td>Yes</td>\n",
       "      <td>One year</td>\n",
       "      <td>No</td>\n",
       "      <td>Bank transfer (automatic)</td>\n",
       "    </tr>\n",
       "    <tr>\n",
       "      <th>6043</th>\n",
       "      <td>No</td>\n",
       "      <td>DSL</td>\n",
       "      <td>No</td>\n",
       "      <td>No</td>\n",
       "      <td>Yes</td>\n",
       "      <td>No</td>\n",
       "      <td>Month-to-month</td>\n",
       "      <td>Yes</td>\n",
       "      <td>Mailed check</td>\n",
       "    </tr>\n",
       "    <tr>\n",
       "      <th>5309</th>\n",
       "      <td>Yes</td>\n",
       "      <td>No</td>\n",
       "      <td>No internet service</td>\n",
       "      <td>No internet service</td>\n",
       "      <td>No internet service</td>\n",
       "      <td>No internet service</td>\n",
       "      <td>Two year</td>\n",
       "      <td>No</td>\n",
       "      <td>Credit card (automatic)</td>\n",
       "    </tr>\n",
       "    <tr>\n",
       "      <th>3000</th>\n",
       "      <td>Yes</td>\n",
       "      <td>Fiber optic</td>\n",
       "      <td>No</td>\n",
       "      <td>No</td>\n",
       "      <td>No</td>\n",
       "      <td>No</td>\n",
       "      <td>Month-to-month</td>\n",
       "      <td>Yes</td>\n",
       "      <td>Electronic check</td>\n",
       "    </tr>\n",
       "  </tbody>\n",
       "</table>\n",
       "</div>"
      ],
      "text/plain": [
       "     PhoneService InternetService       OnlineSecurity         OnlineBackup  \\\n",
       "3296          Yes             DSL                   No                   No   \n",
       "6397          Yes             DSL                   No                   No   \n",
       "6043           No             DSL                   No                   No   \n",
       "5309          Yes              No  No internet service  No internet service   \n",
       "3000          Yes     Fiber optic                   No                   No   \n",
       "\n",
       "         DeviceProtection          TechSupport        Contract  \\\n",
       "3296                  Yes                   No  Month-to-month   \n",
       "6397                  Yes                  Yes        One year   \n",
       "6043                  Yes                   No  Month-to-month   \n",
       "5309  No internet service  No internet service        Two year   \n",
       "3000                   No                   No  Month-to-month   \n",
       "\n",
       "     PaperlessBilling              PaymentMethod  \n",
       "3296              Yes    Credit card (automatic)  \n",
       "6397               No  Bank transfer (automatic)  \n",
       "6043              Yes               Mailed check  \n",
       "5309               No    Credit card (automatic)  \n",
       "3000              Yes           Electronic check  "
      ]
     },
     "execution_count": 108,
     "metadata": {},
     "output_type": "execute_result"
    }
   ],
   "source": [
    "X_train_cat = X_train.select_dtypes(include=['object'])\n",
    "\n",
    "X_train_cat.head()"
   ]
  },
  {
   "cell_type": "code",
   "execution_count": 109,
   "id": "5b01ca87",
   "metadata": {},
   "outputs": [
    {
     "data": {
      "text/plain": [
       "Index(['PhoneService', 'InternetService', 'OnlineSecurity', 'OnlineBackup',\n",
       "       'DeviceProtection', 'TechSupport', 'Contract', 'PaperlessBilling',\n",
       "       'PaymentMethod'],\n",
       "      dtype='object')"
      ]
     },
     "execution_count": 109,
     "metadata": {},
     "output_type": "execute_result"
    }
   ],
   "source": [
    "X_train_cat.columns"
   ]
  },
  {
   "cell_type": "code",
   "execution_count": 110,
   "id": "2da913ad",
   "metadata": {},
   "outputs": [
    {
     "data": {
      "text/html": [
       "<div>\n",
       "<style scoped>\n",
       "    .dataframe tbody tr th:only-of-type {\n",
       "        vertical-align: middle;\n",
       "    }\n",
       "\n",
       "    .dataframe tbody tr th {\n",
       "        vertical-align: top;\n",
       "    }\n",
       "\n",
       "    .dataframe thead th {\n",
       "        text-align: right;\n",
       "    }\n",
       "</style>\n",
       "<table border=\"1\" class=\"dataframe\">\n",
       "  <thead>\n",
       "    <tr style=\"text-align: right;\">\n",
       "      <th></th>\n",
       "      <th>Contract</th>\n",
       "    </tr>\n",
       "  </thead>\n",
       "  <tbody>\n",
       "    <tr>\n",
       "      <th>3296</th>\n",
       "      <td>Month-to-month</td>\n",
       "    </tr>\n",
       "    <tr>\n",
       "      <th>6397</th>\n",
       "      <td>One year</td>\n",
       "    </tr>\n",
       "    <tr>\n",
       "      <th>6043</th>\n",
       "      <td>Month-to-month</td>\n",
       "    </tr>\n",
       "    <tr>\n",
       "      <th>5309</th>\n",
       "      <td>Two year</td>\n",
       "    </tr>\n",
       "    <tr>\n",
       "      <th>3000</th>\n",
       "      <td>Month-to-month</td>\n",
       "    </tr>\n",
       "  </tbody>\n",
       "</table>\n",
       "</div>"
      ],
      "text/plain": [
       "            Contract\n",
       "3296  Month-to-month\n",
       "6397        One year\n",
       "6043  Month-to-month\n",
       "5309        Two year\n",
       "3000  Month-to-month"
      ]
     },
     "execution_count": 110,
     "metadata": {},
     "output_type": "execute_result"
    }
   ],
   "source": [
    "X_train_cat_ord = X_train_cat[['Contract']]  \n",
    "X_train_cat_ord = pd.DataFrame(X_train_cat_ord, columns=['Contract']) \n",
    "\n",
    "X_train_cat_ord.head()"
   ]
  },
  {
   "cell_type": "code",
   "execution_count": 111,
   "id": "72255de1",
   "metadata": {},
   "outputs": [
    {
     "data": {
      "text/html": [
       "<div>\n",
       "<style scoped>\n",
       "    .dataframe tbody tr th:only-of-type {\n",
       "        vertical-align: middle;\n",
       "    }\n",
       "\n",
       "    .dataframe tbody tr th {\n",
       "        vertical-align: top;\n",
       "    }\n",
       "\n",
       "    .dataframe thead th {\n",
       "        text-align: right;\n",
       "    }\n",
       "</style>\n",
       "<table border=\"1\" class=\"dataframe\">\n",
       "  <thead>\n",
       "    <tr style=\"text-align: right;\">\n",
       "      <th></th>\n",
       "      <th>PhoneService</th>\n",
       "      <th>InternetService</th>\n",
       "      <th>OnlineSecurity</th>\n",
       "      <th>OnlineBackup</th>\n",
       "      <th>DeviceProtection</th>\n",
       "      <th>TechSupport</th>\n",
       "      <th>PaperlessBilling</th>\n",
       "      <th>PaymentMethod</th>\n",
       "    </tr>\n",
       "  </thead>\n",
       "  <tbody>\n",
       "    <tr>\n",
       "      <th>3296</th>\n",
       "      <td>Yes</td>\n",
       "      <td>DSL</td>\n",
       "      <td>No</td>\n",
       "      <td>No</td>\n",
       "      <td>Yes</td>\n",
       "      <td>No</td>\n",
       "      <td>Yes</td>\n",
       "      <td>Credit card (automatic)</td>\n",
       "    </tr>\n",
       "    <tr>\n",
       "      <th>6397</th>\n",
       "      <td>Yes</td>\n",
       "      <td>DSL</td>\n",
       "      <td>No</td>\n",
       "      <td>No</td>\n",
       "      <td>Yes</td>\n",
       "      <td>Yes</td>\n",
       "      <td>No</td>\n",
       "      <td>Bank transfer (automatic)</td>\n",
       "    </tr>\n",
       "    <tr>\n",
       "      <th>6043</th>\n",
       "      <td>No</td>\n",
       "      <td>DSL</td>\n",
       "      <td>No</td>\n",
       "      <td>No</td>\n",
       "      <td>Yes</td>\n",
       "      <td>No</td>\n",
       "      <td>Yes</td>\n",
       "      <td>Mailed check</td>\n",
       "    </tr>\n",
       "    <tr>\n",
       "      <th>5309</th>\n",
       "      <td>Yes</td>\n",
       "      <td>No</td>\n",
       "      <td>No internet service</td>\n",
       "      <td>No internet service</td>\n",
       "      <td>No internet service</td>\n",
       "      <td>No internet service</td>\n",
       "      <td>No</td>\n",
       "      <td>Credit card (automatic)</td>\n",
       "    </tr>\n",
       "    <tr>\n",
       "      <th>3000</th>\n",
       "      <td>Yes</td>\n",
       "      <td>Fiber optic</td>\n",
       "      <td>No</td>\n",
       "      <td>No</td>\n",
       "      <td>No</td>\n",
       "      <td>No</td>\n",
       "      <td>Yes</td>\n",
       "      <td>Electronic check</td>\n",
       "    </tr>\n",
       "  </tbody>\n",
       "</table>\n",
       "</div>"
      ],
      "text/plain": [
       "     PhoneService InternetService       OnlineSecurity         OnlineBackup  \\\n",
       "3296          Yes             DSL                   No                   No   \n",
       "6397          Yes             DSL                   No                   No   \n",
       "6043           No             DSL                   No                   No   \n",
       "5309          Yes              No  No internet service  No internet service   \n",
       "3000          Yes     Fiber optic                   No                   No   \n",
       "\n",
       "         DeviceProtection          TechSupport PaperlessBilling  \\\n",
       "3296                  Yes                   No              Yes   \n",
       "6397                  Yes                  Yes               No   \n",
       "6043                  Yes                   No              Yes   \n",
       "5309  No internet service  No internet service               No   \n",
       "3000                   No                   No              Yes   \n",
       "\n",
       "                  PaymentMethod  \n",
       "3296    Credit card (automatic)  \n",
       "6397  Bank transfer (automatic)  \n",
       "6043               Mailed check  \n",
       "5309    Credit card (automatic)  \n",
       "3000           Electronic check  "
      ]
     },
     "execution_count": 111,
     "metadata": {},
     "output_type": "execute_result"
    }
   ],
   "source": [
    "X_train_cat_nomi = X_train_cat[['PhoneService','InternetService', 'OnlineSecurity', \n",
    "                                'OnlineBackup', 'DeviceProtection','TechSupport',\n",
    "                                'PaperlessBilling', 'PaymentMethod']]\n",
    "\n",
    "X_train_cat_nomi.head()"
   ]
  },
  {
   "cell_type": "markdown",
   "id": "d321699b",
   "metadata": {},
   "source": [
    "### Data Preparation on Train Data"
   ]
  },
  {
   "cell_type": "markdown",
   "id": "6b92662a",
   "metadata": {},
   "source": [
    "#### Rescalling Numerical features"
   ]
  },
  {
   "cell_type": "code",
   "execution_count": 112,
   "id": "bbf38c89",
   "metadata": {},
   "outputs": [
    {
     "data": {
      "text/html": [
       "<div>\n",
       "<style scoped>\n",
       "    .dataframe tbody tr th:only-of-type {\n",
       "        vertical-align: middle;\n",
       "    }\n",
       "\n",
       "    .dataframe tbody tr th {\n",
       "        vertical-align: top;\n",
       "    }\n",
       "\n",
       "    .dataframe thead th {\n",
       "        text-align: right;\n",
       "    }\n",
       "</style>\n",
       "<table border=\"1\" class=\"dataframe\">\n",
       "  <thead>\n",
       "    <tr style=\"text-align: right;\">\n",
       "      <th></th>\n",
       "      <th>tenure</th>\n",
       "      <th>MonthlyCharges</th>\n",
       "      <th>TotalCharges</th>\n",
       "    </tr>\n",
       "  </thead>\n",
       "  <tbody>\n",
       "    <tr>\n",
       "      <th>3296</th>\n",
       "      <td>-0.340191</td>\n",
       "      <td>-0.514314</td>\n",
       "      <td>-0.461523</td>\n",
       "    </tr>\n",
       "    <tr>\n",
       "      <th>6397</th>\n",
       "      <td>0.883210</td>\n",
       "      <td>0.017840</td>\n",
       "      <td>0.555935</td>\n",
       "    </tr>\n",
       "    <tr>\n",
       "      <th>6043</th>\n",
       "      <td>-1.196572</td>\n",
       "      <td>-0.819594</td>\n",
       "      <td>-0.949940</td>\n",
       "    </tr>\n",
       "    <tr>\n",
       "      <th>5309</th>\n",
       "      <td>1.168670</td>\n",
       "      <td>-1.483535</td>\n",
       "      <td>-0.441344</td>\n",
       "    </tr>\n",
       "    <tr>\n",
       "      <th>3000</th>\n",
       "      <td>-0.829552</td>\n",
       "      <td>0.658427</td>\n",
       "      <td>-0.538474</td>\n",
       "    </tr>\n",
       "  </tbody>\n",
       "</table>\n",
       "</div>"
      ],
      "text/plain": [
       "        tenure  MonthlyCharges  TotalCharges\n",
       "3296 -0.340191       -0.514314     -0.461523\n",
       "6397  0.883210        0.017840      0.555935\n",
       "6043 -1.196572       -0.819594     -0.949940\n",
       "5309  1.168670       -1.483535     -0.441344\n",
       "3000 -0.829552        0.658427     -0.538474"
      ]
     },
     "execution_count": 112,
     "metadata": {},
     "output_type": "execute_result"
    }
   ],
   "source": [
    "from sklearn.preprocessing import StandardScaler\n",
    "scaler = StandardScaler()\n",
    "\n",
    "# After the scalling column names will be lost \n",
    "X_train_num_rescaled = pd.DataFrame(scaler.fit_transform(X_train_num),\n",
    "                                         columns= X_train_num.columns,\n",
    "                                         index = X_train_num.index)\n",
    "X_train_num_rescaled.head()"
   ]
  },
  {
   "cell_type": "code",
   "execution_count": 113,
   "id": "1f7991b9",
   "metadata": {},
   "outputs": [
    {
     "data": {
      "text/html": [
       "<div>\n",
       "<style scoped>\n",
       "    .dataframe tbody tr th:only-of-type {\n",
       "        vertical-align: middle;\n",
       "    }\n",
       "\n",
       "    .dataframe tbody tr th {\n",
       "        vertical-align: top;\n",
       "    }\n",
       "\n",
       "    .dataframe thead th {\n",
       "        text-align: right;\n",
       "    }\n",
       "</style>\n",
       "<table border=\"1\" class=\"dataframe\">\n",
       "  <thead>\n",
       "    <tr style=\"text-align: right;\">\n",
       "      <th></th>\n",
       "      <th>tenure</th>\n",
       "      <th>MonthlyCharges</th>\n",
       "      <th>TotalCharges</th>\n",
       "    </tr>\n",
       "  </thead>\n",
       "  <tbody>\n",
       "    <tr>\n",
       "      <th>count</th>\n",
       "      <td>5282.000000</td>\n",
       "      <td>5282.000000</td>\n",
       "      <td>5282.000000</td>\n",
       "    </tr>\n",
       "    <tr>\n",
       "      <th>mean</th>\n",
       "      <td>32.342105</td>\n",
       "      <td>64.715288</td>\n",
       "      <td>2275.042721</td>\n",
       "    </tr>\n",
       "    <tr>\n",
       "      <th>std</th>\n",
       "      <td>24.524128</td>\n",
       "      <td>29.975356</td>\n",
       "      <td>2257.506060</td>\n",
       "    </tr>\n",
       "    <tr>\n",
       "      <th>min</th>\n",
       "      <td>0.000000</td>\n",
       "      <td>18.250000</td>\n",
       "      <td>18.850000</td>\n",
       "    </tr>\n",
       "    <tr>\n",
       "      <th>25%</th>\n",
       "      <td>9.000000</td>\n",
       "      <td>35.750000</td>\n",
       "      <td>412.525000</td>\n",
       "    </tr>\n",
       "    <tr>\n",
       "      <th>50%</th>\n",
       "      <td>29.000000</td>\n",
       "      <td>70.300000</td>\n",
       "      <td>1397.475000</td>\n",
       "    </tr>\n",
       "    <tr>\n",
       "      <th>75%</th>\n",
       "      <td>55.000000</td>\n",
       "      <td>89.800000</td>\n",
       "      <td>3769.925000</td>\n",
       "    </tr>\n",
       "    <tr>\n",
       "      <th>max</th>\n",
       "      <td>72.000000</td>\n",
       "      <td>118.650000</td>\n",
       "      <td>8684.800000</td>\n",
       "    </tr>\n",
       "  </tbody>\n",
       "</table>\n",
       "</div>"
      ],
      "text/plain": [
       "            tenure  MonthlyCharges  TotalCharges\n",
       "count  5282.000000     5282.000000   5282.000000\n",
       "mean     32.342105       64.715288   2275.042721\n",
       "std      24.524128       29.975356   2257.506060\n",
       "min       0.000000       18.250000     18.850000\n",
       "25%       9.000000       35.750000    412.525000\n",
       "50%      29.000000       70.300000   1397.475000\n",
       "75%      55.000000       89.800000   3769.925000\n",
       "max      72.000000      118.650000   8684.800000"
      ]
     },
     "execution_count": 113,
     "metadata": {},
     "output_type": "execute_result"
    }
   ],
   "source": [
    "X_train_num.describe()"
   ]
  },
  {
   "cell_type": "code",
   "execution_count": 114,
   "id": "d2219a40",
   "metadata": {},
   "outputs": [
    {
     "name": "stdout",
     "output_type": "stream",
     "text": [
      "Number of Numerical Features: 3\n",
      "Mean of each column: [  32.34210526   64.71528777 2275.04272056]\n",
      "Std of each column: [  24.52180607   29.97251869 2257.29235213]\n"
     ]
    }
   ],
   "source": [
    "print(\"Number of Numerical Features:\", scaler.n_features_in_)\n",
    "print(\"Mean of each column:\", scaler.mean_)\n",
    "print(\"Std of each column:\", np.sqrt(scaler.var_))"
   ]
  },
  {
   "cell_type": "markdown",
   "id": "0191a5d6",
   "metadata": {},
   "source": [
    "#### LabelEncoding for Categorical(Ordinal) Feature"
   ]
  },
  {
   "cell_type": "code",
   "execution_count": 115,
   "id": "96b678c4",
   "metadata": {},
   "outputs": [
    {
     "data": {
      "text/html": [
       "<div>\n",
       "<style scoped>\n",
       "    .dataframe tbody tr th:only-of-type {\n",
       "        vertical-align: middle;\n",
       "    }\n",
       "\n",
       "    .dataframe tbody tr th {\n",
       "        vertical-align: top;\n",
       "    }\n",
       "\n",
       "    .dataframe thead th {\n",
       "        text-align: right;\n",
       "    }\n",
       "</style>\n",
       "<table border=\"1\" class=\"dataframe\">\n",
       "  <thead>\n",
       "    <tr style=\"text-align: right;\">\n",
       "      <th></th>\n",
       "    </tr>\n",
       "  </thead>\n",
       "  <tbody>\n",
       "    <tr>\n",
       "      <th>3296</th>\n",
       "    </tr>\n",
       "    <tr>\n",
       "      <th>6397</th>\n",
       "    </tr>\n",
       "    <tr>\n",
       "      <th>6043</th>\n",
       "    </tr>\n",
       "    <tr>\n",
       "      <th>5309</th>\n",
       "    </tr>\n",
       "    <tr>\n",
       "      <th>3000</th>\n",
       "    </tr>\n",
       "  </tbody>\n",
       "</table>\n",
       "</div>"
      ],
      "text/plain": [
       "Empty DataFrame\n",
       "Columns: []\n",
       "Index: [3296, 6397, 6043, 5309, 3000]"
      ]
     },
     "execution_count": 115,
     "metadata": {},
     "output_type": "execute_result"
    }
   ],
   "source": [
    "X_train_cat_LabelEnc = pd.DataFrame(index=X_train_cat_ord.index)\n",
    "\n",
    "X_train_cat_LabelEnc.head()"
   ]
  },
  {
   "cell_type": "code",
   "execution_count": 116,
   "id": "3af30abd",
   "metadata": {},
   "outputs": [
    {
     "data": {
      "text/plain": [
       "array(['Month-to-month', 'One year', 'Two year'], dtype=object)"
      ]
     },
     "execution_count": 116,
     "metadata": {},
     "output_type": "execute_result"
    }
   ],
   "source": [
    "X_train_cat_ord.Contract.unique()"
   ]
  },
  {
   "cell_type": "code",
   "execution_count": 117,
   "id": "6f62bef7",
   "metadata": {},
   "outputs": [
    {
     "data": {
      "text/html": [
       "<div>\n",
       "<style scoped>\n",
       "    .dataframe tbody tr th:only-of-type {\n",
       "        vertical-align: middle;\n",
       "    }\n",
       "\n",
       "    .dataframe tbody tr th {\n",
       "        vertical-align: top;\n",
       "    }\n",
       "\n",
       "    .dataframe thead th {\n",
       "        text-align: right;\n",
       "    }\n",
       "</style>\n",
       "<table border=\"1\" class=\"dataframe\">\n",
       "  <thead>\n",
       "    <tr style=\"text-align: right;\">\n",
       "      <th></th>\n",
       "      <th>Contract</th>\n",
       "    </tr>\n",
       "  </thead>\n",
       "  <tbody>\n",
       "    <tr>\n",
       "      <th>3296</th>\n",
       "      <td>1</td>\n",
       "    </tr>\n",
       "    <tr>\n",
       "      <th>6397</th>\n",
       "      <td>2</td>\n",
       "    </tr>\n",
       "    <tr>\n",
       "      <th>6043</th>\n",
       "      <td>1</td>\n",
       "    </tr>\n",
       "    <tr>\n",
       "      <th>5309</th>\n",
       "      <td>3</td>\n",
       "    </tr>\n",
       "    <tr>\n",
       "      <th>3000</th>\n",
       "      <td>1</td>\n",
       "    </tr>\n",
       "  </tbody>\n",
       "</table>\n",
       "</div>"
      ],
      "text/plain": [
       "      Contract\n",
       "3296         1\n",
       "6397         2\n",
       "6043         1\n",
       "5309         3\n",
       "3000         1"
      ]
     },
     "execution_count": 117,
     "metadata": {},
     "output_type": "execute_result"
    }
   ],
   "source": [
    "cut_encoder = {'Month-to-month' : 1, 'One year' : 2, 'Two year' : 3}\n",
    "\n",
    "X_train_cat_LabelEnc['Contract'] = X_train_cat['Contract'].apply(lambda x : cut_encoder[x])\n",
    "\n",
    "X_train_cat_LabelEnc.head()"
   ]
  },
  {
   "cell_type": "markdown",
   "id": "702cc948",
   "metadata": {},
   "source": [
    "#### OneHot Encoding for Categorical Features"
   ]
  },
  {
   "cell_type": "code",
   "execution_count": 118,
   "id": "c613d50e",
   "metadata": {},
   "outputs": [
    {
     "data": {
      "text/html": [
       "<div>\n",
       "<style scoped>\n",
       "    .dataframe tbody tr th:only-of-type {\n",
       "        vertical-align: middle;\n",
       "    }\n",
       "\n",
       "    .dataframe tbody tr th {\n",
       "        vertical-align: top;\n",
       "    }\n",
       "\n",
       "    .dataframe thead th {\n",
       "        text-align: right;\n",
       "    }\n",
       "</style>\n",
       "<table border=\"1\" class=\"dataframe\">\n",
       "  <thead>\n",
       "    <tr style=\"text-align: right;\">\n",
       "      <th></th>\n",
       "      <th>PhoneService_Yes</th>\n",
       "      <th>InternetService_Fiber optic</th>\n",
       "      <th>InternetService_No</th>\n",
       "      <th>OnlineSecurity_No internet service</th>\n",
       "      <th>OnlineSecurity_Yes</th>\n",
       "      <th>OnlineBackup_No internet service</th>\n",
       "      <th>OnlineBackup_Yes</th>\n",
       "      <th>DeviceProtection_No internet service</th>\n",
       "      <th>DeviceProtection_Yes</th>\n",
       "      <th>TechSupport_No internet service</th>\n",
       "      <th>TechSupport_Yes</th>\n",
       "      <th>PaperlessBilling_Yes</th>\n",
       "      <th>PaymentMethod_Credit card (automatic)</th>\n",
       "      <th>PaymentMethod_Electronic check</th>\n",
       "      <th>PaymentMethod_Mailed check</th>\n",
       "    </tr>\n",
       "  </thead>\n",
       "  <tbody>\n",
       "    <tr>\n",
       "      <th>3296</th>\n",
       "      <td>1.0</td>\n",
       "      <td>0.0</td>\n",
       "      <td>0.0</td>\n",
       "      <td>0.0</td>\n",
       "      <td>0.0</td>\n",
       "      <td>0.0</td>\n",
       "      <td>0.0</td>\n",
       "      <td>0.0</td>\n",
       "      <td>1.0</td>\n",
       "      <td>0.0</td>\n",
       "      <td>0.0</td>\n",
       "      <td>1.0</td>\n",
       "      <td>1.0</td>\n",
       "      <td>0.0</td>\n",
       "      <td>0.0</td>\n",
       "    </tr>\n",
       "    <tr>\n",
       "      <th>6397</th>\n",
       "      <td>1.0</td>\n",
       "      <td>0.0</td>\n",
       "      <td>0.0</td>\n",
       "      <td>0.0</td>\n",
       "      <td>0.0</td>\n",
       "      <td>0.0</td>\n",
       "      <td>0.0</td>\n",
       "      <td>0.0</td>\n",
       "      <td>1.0</td>\n",
       "      <td>0.0</td>\n",
       "      <td>1.0</td>\n",
       "      <td>0.0</td>\n",
       "      <td>0.0</td>\n",
       "      <td>0.0</td>\n",
       "      <td>0.0</td>\n",
       "    </tr>\n",
       "    <tr>\n",
       "      <th>6043</th>\n",
       "      <td>0.0</td>\n",
       "      <td>0.0</td>\n",
       "      <td>0.0</td>\n",
       "      <td>0.0</td>\n",
       "      <td>0.0</td>\n",
       "      <td>0.0</td>\n",
       "      <td>0.0</td>\n",
       "      <td>0.0</td>\n",
       "      <td>1.0</td>\n",
       "      <td>0.0</td>\n",
       "      <td>0.0</td>\n",
       "      <td>1.0</td>\n",
       "      <td>0.0</td>\n",
       "      <td>0.0</td>\n",
       "      <td>1.0</td>\n",
       "    </tr>\n",
       "    <tr>\n",
       "      <th>5309</th>\n",
       "      <td>1.0</td>\n",
       "      <td>0.0</td>\n",
       "      <td>1.0</td>\n",
       "      <td>1.0</td>\n",
       "      <td>0.0</td>\n",
       "      <td>1.0</td>\n",
       "      <td>0.0</td>\n",
       "      <td>1.0</td>\n",
       "      <td>0.0</td>\n",
       "      <td>1.0</td>\n",
       "      <td>0.0</td>\n",
       "      <td>0.0</td>\n",
       "      <td>1.0</td>\n",
       "      <td>0.0</td>\n",
       "      <td>0.0</td>\n",
       "    </tr>\n",
       "    <tr>\n",
       "      <th>3000</th>\n",
       "      <td>1.0</td>\n",
       "      <td>1.0</td>\n",
       "      <td>0.0</td>\n",
       "      <td>0.0</td>\n",
       "      <td>0.0</td>\n",
       "      <td>0.0</td>\n",
       "      <td>0.0</td>\n",
       "      <td>0.0</td>\n",
       "      <td>0.0</td>\n",
       "      <td>0.0</td>\n",
       "      <td>0.0</td>\n",
       "      <td>1.0</td>\n",
       "      <td>0.0</td>\n",
       "      <td>1.0</td>\n",
       "      <td>0.0</td>\n",
       "    </tr>\n",
       "  </tbody>\n",
       "</table>\n",
       "</div>"
      ],
      "text/plain": [
       "      PhoneService_Yes  InternetService_Fiber optic  InternetService_No  \\\n",
       "3296               1.0                          0.0                 0.0   \n",
       "6397               1.0                          0.0                 0.0   \n",
       "6043               0.0                          0.0                 0.0   \n",
       "5309               1.0                          0.0                 1.0   \n",
       "3000               1.0                          1.0                 0.0   \n",
       "\n",
       "      OnlineSecurity_No internet service  OnlineSecurity_Yes  \\\n",
       "3296                                 0.0                 0.0   \n",
       "6397                                 0.0                 0.0   \n",
       "6043                                 0.0                 0.0   \n",
       "5309                                 1.0                 0.0   \n",
       "3000                                 0.0                 0.0   \n",
       "\n",
       "      OnlineBackup_No internet service  OnlineBackup_Yes  \\\n",
       "3296                               0.0               0.0   \n",
       "6397                               0.0               0.0   \n",
       "6043                               0.0               0.0   \n",
       "5309                               1.0               0.0   \n",
       "3000                               0.0               0.0   \n",
       "\n",
       "      DeviceProtection_No internet service  DeviceProtection_Yes  \\\n",
       "3296                                   0.0                   1.0   \n",
       "6397                                   0.0                   1.0   \n",
       "6043                                   0.0                   1.0   \n",
       "5309                                   1.0                   0.0   \n",
       "3000                                   0.0                   0.0   \n",
       "\n",
       "      TechSupport_No internet service  TechSupport_Yes  PaperlessBilling_Yes  \\\n",
       "3296                              0.0              0.0                   1.0   \n",
       "6397                              0.0              1.0                   0.0   \n",
       "6043                              0.0              0.0                   1.0   \n",
       "5309                              1.0              0.0                   0.0   \n",
       "3000                              0.0              0.0                   1.0   \n",
       "\n",
       "      PaymentMethod_Credit card (automatic)  PaymentMethod_Electronic check  \\\n",
       "3296                                    1.0                             0.0   \n",
       "6397                                    0.0                             0.0   \n",
       "6043                                    0.0                             0.0   \n",
       "5309                                    1.0                             0.0   \n",
       "3000                                    0.0                             1.0   \n",
       "\n",
       "      PaymentMethod_Mailed check  \n",
       "3296                         0.0  \n",
       "6397                         0.0  \n",
       "6043                         1.0  \n",
       "5309                         0.0  \n",
       "3000                         0.0  "
      ]
     },
     "execution_count": 118,
     "metadata": {},
     "output_type": "execute_result"
    }
   ],
   "source": [
    "# OneHotEncoding the categorical features\n",
    "\n",
    "from sklearn.preprocessing import OneHotEncoder\n",
    "\n",
    "encoder = OneHotEncoder(drop='first', sparse=False)\n",
    "\n",
    "# Creating dataframe as columns will be in array format after OneHot Encoding\n",
    "X_train_cat_OneEnc = pd.DataFrame(encoder.fit_transform(X_train_cat_nomi), \n",
    "                               columns=encoder.get_feature_names_out(X_train_cat_nomi.columns), \n",
    "                               index = X_train_cat_nomi.index)\n",
    "\n",
    "X_train_cat_OneEnc.head()"
   ]
  },
  {
   "cell_type": "markdown",
   "id": "1317c921",
   "metadata": {},
   "source": [
    "#### Concatinating categorical Features(Ordinal and Nominal) and Numerical Features"
   ]
  },
  {
   "cell_type": "code",
   "execution_count": 119,
   "id": "96e05a35",
   "metadata": {},
   "outputs": [
    {
     "data": {
      "text/html": [
       "<div>\n",
       "<style scoped>\n",
       "    .dataframe tbody tr th:only-of-type {\n",
       "        vertical-align: middle;\n",
       "    }\n",
       "\n",
       "    .dataframe tbody tr th {\n",
       "        vertical-align: top;\n",
       "    }\n",
       "\n",
       "    .dataframe thead th {\n",
       "        text-align: right;\n",
       "    }\n",
       "</style>\n",
       "<table border=\"1\" class=\"dataframe\">\n",
       "  <thead>\n",
       "    <tr style=\"text-align: right;\">\n",
       "      <th></th>\n",
       "      <th>PhoneService_Yes</th>\n",
       "      <th>InternetService_Fiber optic</th>\n",
       "      <th>InternetService_No</th>\n",
       "      <th>OnlineSecurity_No internet service</th>\n",
       "      <th>OnlineSecurity_Yes</th>\n",
       "      <th>OnlineBackup_No internet service</th>\n",
       "      <th>OnlineBackup_Yes</th>\n",
       "      <th>DeviceProtection_No internet service</th>\n",
       "      <th>DeviceProtection_Yes</th>\n",
       "      <th>TechSupport_No internet service</th>\n",
       "      <th>TechSupport_Yes</th>\n",
       "      <th>PaperlessBilling_Yes</th>\n",
       "      <th>PaymentMethod_Credit card (automatic)</th>\n",
       "      <th>PaymentMethod_Electronic check</th>\n",
       "      <th>PaymentMethod_Mailed check</th>\n",
       "      <th>Contract</th>\n",
       "    </tr>\n",
       "  </thead>\n",
       "  <tbody>\n",
       "    <tr>\n",
       "      <th>3296</th>\n",
       "      <td>1.0</td>\n",
       "      <td>0.0</td>\n",
       "      <td>0.0</td>\n",
       "      <td>0.0</td>\n",
       "      <td>0.0</td>\n",
       "      <td>0.0</td>\n",
       "      <td>0.0</td>\n",
       "      <td>0.0</td>\n",
       "      <td>1.0</td>\n",
       "      <td>0.0</td>\n",
       "      <td>0.0</td>\n",
       "      <td>1.0</td>\n",
       "      <td>1.0</td>\n",
       "      <td>0.0</td>\n",
       "      <td>0.0</td>\n",
       "      <td>1</td>\n",
       "    </tr>\n",
       "    <tr>\n",
       "      <th>6397</th>\n",
       "      <td>1.0</td>\n",
       "      <td>0.0</td>\n",
       "      <td>0.0</td>\n",
       "      <td>0.0</td>\n",
       "      <td>0.0</td>\n",
       "      <td>0.0</td>\n",
       "      <td>0.0</td>\n",
       "      <td>0.0</td>\n",
       "      <td>1.0</td>\n",
       "      <td>0.0</td>\n",
       "      <td>1.0</td>\n",
       "      <td>0.0</td>\n",
       "      <td>0.0</td>\n",
       "      <td>0.0</td>\n",
       "      <td>0.0</td>\n",
       "      <td>2</td>\n",
       "    </tr>\n",
       "    <tr>\n",
       "      <th>6043</th>\n",
       "      <td>0.0</td>\n",
       "      <td>0.0</td>\n",
       "      <td>0.0</td>\n",
       "      <td>0.0</td>\n",
       "      <td>0.0</td>\n",
       "      <td>0.0</td>\n",
       "      <td>0.0</td>\n",
       "      <td>0.0</td>\n",
       "      <td>1.0</td>\n",
       "      <td>0.0</td>\n",
       "      <td>0.0</td>\n",
       "      <td>1.0</td>\n",
       "      <td>0.0</td>\n",
       "      <td>0.0</td>\n",
       "      <td>1.0</td>\n",
       "      <td>1</td>\n",
       "    </tr>\n",
       "    <tr>\n",
       "      <th>5309</th>\n",
       "      <td>1.0</td>\n",
       "      <td>0.0</td>\n",
       "      <td>1.0</td>\n",
       "      <td>1.0</td>\n",
       "      <td>0.0</td>\n",
       "      <td>1.0</td>\n",
       "      <td>0.0</td>\n",
       "      <td>1.0</td>\n",
       "      <td>0.0</td>\n",
       "      <td>1.0</td>\n",
       "      <td>0.0</td>\n",
       "      <td>0.0</td>\n",
       "      <td>1.0</td>\n",
       "      <td>0.0</td>\n",
       "      <td>0.0</td>\n",
       "      <td>3</td>\n",
       "    </tr>\n",
       "    <tr>\n",
       "      <th>3000</th>\n",
       "      <td>1.0</td>\n",
       "      <td>1.0</td>\n",
       "      <td>0.0</td>\n",
       "      <td>0.0</td>\n",
       "      <td>0.0</td>\n",
       "      <td>0.0</td>\n",
       "      <td>0.0</td>\n",
       "      <td>0.0</td>\n",
       "      <td>0.0</td>\n",
       "      <td>0.0</td>\n",
       "      <td>0.0</td>\n",
       "      <td>1.0</td>\n",
       "      <td>0.0</td>\n",
       "      <td>1.0</td>\n",
       "      <td>0.0</td>\n",
       "      <td>1</td>\n",
       "    </tr>\n",
       "  </tbody>\n",
       "</table>\n",
       "</div>"
      ],
      "text/plain": [
       "      PhoneService_Yes  InternetService_Fiber optic  InternetService_No  \\\n",
       "3296               1.0                          0.0                 0.0   \n",
       "6397               1.0                          0.0                 0.0   \n",
       "6043               0.0                          0.0                 0.0   \n",
       "5309               1.0                          0.0                 1.0   \n",
       "3000               1.0                          1.0                 0.0   \n",
       "\n",
       "      OnlineSecurity_No internet service  OnlineSecurity_Yes  \\\n",
       "3296                                 0.0                 0.0   \n",
       "6397                                 0.0                 0.0   \n",
       "6043                                 0.0                 0.0   \n",
       "5309                                 1.0                 0.0   \n",
       "3000                                 0.0                 0.0   \n",
       "\n",
       "      OnlineBackup_No internet service  OnlineBackup_Yes  \\\n",
       "3296                               0.0               0.0   \n",
       "6397                               0.0               0.0   \n",
       "6043                               0.0               0.0   \n",
       "5309                               1.0               0.0   \n",
       "3000                               0.0               0.0   \n",
       "\n",
       "      DeviceProtection_No internet service  DeviceProtection_Yes  \\\n",
       "3296                                   0.0                   1.0   \n",
       "6397                                   0.0                   1.0   \n",
       "6043                                   0.0                   1.0   \n",
       "5309                                   1.0                   0.0   \n",
       "3000                                   0.0                   0.0   \n",
       "\n",
       "      TechSupport_No internet service  TechSupport_Yes  PaperlessBilling_Yes  \\\n",
       "3296                              0.0              0.0                   1.0   \n",
       "6397                              0.0              1.0                   0.0   \n",
       "6043                              0.0              0.0                   1.0   \n",
       "5309                              1.0              0.0                   0.0   \n",
       "3000                              0.0              0.0                   1.0   \n",
       "\n",
       "      PaymentMethod_Credit card (automatic)  PaymentMethod_Electronic check  \\\n",
       "3296                                    1.0                             0.0   \n",
       "6397                                    0.0                             0.0   \n",
       "6043                                    0.0                             0.0   \n",
       "5309                                    1.0                             0.0   \n",
       "3000                                    0.0                             1.0   \n",
       "\n",
       "      PaymentMethod_Mailed check  Contract  \n",
       "3296                         0.0         1  \n",
       "6397                         0.0         2  \n",
       "6043                         1.0         1  \n",
       "5309                         0.0         3  \n",
       "3000                         0.0         1  "
      ]
     },
     "execution_count": 119,
     "metadata": {},
     "output_type": "execute_result"
    }
   ],
   "source": [
    "X_train_cat_rescaled = pd.concat([X_train_cat_OneEnc,X_train_cat_LabelEnc], axis=1)\n",
    "\n",
    "X_train_cat_rescaled.head()"
   ]
  },
  {
   "cell_type": "code",
   "execution_count": 120,
   "id": "48e492aa",
   "metadata": {},
   "outputs": [
    {
     "data": {
      "text/html": [
       "<div>\n",
       "<style scoped>\n",
       "    .dataframe tbody tr th:only-of-type {\n",
       "        vertical-align: middle;\n",
       "    }\n",
       "\n",
       "    .dataframe tbody tr th {\n",
       "        vertical-align: top;\n",
       "    }\n",
       "\n",
       "    .dataframe thead th {\n",
       "        text-align: right;\n",
       "    }\n",
       "</style>\n",
       "<table border=\"1\" class=\"dataframe\">\n",
       "  <thead>\n",
       "    <tr style=\"text-align: right;\">\n",
       "      <th></th>\n",
       "      <th>PhoneService_Yes</th>\n",
       "      <th>InternetService_Fiber optic</th>\n",
       "      <th>InternetService_No</th>\n",
       "      <th>OnlineSecurity_No internet service</th>\n",
       "      <th>OnlineSecurity_Yes</th>\n",
       "      <th>OnlineBackup_No internet service</th>\n",
       "      <th>OnlineBackup_Yes</th>\n",
       "      <th>DeviceProtection_No internet service</th>\n",
       "      <th>DeviceProtection_Yes</th>\n",
       "      <th>TechSupport_No internet service</th>\n",
       "      <th>TechSupport_Yes</th>\n",
       "      <th>PaperlessBilling_Yes</th>\n",
       "      <th>PaymentMethod_Credit card (automatic)</th>\n",
       "      <th>PaymentMethod_Electronic check</th>\n",
       "      <th>PaymentMethod_Mailed check</th>\n",
       "      <th>Contract</th>\n",
       "      <th>tenure</th>\n",
       "      <th>MonthlyCharges</th>\n",
       "      <th>TotalCharges</th>\n",
       "    </tr>\n",
       "  </thead>\n",
       "  <tbody>\n",
       "    <tr>\n",
       "      <th>3296</th>\n",
       "      <td>1.0</td>\n",
       "      <td>0.0</td>\n",
       "      <td>0.0</td>\n",
       "      <td>0.0</td>\n",
       "      <td>0.0</td>\n",
       "      <td>0.0</td>\n",
       "      <td>0.0</td>\n",
       "      <td>0.0</td>\n",
       "      <td>1.0</td>\n",
       "      <td>0.0</td>\n",
       "      <td>0.0</td>\n",
       "      <td>1.0</td>\n",
       "      <td>1.0</td>\n",
       "      <td>0.0</td>\n",
       "      <td>0.0</td>\n",
       "      <td>1</td>\n",
       "      <td>-0.340191</td>\n",
       "      <td>-0.514314</td>\n",
       "      <td>-0.461523</td>\n",
       "    </tr>\n",
       "    <tr>\n",
       "      <th>6397</th>\n",
       "      <td>1.0</td>\n",
       "      <td>0.0</td>\n",
       "      <td>0.0</td>\n",
       "      <td>0.0</td>\n",
       "      <td>0.0</td>\n",
       "      <td>0.0</td>\n",
       "      <td>0.0</td>\n",
       "      <td>0.0</td>\n",
       "      <td>1.0</td>\n",
       "      <td>0.0</td>\n",
       "      <td>1.0</td>\n",
       "      <td>0.0</td>\n",
       "      <td>0.0</td>\n",
       "      <td>0.0</td>\n",
       "      <td>0.0</td>\n",
       "      <td>2</td>\n",
       "      <td>0.883210</td>\n",
       "      <td>0.017840</td>\n",
       "      <td>0.555935</td>\n",
       "    </tr>\n",
       "    <tr>\n",
       "      <th>6043</th>\n",
       "      <td>0.0</td>\n",
       "      <td>0.0</td>\n",
       "      <td>0.0</td>\n",
       "      <td>0.0</td>\n",
       "      <td>0.0</td>\n",
       "      <td>0.0</td>\n",
       "      <td>0.0</td>\n",
       "      <td>0.0</td>\n",
       "      <td>1.0</td>\n",
       "      <td>0.0</td>\n",
       "      <td>0.0</td>\n",
       "      <td>1.0</td>\n",
       "      <td>0.0</td>\n",
       "      <td>0.0</td>\n",
       "      <td>1.0</td>\n",
       "      <td>1</td>\n",
       "      <td>-1.196572</td>\n",
       "      <td>-0.819594</td>\n",
       "      <td>-0.949940</td>\n",
       "    </tr>\n",
       "    <tr>\n",
       "      <th>5309</th>\n",
       "      <td>1.0</td>\n",
       "      <td>0.0</td>\n",
       "      <td>1.0</td>\n",
       "      <td>1.0</td>\n",
       "      <td>0.0</td>\n",
       "      <td>1.0</td>\n",
       "      <td>0.0</td>\n",
       "      <td>1.0</td>\n",
       "      <td>0.0</td>\n",
       "      <td>1.0</td>\n",
       "      <td>0.0</td>\n",
       "      <td>0.0</td>\n",
       "      <td>1.0</td>\n",
       "      <td>0.0</td>\n",
       "      <td>0.0</td>\n",
       "      <td>3</td>\n",
       "      <td>1.168670</td>\n",
       "      <td>-1.483535</td>\n",
       "      <td>-0.441344</td>\n",
       "    </tr>\n",
       "    <tr>\n",
       "      <th>3000</th>\n",
       "      <td>1.0</td>\n",
       "      <td>1.0</td>\n",
       "      <td>0.0</td>\n",
       "      <td>0.0</td>\n",
       "      <td>0.0</td>\n",
       "      <td>0.0</td>\n",
       "      <td>0.0</td>\n",
       "      <td>0.0</td>\n",
       "      <td>0.0</td>\n",
       "      <td>0.0</td>\n",
       "      <td>0.0</td>\n",
       "      <td>1.0</td>\n",
       "      <td>0.0</td>\n",
       "      <td>1.0</td>\n",
       "      <td>0.0</td>\n",
       "      <td>1</td>\n",
       "      <td>-0.829552</td>\n",
       "      <td>0.658427</td>\n",
       "      <td>-0.538474</td>\n",
       "    </tr>\n",
       "  </tbody>\n",
       "</table>\n",
       "</div>"
      ],
      "text/plain": [
       "      PhoneService_Yes  InternetService_Fiber optic  InternetService_No  \\\n",
       "3296               1.0                          0.0                 0.0   \n",
       "6397               1.0                          0.0                 0.0   \n",
       "6043               0.0                          0.0                 0.0   \n",
       "5309               1.0                          0.0                 1.0   \n",
       "3000               1.0                          1.0                 0.0   \n",
       "\n",
       "      OnlineSecurity_No internet service  OnlineSecurity_Yes  \\\n",
       "3296                                 0.0                 0.0   \n",
       "6397                                 0.0                 0.0   \n",
       "6043                                 0.0                 0.0   \n",
       "5309                                 1.0                 0.0   \n",
       "3000                                 0.0                 0.0   \n",
       "\n",
       "      OnlineBackup_No internet service  OnlineBackup_Yes  \\\n",
       "3296                               0.0               0.0   \n",
       "6397                               0.0               0.0   \n",
       "6043                               0.0               0.0   \n",
       "5309                               1.0               0.0   \n",
       "3000                               0.0               0.0   \n",
       "\n",
       "      DeviceProtection_No internet service  DeviceProtection_Yes  \\\n",
       "3296                                   0.0                   1.0   \n",
       "6397                                   0.0                   1.0   \n",
       "6043                                   0.0                   1.0   \n",
       "5309                                   1.0                   0.0   \n",
       "3000                                   0.0                   0.0   \n",
       "\n",
       "      TechSupport_No internet service  TechSupport_Yes  PaperlessBilling_Yes  \\\n",
       "3296                              0.0              0.0                   1.0   \n",
       "6397                              0.0              1.0                   0.0   \n",
       "6043                              0.0              0.0                   1.0   \n",
       "5309                              1.0              0.0                   0.0   \n",
       "3000                              0.0              0.0                   1.0   \n",
       "\n",
       "      PaymentMethod_Credit card (automatic)  PaymentMethod_Electronic check  \\\n",
       "3296                                    1.0                             0.0   \n",
       "6397                                    0.0                             0.0   \n",
       "6043                                    0.0                             0.0   \n",
       "5309                                    1.0                             0.0   \n",
       "3000                                    0.0                             1.0   \n",
       "\n",
       "      PaymentMethod_Mailed check  Contract    tenure  MonthlyCharges  \\\n",
       "3296                         0.0         1 -0.340191       -0.514314   \n",
       "6397                         0.0         2  0.883210        0.017840   \n",
       "6043                         1.0         1 -1.196572       -0.819594   \n",
       "5309                         0.0         3  1.168670       -1.483535   \n",
       "3000                         0.0         1 -0.829552        0.658427   \n",
       "\n",
       "      TotalCharges  \n",
       "3296     -0.461523  \n",
       "6397      0.555935  \n",
       "6043     -0.949940  \n",
       "5309     -0.441344  \n",
       "3000     -0.538474  "
      ]
     },
     "execution_count": 120,
     "metadata": {},
     "output_type": "execute_result"
    }
   ],
   "source": [
    "X_train_transformed = pd.concat([X_train_cat_rescaled,X_train_num_rescaled],axis = 1)\n",
    "\n",
    "X_train_transformed.head()"
   ]
  },
  {
   "cell_type": "markdown",
   "id": "4c433d0f",
   "metadata": {},
   "source": [
    "## Data Preparation of Test data"
   ]
  },
  {
   "cell_type": "code",
   "execution_count": 121,
   "id": "32c6576b",
   "metadata": {},
   "outputs": [
    {
     "data": {
      "text/html": [
       "<div>\n",
       "<style scoped>\n",
       "    .dataframe tbody tr th:only-of-type {\n",
       "        vertical-align: middle;\n",
       "    }\n",
       "\n",
       "    .dataframe tbody tr th {\n",
       "        vertical-align: top;\n",
       "    }\n",
       "\n",
       "    .dataframe thead th {\n",
       "        text-align: right;\n",
       "    }\n",
       "</style>\n",
       "<table border=\"1\" class=\"dataframe\">\n",
       "  <thead>\n",
       "    <tr style=\"text-align: right;\">\n",
       "      <th></th>\n",
       "      <th>tenure</th>\n",
       "      <th>PhoneService</th>\n",
       "      <th>InternetService</th>\n",
       "      <th>OnlineSecurity</th>\n",
       "      <th>OnlineBackup</th>\n",
       "      <th>DeviceProtection</th>\n",
       "      <th>TechSupport</th>\n",
       "      <th>Contract</th>\n",
       "      <th>PaperlessBilling</th>\n",
       "      <th>PaymentMethod</th>\n",
       "      <th>MonthlyCharges</th>\n",
       "      <th>TotalCharges</th>\n",
       "    </tr>\n",
       "  </thead>\n",
       "  <tbody>\n",
       "    <tr>\n",
       "      <th>2200</th>\n",
       "      <td>19</td>\n",
       "      <td>Yes</td>\n",
       "      <td>DSL</td>\n",
       "      <td>No</td>\n",
       "      <td>Yes</td>\n",
       "      <td>No</td>\n",
       "      <td>No</td>\n",
       "      <td>One year</td>\n",
       "      <td>No</td>\n",
       "      <td>Electronic check</td>\n",
       "      <td>58.20</td>\n",
       "      <td>1045.25</td>\n",
       "    </tr>\n",
       "    <tr>\n",
       "      <th>4627</th>\n",
       "      <td>60</td>\n",
       "      <td>Yes</td>\n",
       "      <td>Fiber optic</td>\n",
       "      <td>Yes</td>\n",
       "      <td>Yes</td>\n",
       "      <td>Yes</td>\n",
       "      <td>Yes</td>\n",
       "      <td>One year</td>\n",
       "      <td>Yes</td>\n",
       "      <td>Credit card (automatic)</td>\n",
       "      <td>116.60</td>\n",
       "      <td>7049.50</td>\n",
       "    </tr>\n",
       "    <tr>\n",
       "      <th>3225</th>\n",
       "      <td>13</td>\n",
       "      <td>Yes</td>\n",
       "      <td>DSL</td>\n",
       "      <td>Yes</td>\n",
       "      <td>No</td>\n",
       "      <td>No</td>\n",
       "      <td>No</td>\n",
       "      <td>Month-to-month</td>\n",
       "      <td>Yes</td>\n",
       "      <td>Electronic check</td>\n",
       "      <td>71.95</td>\n",
       "      <td>923.85</td>\n",
       "    </tr>\n",
       "    <tr>\n",
       "      <th>2828</th>\n",
       "      <td>1</td>\n",
       "      <td>Yes</td>\n",
       "      <td>No</td>\n",
       "      <td>No internet service</td>\n",
       "      <td>No internet service</td>\n",
       "      <td>No internet service</td>\n",
       "      <td>No internet service</td>\n",
       "      <td>Two year</td>\n",
       "      <td>No</td>\n",
       "      <td>Mailed check</td>\n",
       "      <td>20.45</td>\n",
       "      <td>20.45</td>\n",
       "    </tr>\n",
       "    <tr>\n",
       "      <th>3768</th>\n",
       "      <td>55</td>\n",
       "      <td>Yes</td>\n",
       "      <td>Fiber optic</td>\n",
       "      <td>No</td>\n",
       "      <td>Yes</td>\n",
       "      <td>No</td>\n",
       "      <td>No</td>\n",
       "      <td>Month-to-month</td>\n",
       "      <td>Yes</td>\n",
       "      <td>Credit card (automatic)</td>\n",
       "      <td>77.75</td>\n",
       "      <td>4266.40</td>\n",
       "    </tr>\n",
       "  </tbody>\n",
       "</table>\n",
       "</div>"
      ],
      "text/plain": [
       "      tenure PhoneService InternetService       OnlineSecurity  \\\n",
       "2200      19          Yes             DSL                   No   \n",
       "4627      60          Yes     Fiber optic                  Yes   \n",
       "3225      13          Yes             DSL                  Yes   \n",
       "2828       1          Yes              No  No internet service   \n",
       "3768      55          Yes     Fiber optic                   No   \n",
       "\n",
       "             OnlineBackup     DeviceProtection          TechSupport  \\\n",
       "2200                  Yes                   No                   No   \n",
       "4627                  Yes                  Yes                  Yes   \n",
       "3225                   No                   No                   No   \n",
       "2828  No internet service  No internet service  No internet service   \n",
       "3768                  Yes                   No                   No   \n",
       "\n",
       "            Contract PaperlessBilling            PaymentMethod  \\\n",
       "2200        One year               No         Electronic check   \n",
       "4627        One year              Yes  Credit card (automatic)   \n",
       "3225  Month-to-month              Yes         Electronic check   \n",
       "2828        Two year               No             Mailed check   \n",
       "3768  Month-to-month              Yes  Credit card (automatic)   \n",
       "\n",
       "      MonthlyCharges  TotalCharges  \n",
       "2200           58.20       1045.25  \n",
       "4627          116.60       7049.50  \n",
       "3225           71.95        923.85  \n",
       "2828           20.45         20.45  \n",
       "3768           77.75       4266.40  "
      ]
     },
     "execution_count": 121,
     "metadata": {},
     "output_type": "execute_result"
    }
   ],
   "source": [
    "X_test.head()"
   ]
  },
  {
   "cell_type": "code",
   "execution_count": 122,
   "id": "ff1908c5",
   "metadata": {},
   "outputs": [
    {
     "name": "stdout",
     "output_type": "stream",
     "text": [
      "<class 'pandas.core.frame.DataFrame'>\n",
      "Int64Index: 1761 entries, 2200 to 450\n",
      "Data columns (total 12 columns):\n",
      " #   Column            Non-Null Count  Dtype  \n",
      "---  ------            --------------  -----  \n",
      " 0   tenure            1761 non-null   int64  \n",
      " 1   PhoneService      1761 non-null   object \n",
      " 2   InternetService   1761 non-null   object \n",
      " 3   OnlineSecurity    1761 non-null   object \n",
      " 4   OnlineBackup      1761 non-null   object \n",
      " 5   DeviceProtection  1761 non-null   object \n",
      " 6   TechSupport       1761 non-null   object \n",
      " 7   Contract          1761 non-null   object \n",
      " 8   PaperlessBilling  1761 non-null   object \n",
      " 9   PaymentMethod     1761 non-null   object \n",
      " 10  MonthlyCharges    1761 non-null   float64\n",
      " 11  TotalCharges      1761 non-null   float64\n",
      "dtypes: float64(2), int64(1), object(9)\n",
      "memory usage: 178.9+ KB\n"
     ]
    }
   ],
   "source": [
    "X_test.info()"
   ]
  },
  {
   "cell_type": "code",
   "execution_count": 123,
   "id": "fcfbe034",
   "metadata": {},
   "outputs": [
    {
     "data": {
      "text/html": [
       "<div>\n",
       "<style scoped>\n",
       "    .dataframe tbody tr th:only-of-type {\n",
       "        vertical-align: middle;\n",
       "    }\n",
       "\n",
       "    .dataframe tbody tr th {\n",
       "        vertical-align: top;\n",
       "    }\n",
       "\n",
       "    .dataframe thead th {\n",
       "        text-align: right;\n",
       "    }\n",
       "</style>\n",
       "<table border=\"1\" class=\"dataframe\">\n",
       "  <thead>\n",
       "    <tr style=\"text-align: right;\">\n",
       "      <th></th>\n",
       "      <th>tenure</th>\n",
       "      <th>MonthlyCharges</th>\n",
       "      <th>TotalCharges</th>\n",
       "    </tr>\n",
       "  </thead>\n",
       "  <tbody>\n",
       "    <tr>\n",
       "      <th>2200</th>\n",
       "      <td>19</td>\n",
       "      <td>58.20</td>\n",
       "      <td>1045.25</td>\n",
       "    </tr>\n",
       "    <tr>\n",
       "      <th>4627</th>\n",
       "      <td>60</td>\n",
       "      <td>116.60</td>\n",
       "      <td>7049.50</td>\n",
       "    </tr>\n",
       "    <tr>\n",
       "      <th>3225</th>\n",
       "      <td>13</td>\n",
       "      <td>71.95</td>\n",
       "      <td>923.85</td>\n",
       "    </tr>\n",
       "    <tr>\n",
       "      <th>2828</th>\n",
       "      <td>1</td>\n",
       "      <td>20.45</td>\n",
       "      <td>20.45</td>\n",
       "    </tr>\n",
       "    <tr>\n",
       "      <th>3768</th>\n",
       "      <td>55</td>\n",
       "      <td>77.75</td>\n",
       "      <td>4266.40</td>\n",
       "    </tr>\n",
       "  </tbody>\n",
       "</table>\n",
       "</div>"
      ],
      "text/plain": [
       "      tenure  MonthlyCharges  TotalCharges\n",
       "2200      19           58.20       1045.25\n",
       "4627      60          116.60       7049.50\n",
       "3225      13           71.95        923.85\n",
       "2828       1           20.45         20.45\n",
       "3768      55           77.75       4266.40"
      ]
     },
     "execution_count": 123,
     "metadata": {},
     "output_type": "execute_result"
    }
   ],
   "source": [
    "# Numerical Features\n",
    "X_test_num = X_test.select_dtypes(include=['int64', 'float64'])\n",
    "\n",
    "X_test_num.head()"
   ]
  },
  {
   "cell_type": "code",
   "execution_count": 124,
   "id": "a94d87c3",
   "metadata": {},
   "outputs": [
    {
     "data": {
      "text/html": [
       "<div>\n",
       "<style scoped>\n",
       "    .dataframe tbody tr th:only-of-type {\n",
       "        vertical-align: middle;\n",
       "    }\n",
       "\n",
       "    .dataframe tbody tr th {\n",
       "        vertical-align: top;\n",
       "    }\n",
       "\n",
       "    .dataframe thead th {\n",
       "        text-align: right;\n",
       "    }\n",
       "</style>\n",
       "<table border=\"1\" class=\"dataframe\">\n",
       "  <thead>\n",
       "    <tr style=\"text-align: right;\">\n",
       "      <th></th>\n",
       "      <th>PhoneService</th>\n",
       "      <th>InternetService</th>\n",
       "      <th>OnlineSecurity</th>\n",
       "      <th>OnlineBackup</th>\n",
       "      <th>DeviceProtection</th>\n",
       "      <th>TechSupport</th>\n",
       "      <th>Contract</th>\n",
       "      <th>PaperlessBilling</th>\n",
       "      <th>PaymentMethod</th>\n",
       "    </tr>\n",
       "  </thead>\n",
       "  <tbody>\n",
       "    <tr>\n",
       "      <th>2200</th>\n",
       "      <td>Yes</td>\n",
       "      <td>DSL</td>\n",
       "      <td>No</td>\n",
       "      <td>Yes</td>\n",
       "      <td>No</td>\n",
       "      <td>No</td>\n",
       "      <td>One year</td>\n",
       "      <td>No</td>\n",
       "      <td>Electronic check</td>\n",
       "    </tr>\n",
       "    <tr>\n",
       "      <th>4627</th>\n",
       "      <td>Yes</td>\n",
       "      <td>Fiber optic</td>\n",
       "      <td>Yes</td>\n",
       "      <td>Yes</td>\n",
       "      <td>Yes</td>\n",
       "      <td>Yes</td>\n",
       "      <td>One year</td>\n",
       "      <td>Yes</td>\n",
       "      <td>Credit card (automatic)</td>\n",
       "    </tr>\n",
       "    <tr>\n",
       "      <th>3225</th>\n",
       "      <td>Yes</td>\n",
       "      <td>DSL</td>\n",
       "      <td>Yes</td>\n",
       "      <td>No</td>\n",
       "      <td>No</td>\n",
       "      <td>No</td>\n",
       "      <td>Month-to-month</td>\n",
       "      <td>Yes</td>\n",
       "      <td>Electronic check</td>\n",
       "    </tr>\n",
       "    <tr>\n",
       "      <th>2828</th>\n",
       "      <td>Yes</td>\n",
       "      <td>No</td>\n",
       "      <td>No internet service</td>\n",
       "      <td>No internet service</td>\n",
       "      <td>No internet service</td>\n",
       "      <td>No internet service</td>\n",
       "      <td>Two year</td>\n",
       "      <td>No</td>\n",
       "      <td>Mailed check</td>\n",
       "    </tr>\n",
       "    <tr>\n",
       "      <th>3768</th>\n",
       "      <td>Yes</td>\n",
       "      <td>Fiber optic</td>\n",
       "      <td>No</td>\n",
       "      <td>Yes</td>\n",
       "      <td>No</td>\n",
       "      <td>No</td>\n",
       "      <td>Month-to-month</td>\n",
       "      <td>Yes</td>\n",
       "      <td>Credit card (automatic)</td>\n",
       "    </tr>\n",
       "  </tbody>\n",
       "</table>\n",
       "</div>"
      ],
      "text/plain": [
       "     PhoneService InternetService       OnlineSecurity         OnlineBackup  \\\n",
       "2200          Yes             DSL                   No                  Yes   \n",
       "4627          Yes     Fiber optic                  Yes                  Yes   \n",
       "3225          Yes             DSL                  Yes                   No   \n",
       "2828          Yes              No  No internet service  No internet service   \n",
       "3768          Yes     Fiber optic                   No                  Yes   \n",
       "\n",
       "         DeviceProtection          TechSupport        Contract  \\\n",
       "2200                   No                   No        One year   \n",
       "4627                  Yes                  Yes        One year   \n",
       "3225                   No                   No  Month-to-month   \n",
       "2828  No internet service  No internet service        Two year   \n",
       "3768                   No                   No  Month-to-month   \n",
       "\n",
       "     PaperlessBilling            PaymentMethod  \n",
       "2200               No         Electronic check  \n",
       "4627              Yes  Credit card (automatic)  \n",
       "3225              Yes         Electronic check  \n",
       "2828               No             Mailed check  \n",
       "3768              Yes  Credit card (automatic)  "
      ]
     },
     "execution_count": 124,
     "metadata": {},
     "output_type": "execute_result"
    }
   ],
   "source": [
    "# Total Categorical Features\n",
    "X_test_cat = X_test.select_dtypes(include=['object'])\n",
    "\n",
    "X_test_cat.head()"
   ]
  },
  {
   "cell_type": "code",
   "execution_count": 125,
   "id": "6fd3f271",
   "metadata": {},
   "outputs": [
    {
     "data": {
      "text/html": [
       "<div>\n",
       "<style scoped>\n",
       "    .dataframe tbody tr th:only-of-type {\n",
       "        vertical-align: middle;\n",
       "    }\n",
       "\n",
       "    .dataframe tbody tr th {\n",
       "        vertical-align: top;\n",
       "    }\n",
       "\n",
       "    .dataframe thead th {\n",
       "        text-align: right;\n",
       "    }\n",
       "</style>\n",
       "<table border=\"1\" class=\"dataframe\">\n",
       "  <thead>\n",
       "    <tr style=\"text-align: right;\">\n",
       "      <th></th>\n",
       "      <th>Contract</th>\n",
       "    </tr>\n",
       "  </thead>\n",
       "  <tbody>\n",
       "    <tr>\n",
       "      <th>2200</th>\n",
       "      <td>One year</td>\n",
       "    </tr>\n",
       "    <tr>\n",
       "      <th>4627</th>\n",
       "      <td>One year</td>\n",
       "    </tr>\n",
       "    <tr>\n",
       "      <th>3225</th>\n",
       "      <td>Month-to-month</td>\n",
       "    </tr>\n",
       "    <tr>\n",
       "      <th>2828</th>\n",
       "      <td>Two year</td>\n",
       "    </tr>\n",
       "    <tr>\n",
       "      <th>3768</th>\n",
       "      <td>Month-to-month</td>\n",
       "    </tr>\n",
       "  </tbody>\n",
       "</table>\n",
       "</div>"
      ],
      "text/plain": [
       "            Contract\n",
       "2200        One year\n",
       "4627        One year\n",
       "3225  Month-to-month\n",
       "2828        Two year\n",
       "3768  Month-to-month"
      ]
     },
     "execution_count": 125,
     "metadata": {},
     "output_type": "execute_result"
    }
   ],
   "source": [
    "# Categorical(Ordinal)\n",
    "X_test_cat_ord = X_test_cat[['Contract']]  \n",
    "X_test_cat_ord = pd.DataFrame(X_test_cat_ord, columns=['Contract']) \n",
    "\n",
    "X_test_cat_ord.head()"
   ]
  },
  {
   "cell_type": "code",
   "execution_count": 126,
   "id": "3cf6d36c",
   "metadata": {},
   "outputs": [
    {
     "data": {
      "text/html": [
       "<div>\n",
       "<style scoped>\n",
       "    .dataframe tbody tr th:only-of-type {\n",
       "        vertical-align: middle;\n",
       "    }\n",
       "\n",
       "    .dataframe tbody tr th {\n",
       "        vertical-align: top;\n",
       "    }\n",
       "\n",
       "    .dataframe thead th {\n",
       "        text-align: right;\n",
       "    }\n",
       "</style>\n",
       "<table border=\"1\" class=\"dataframe\">\n",
       "  <thead>\n",
       "    <tr style=\"text-align: right;\">\n",
       "      <th></th>\n",
       "      <th>PhoneService</th>\n",
       "      <th>InternetService</th>\n",
       "      <th>OnlineSecurity</th>\n",
       "      <th>OnlineBackup</th>\n",
       "      <th>DeviceProtection</th>\n",
       "      <th>TechSupport</th>\n",
       "      <th>PaperlessBilling</th>\n",
       "      <th>PaymentMethod</th>\n",
       "    </tr>\n",
       "  </thead>\n",
       "  <tbody>\n",
       "    <tr>\n",
       "      <th>2200</th>\n",
       "      <td>Yes</td>\n",
       "      <td>DSL</td>\n",
       "      <td>No</td>\n",
       "      <td>Yes</td>\n",
       "      <td>No</td>\n",
       "      <td>No</td>\n",
       "      <td>No</td>\n",
       "      <td>Electronic check</td>\n",
       "    </tr>\n",
       "    <tr>\n",
       "      <th>4627</th>\n",
       "      <td>Yes</td>\n",
       "      <td>Fiber optic</td>\n",
       "      <td>Yes</td>\n",
       "      <td>Yes</td>\n",
       "      <td>Yes</td>\n",
       "      <td>Yes</td>\n",
       "      <td>Yes</td>\n",
       "      <td>Credit card (automatic)</td>\n",
       "    </tr>\n",
       "    <tr>\n",
       "      <th>3225</th>\n",
       "      <td>Yes</td>\n",
       "      <td>DSL</td>\n",
       "      <td>Yes</td>\n",
       "      <td>No</td>\n",
       "      <td>No</td>\n",
       "      <td>No</td>\n",
       "      <td>Yes</td>\n",
       "      <td>Electronic check</td>\n",
       "    </tr>\n",
       "    <tr>\n",
       "      <th>2828</th>\n",
       "      <td>Yes</td>\n",
       "      <td>No</td>\n",
       "      <td>No internet service</td>\n",
       "      <td>No internet service</td>\n",
       "      <td>No internet service</td>\n",
       "      <td>No internet service</td>\n",
       "      <td>No</td>\n",
       "      <td>Mailed check</td>\n",
       "    </tr>\n",
       "    <tr>\n",
       "      <th>3768</th>\n",
       "      <td>Yes</td>\n",
       "      <td>Fiber optic</td>\n",
       "      <td>No</td>\n",
       "      <td>Yes</td>\n",
       "      <td>No</td>\n",
       "      <td>No</td>\n",
       "      <td>Yes</td>\n",
       "      <td>Credit card (automatic)</td>\n",
       "    </tr>\n",
       "  </tbody>\n",
       "</table>\n",
       "</div>"
      ],
      "text/plain": [
       "     PhoneService InternetService       OnlineSecurity         OnlineBackup  \\\n",
       "2200          Yes             DSL                   No                  Yes   \n",
       "4627          Yes     Fiber optic                  Yes                  Yes   \n",
       "3225          Yes             DSL                  Yes                   No   \n",
       "2828          Yes              No  No internet service  No internet service   \n",
       "3768          Yes     Fiber optic                   No                  Yes   \n",
       "\n",
       "         DeviceProtection          TechSupport PaperlessBilling  \\\n",
       "2200                   No                   No               No   \n",
       "4627                  Yes                  Yes              Yes   \n",
       "3225                   No                   No              Yes   \n",
       "2828  No internet service  No internet service               No   \n",
       "3768                   No                   No              Yes   \n",
       "\n",
       "                PaymentMethod  \n",
       "2200         Electronic check  \n",
       "4627  Credit card (automatic)  \n",
       "3225         Electronic check  \n",
       "2828             Mailed check  \n",
       "3768  Credit card (automatic)  "
      ]
     },
     "execution_count": 126,
     "metadata": {},
     "output_type": "execute_result"
    }
   ],
   "source": [
    "# Categorical(Nominal)\n",
    "X_test_cat_nomi = X_test_cat[['PhoneService','InternetService', 'OnlineSecurity', \n",
    "                                'OnlineBackup', 'DeviceProtection','TechSupport',\n",
    "                                'PaperlessBilling', 'PaymentMethod']]\n",
    "\n",
    "X_test_cat_nomi.head()"
   ]
  },
  {
   "cell_type": "code",
   "execution_count": 127,
   "id": "e69739f0",
   "metadata": {},
   "outputs": [
    {
     "data": {
      "text/html": [
       "<div>\n",
       "<style scoped>\n",
       "    .dataframe tbody tr th:only-of-type {\n",
       "        vertical-align: middle;\n",
       "    }\n",
       "\n",
       "    .dataframe tbody tr th {\n",
       "        vertical-align: top;\n",
       "    }\n",
       "\n",
       "    .dataframe thead th {\n",
       "        text-align: right;\n",
       "    }\n",
       "</style>\n",
       "<table border=\"1\" class=\"dataframe\">\n",
       "  <thead>\n",
       "    <tr style=\"text-align: right;\">\n",
       "      <th></th>\n",
       "      <th>tenure</th>\n",
       "      <th>MonthlyCharges</th>\n",
       "      <th>TotalCharges</th>\n",
       "    </tr>\n",
       "  </thead>\n",
       "  <tbody>\n",
       "    <tr>\n",
       "      <th>2200</th>\n",
       "      <td>-0.544091</td>\n",
       "      <td>-0.217375</td>\n",
       "      <td>-0.544809</td>\n",
       "    </tr>\n",
       "    <tr>\n",
       "      <th>4627</th>\n",
       "      <td>1.127890</td>\n",
       "      <td>1.731076</td>\n",
       "      <td>2.115126</td>\n",
       "    </tr>\n",
       "    <tr>\n",
       "      <th>3225</th>\n",
       "      <td>-0.788772</td>\n",
       "      <td>0.241378</td>\n",
       "      <td>-0.598590</td>\n",
       "    </tr>\n",
       "    <tr>\n",
       "      <th>2828</th>\n",
       "      <td>-1.278132</td>\n",
       "      <td>-1.476862</td>\n",
       "      <td>-0.998804</td>\n",
       "    </tr>\n",
       "    <tr>\n",
       "      <th>3768</th>\n",
       "      <td>0.923990</td>\n",
       "      <td>0.434889</td>\n",
       "      <td>0.882188</td>\n",
       "    </tr>\n",
       "  </tbody>\n",
       "</table>\n",
       "</div>"
      ],
      "text/plain": [
       "        tenure  MonthlyCharges  TotalCharges\n",
       "2200 -0.544091       -0.217375     -0.544809\n",
       "4627  1.127890        1.731076      2.115126\n",
       "3225 -0.788772        0.241378     -0.598590\n",
       "2828 -1.278132       -1.476862     -0.998804\n",
       "3768  0.923990        0.434889      0.882188"
      ]
     },
     "execution_count": 127,
     "metadata": {},
     "output_type": "execute_result"
    }
   ],
   "source": [
    "# Rescaling Numerical Columns\n",
    "X_test_num_rescaled = pd.DataFrame(scaler.transform(X_test_num),\n",
    "                                        columns= X_test_num.columns,\n",
    "                                        index = X_test_num.index)\n",
    "\n",
    "X_test_num_rescaled.head()"
   ]
  },
  {
   "cell_type": "code",
   "execution_count": 128,
   "id": "1104c8f3",
   "metadata": {},
   "outputs": [
    {
     "data": {
      "text/html": [
       "<div>\n",
       "<style scoped>\n",
       "    .dataframe tbody tr th:only-of-type {\n",
       "        vertical-align: middle;\n",
       "    }\n",
       "\n",
       "    .dataframe tbody tr th {\n",
       "        vertical-align: top;\n",
       "    }\n",
       "\n",
       "    .dataframe thead th {\n",
       "        text-align: right;\n",
       "    }\n",
       "</style>\n",
       "<table border=\"1\" class=\"dataframe\">\n",
       "  <thead>\n",
       "    <tr style=\"text-align: right;\">\n",
       "      <th></th>\n",
       "    </tr>\n",
       "  </thead>\n",
       "  <tbody>\n",
       "    <tr>\n",
       "      <th>2200</th>\n",
       "    </tr>\n",
       "    <tr>\n",
       "      <th>4627</th>\n",
       "    </tr>\n",
       "    <tr>\n",
       "      <th>3225</th>\n",
       "    </tr>\n",
       "    <tr>\n",
       "      <th>2828</th>\n",
       "    </tr>\n",
       "    <tr>\n",
       "      <th>3768</th>\n",
       "    </tr>\n",
       "  </tbody>\n",
       "</table>\n",
       "</div>"
      ],
      "text/plain": [
       "Empty DataFrame\n",
       "Columns: []\n",
       "Index: [2200, 4627, 3225, 2828, 3768]"
      ]
     },
     "execution_count": 128,
     "metadata": {},
     "output_type": "execute_result"
    }
   ],
   "source": [
    "# Label Encoding Ordinal(categorical) feature\n",
    "X_test_cat_LabelEnc = pd.DataFrame(index=X_test_cat_ord.index)\n",
    "\n",
    "X_test_cat_LabelEnc.head()"
   ]
  },
  {
   "cell_type": "code",
   "execution_count": 129,
   "id": "1739e381",
   "metadata": {},
   "outputs": [
    {
     "data": {
      "text/plain": [
       "array(['One year', 'Month-to-month', 'Two year'], dtype=object)"
      ]
     },
     "execution_count": 129,
     "metadata": {},
     "output_type": "execute_result"
    }
   ],
   "source": [
    "X_test_cat_ord.Contract.unique()"
   ]
  },
  {
   "cell_type": "code",
   "execution_count": 130,
   "id": "20288e38",
   "metadata": {},
   "outputs": [
    {
     "data": {
      "text/html": [
       "<div>\n",
       "<style scoped>\n",
       "    .dataframe tbody tr th:only-of-type {\n",
       "        vertical-align: middle;\n",
       "    }\n",
       "\n",
       "    .dataframe tbody tr th {\n",
       "        vertical-align: top;\n",
       "    }\n",
       "\n",
       "    .dataframe thead th {\n",
       "        text-align: right;\n",
       "    }\n",
       "</style>\n",
       "<table border=\"1\" class=\"dataframe\">\n",
       "  <thead>\n",
       "    <tr style=\"text-align: right;\">\n",
       "      <th></th>\n",
       "      <th>Contract</th>\n",
       "    </tr>\n",
       "  </thead>\n",
       "  <tbody>\n",
       "    <tr>\n",
       "      <th>2200</th>\n",
       "      <td>2</td>\n",
       "    </tr>\n",
       "    <tr>\n",
       "      <th>4627</th>\n",
       "      <td>2</td>\n",
       "    </tr>\n",
       "    <tr>\n",
       "      <th>3225</th>\n",
       "      <td>1</td>\n",
       "    </tr>\n",
       "    <tr>\n",
       "      <th>2828</th>\n",
       "      <td>3</td>\n",
       "    </tr>\n",
       "    <tr>\n",
       "      <th>3768</th>\n",
       "      <td>1</td>\n",
       "    </tr>\n",
       "  </tbody>\n",
       "</table>\n",
       "</div>"
      ],
      "text/plain": [
       "      Contract\n",
       "2200         2\n",
       "4627         2\n",
       "3225         1\n",
       "2828         3\n",
       "3768         1"
      ]
     },
     "execution_count": 130,
     "metadata": {},
     "output_type": "execute_result"
    }
   ],
   "source": [
    "# Label Encoding for Ordinal feature\n",
    "X_test_cat_LabelEnc['Contract'] = X_test_cat['Contract'].apply(lambda x : cut_encoder[x])\n",
    "\n",
    "X_test_cat_LabelEnc.head()"
   ]
  },
  {
   "cell_type": "code",
   "execution_count": 131,
   "id": "a62d6c48",
   "metadata": {},
   "outputs": [
    {
     "data": {
      "text/html": [
       "<div>\n",
       "<style scoped>\n",
       "    .dataframe tbody tr th:only-of-type {\n",
       "        vertical-align: middle;\n",
       "    }\n",
       "\n",
       "    .dataframe tbody tr th {\n",
       "        vertical-align: top;\n",
       "    }\n",
       "\n",
       "    .dataframe thead th {\n",
       "        text-align: right;\n",
       "    }\n",
       "</style>\n",
       "<table border=\"1\" class=\"dataframe\">\n",
       "  <thead>\n",
       "    <tr style=\"text-align: right;\">\n",
       "      <th></th>\n",
       "      <th>PhoneService_Yes</th>\n",
       "      <th>InternetService_Fiber optic</th>\n",
       "      <th>InternetService_No</th>\n",
       "      <th>OnlineSecurity_No internet service</th>\n",
       "      <th>OnlineSecurity_Yes</th>\n",
       "      <th>OnlineBackup_No internet service</th>\n",
       "      <th>OnlineBackup_Yes</th>\n",
       "      <th>DeviceProtection_No internet service</th>\n",
       "      <th>DeviceProtection_Yes</th>\n",
       "      <th>TechSupport_No internet service</th>\n",
       "      <th>TechSupport_Yes</th>\n",
       "      <th>PaperlessBilling_Yes</th>\n",
       "      <th>PaymentMethod_Credit card (automatic)</th>\n",
       "      <th>PaymentMethod_Electronic check</th>\n",
       "      <th>PaymentMethod_Mailed check</th>\n",
       "    </tr>\n",
       "  </thead>\n",
       "  <tbody>\n",
       "    <tr>\n",
       "      <th>2200</th>\n",
       "      <td>1.0</td>\n",
       "      <td>0.0</td>\n",
       "      <td>0.0</td>\n",
       "      <td>0.0</td>\n",
       "      <td>0.0</td>\n",
       "      <td>0.0</td>\n",
       "      <td>1.0</td>\n",
       "      <td>0.0</td>\n",
       "      <td>0.0</td>\n",
       "      <td>0.0</td>\n",
       "      <td>0.0</td>\n",
       "      <td>0.0</td>\n",
       "      <td>0.0</td>\n",
       "      <td>1.0</td>\n",
       "      <td>0.0</td>\n",
       "    </tr>\n",
       "    <tr>\n",
       "      <th>4627</th>\n",
       "      <td>1.0</td>\n",
       "      <td>1.0</td>\n",
       "      <td>0.0</td>\n",
       "      <td>0.0</td>\n",
       "      <td>1.0</td>\n",
       "      <td>0.0</td>\n",
       "      <td>1.0</td>\n",
       "      <td>0.0</td>\n",
       "      <td>1.0</td>\n",
       "      <td>0.0</td>\n",
       "      <td>1.0</td>\n",
       "      <td>1.0</td>\n",
       "      <td>1.0</td>\n",
       "      <td>0.0</td>\n",
       "      <td>0.0</td>\n",
       "    </tr>\n",
       "    <tr>\n",
       "      <th>3225</th>\n",
       "      <td>1.0</td>\n",
       "      <td>0.0</td>\n",
       "      <td>0.0</td>\n",
       "      <td>0.0</td>\n",
       "      <td>1.0</td>\n",
       "      <td>0.0</td>\n",
       "      <td>0.0</td>\n",
       "      <td>0.0</td>\n",
       "      <td>0.0</td>\n",
       "      <td>0.0</td>\n",
       "      <td>0.0</td>\n",
       "      <td>1.0</td>\n",
       "      <td>0.0</td>\n",
       "      <td>1.0</td>\n",
       "      <td>0.0</td>\n",
       "    </tr>\n",
       "    <tr>\n",
       "      <th>2828</th>\n",
       "      <td>1.0</td>\n",
       "      <td>0.0</td>\n",
       "      <td>1.0</td>\n",
       "      <td>1.0</td>\n",
       "      <td>0.0</td>\n",
       "      <td>1.0</td>\n",
       "      <td>0.0</td>\n",
       "      <td>1.0</td>\n",
       "      <td>0.0</td>\n",
       "      <td>1.0</td>\n",
       "      <td>0.0</td>\n",
       "      <td>0.0</td>\n",
       "      <td>0.0</td>\n",
       "      <td>0.0</td>\n",
       "      <td>1.0</td>\n",
       "    </tr>\n",
       "    <tr>\n",
       "      <th>3768</th>\n",
       "      <td>1.0</td>\n",
       "      <td>1.0</td>\n",
       "      <td>0.0</td>\n",
       "      <td>0.0</td>\n",
       "      <td>0.0</td>\n",
       "      <td>0.0</td>\n",
       "      <td>1.0</td>\n",
       "      <td>0.0</td>\n",
       "      <td>0.0</td>\n",
       "      <td>0.0</td>\n",
       "      <td>0.0</td>\n",
       "      <td>1.0</td>\n",
       "      <td>1.0</td>\n",
       "      <td>0.0</td>\n",
       "      <td>0.0</td>\n",
       "    </tr>\n",
       "  </tbody>\n",
       "</table>\n",
       "</div>"
      ],
      "text/plain": [
       "      PhoneService_Yes  InternetService_Fiber optic  InternetService_No  \\\n",
       "2200               1.0                          0.0                 0.0   \n",
       "4627               1.0                          1.0                 0.0   \n",
       "3225               1.0                          0.0                 0.0   \n",
       "2828               1.0                          0.0                 1.0   \n",
       "3768               1.0                          1.0                 0.0   \n",
       "\n",
       "      OnlineSecurity_No internet service  OnlineSecurity_Yes  \\\n",
       "2200                                 0.0                 0.0   \n",
       "4627                                 0.0                 1.0   \n",
       "3225                                 0.0                 1.0   \n",
       "2828                                 1.0                 0.0   \n",
       "3768                                 0.0                 0.0   \n",
       "\n",
       "      OnlineBackup_No internet service  OnlineBackup_Yes  \\\n",
       "2200                               0.0               1.0   \n",
       "4627                               0.0               1.0   \n",
       "3225                               0.0               0.0   \n",
       "2828                               1.0               0.0   \n",
       "3768                               0.0               1.0   \n",
       "\n",
       "      DeviceProtection_No internet service  DeviceProtection_Yes  \\\n",
       "2200                                   0.0                   0.0   \n",
       "4627                                   0.0                   1.0   \n",
       "3225                                   0.0                   0.0   \n",
       "2828                                   1.0                   0.0   \n",
       "3768                                   0.0                   0.0   \n",
       "\n",
       "      TechSupport_No internet service  TechSupport_Yes  PaperlessBilling_Yes  \\\n",
       "2200                              0.0              0.0                   0.0   \n",
       "4627                              0.0              1.0                   1.0   \n",
       "3225                              0.0              0.0                   1.0   \n",
       "2828                              1.0              0.0                   0.0   \n",
       "3768                              0.0              0.0                   1.0   \n",
       "\n",
       "      PaymentMethod_Credit card (automatic)  PaymentMethod_Electronic check  \\\n",
       "2200                                    0.0                             1.0   \n",
       "4627                                    1.0                             0.0   \n",
       "3225                                    0.0                             1.0   \n",
       "2828                                    0.0                             0.0   \n",
       "3768                                    1.0                             0.0   \n",
       "\n",
       "      PaymentMethod_Mailed check  \n",
       "2200                         0.0  \n",
       "4627                         0.0  \n",
       "3225                         0.0  \n",
       "2828                         1.0  \n",
       "3768                         0.0  "
      ]
     },
     "execution_count": 131,
     "metadata": {},
     "output_type": "execute_result"
    }
   ],
   "source": [
    "# OneHotEncoding the (Nominal)categorical features\n",
    "\n",
    "# Creating dataframe as columns will be in array format after OneHot Encoding\n",
    "X_test_cat_OneEnc = pd.DataFrame(encoder.transform(X_test_cat_nomi), \n",
    "                               columns=encoder.get_feature_names_out(X_test_cat_nomi.columns), \n",
    "                               index = X_test_cat_nomi.index)\n",
    "\n",
    "X_test_cat_OneEnc.head()"
   ]
  },
  {
   "cell_type": "code",
   "execution_count": 132,
   "id": "c87af400",
   "metadata": {},
   "outputs": [
    {
     "data": {
      "text/html": [
       "<div>\n",
       "<style scoped>\n",
       "    .dataframe tbody tr th:only-of-type {\n",
       "        vertical-align: middle;\n",
       "    }\n",
       "\n",
       "    .dataframe tbody tr th {\n",
       "        vertical-align: top;\n",
       "    }\n",
       "\n",
       "    .dataframe thead th {\n",
       "        text-align: right;\n",
       "    }\n",
       "</style>\n",
       "<table border=\"1\" class=\"dataframe\">\n",
       "  <thead>\n",
       "    <tr style=\"text-align: right;\">\n",
       "      <th></th>\n",
       "      <th>PhoneService_Yes</th>\n",
       "      <th>InternetService_Fiber optic</th>\n",
       "      <th>InternetService_No</th>\n",
       "      <th>OnlineSecurity_No internet service</th>\n",
       "      <th>OnlineSecurity_Yes</th>\n",
       "      <th>OnlineBackup_No internet service</th>\n",
       "      <th>OnlineBackup_Yes</th>\n",
       "      <th>DeviceProtection_No internet service</th>\n",
       "      <th>DeviceProtection_Yes</th>\n",
       "      <th>TechSupport_No internet service</th>\n",
       "      <th>TechSupport_Yes</th>\n",
       "      <th>PaperlessBilling_Yes</th>\n",
       "      <th>PaymentMethod_Credit card (automatic)</th>\n",
       "      <th>PaymentMethod_Electronic check</th>\n",
       "      <th>PaymentMethod_Mailed check</th>\n",
       "      <th>Contract</th>\n",
       "    </tr>\n",
       "  </thead>\n",
       "  <tbody>\n",
       "    <tr>\n",
       "      <th>2200</th>\n",
       "      <td>1.0</td>\n",
       "      <td>0.0</td>\n",
       "      <td>0.0</td>\n",
       "      <td>0.0</td>\n",
       "      <td>0.0</td>\n",
       "      <td>0.0</td>\n",
       "      <td>1.0</td>\n",
       "      <td>0.0</td>\n",
       "      <td>0.0</td>\n",
       "      <td>0.0</td>\n",
       "      <td>0.0</td>\n",
       "      <td>0.0</td>\n",
       "      <td>0.0</td>\n",
       "      <td>1.0</td>\n",
       "      <td>0.0</td>\n",
       "      <td>2</td>\n",
       "    </tr>\n",
       "    <tr>\n",
       "      <th>4627</th>\n",
       "      <td>1.0</td>\n",
       "      <td>1.0</td>\n",
       "      <td>0.0</td>\n",
       "      <td>0.0</td>\n",
       "      <td>1.0</td>\n",
       "      <td>0.0</td>\n",
       "      <td>1.0</td>\n",
       "      <td>0.0</td>\n",
       "      <td>1.0</td>\n",
       "      <td>0.0</td>\n",
       "      <td>1.0</td>\n",
       "      <td>1.0</td>\n",
       "      <td>1.0</td>\n",
       "      <td>0.0</td>\n",
       "      <td>0.0</td>\n",
       "      <td>2</td>\n",
       "    </tr>\n",
       "    <tr>\n",
       "      <th>3225</th>\n",
       "      <td>1.0</td>\n",
       "      <td>0.0</td>\n",
       "      <td>0.0</td>\n",
       "      <td>0.0</td>\n",
       "      <td>1.0</td>\n",
       "      <td>0.0</td>\n",
       "      <td>0.0</td>\n",
       "      <td>0.0</td>\n",
       "      <td>0.0</td>\n",
       "      <td>0.0</td>\n",
       "      <td>0.0</td>\n",
       "      <td>1.0</td>\n",
       "      <td>0.0</td>\n",
       "      <td>1.0</td>\n",
       "      <td>0.0</td>\n",
       "      <td>1</td>\n",
       "    </tr>\n",
       "    <tr>\n",
       "      <th>2828</th>\n",
       "      <td>1.0</td>\n",
       "      <td>0.0</td>\n",
       "      <td>1.0</td>\n",
       "      <td>1.0</td>\n",
       "      <td>0.0</td>\n",
       "      <td>1.0</td>\n",
       "      <td>0.0</td>\n",
       "      <td>1.0</td>\n",
       "      <td>0.0</td>\n",
       "      <td>1.0</td>\n",
       "      <td>0.0</td>\n",
       "      <td>0.0</td>\n",
       "      <td>0.0</td>\n",
       "      <td>0.0</td>\n",
       "      <td>1.0</td>\n",
       "      <td>3</td>\n",
       "    </tr>\n",
       "    <tr>\n",
       "      <th>3768</th>\n",
       "      <td>1.0</td>\n",
       "      <td>1.0</td>\n",
       "      <td>0.0</td>\n",
       "      <td>0.0</td>\n",
       "      <td>0.0</td>\n",
       "      <td>0.0</td>\n",
       "      <td>1.0</td>\n",
       "      <td>0.0</td>\n",
       "      <td>0.0</td>\n",
       "      <td>0.0</td>\n",
       "      <td>0.0</td>\n",
       "      <td>1.0</td>\n",
       "      <td>1.0</td>\n",
       "      <td>0.0</td>\n",
       "      <td>0.0</td>\n",
       "      <td>1</td>\n",
       "    </tr>\n",
       "  </tbody>\n",
       "</table>\n",
       "</div>"
      ],
      "text/plain": [
       "      PhoneService_Yes  InternetService_Fiber optic  InternetService_No  \\\n",
       "2200               1.0                          0.0                 0.0   \n",
       "4627               1.0                          1.0                 0.0   \n",
       "3225               1.0                          0.0                 0.0   \n",
       "2828               1.0                          0.0                 1.0   \n",
       "3768               1.0                          1.0                 0.0   \n",
       "\n",
       "      OnlineSecurity_No internet service  OnlineSecurity_Yes  \\\n",
       "2200                                 0.0                 0.0   \n",
       "4627                                 0.0                 1.0   \n",
       "3225                                 0.0                 1.0   \n",
       "2828                                 1.0                 0.0   \n",
       "3768                                 0.0                 0.0   \n",
       "\n",
       "      OnlineBackup_No internet service  OnlineBackup_Yes  \\\n",
       "2200                               0.0               1.0   \n",
       "4627                               0.0               1.0   \n",
       "3225                               0.0               0.0   \n",
       "2828                               1.0               0.0   \n",
       "3768                               0.0               1.0   \n",
       "\n",
       "      DeviceProtection_No internet service  DeviceProtection_Yes  \\\n",
       "2200                                   0.0                   0.0   \n",
       "4627                                   0.0                   1.0   \n",
       "3225                                   0.0                   0.0   \n",
       "2828                                   1.0                   0.0   \n",
       "3768                                   0.0                   0.0   \n",
       "\n",
       "      TechSupport_No internet service  TechSupport_Yes  PaperlessBilling_Yes  \\\n",
       "2200                              0.0              0.0                   0.0   \n",
       "4627                              0.0              1.0                   1.0   \n",
       "3225                              0.0              0.0                   1.0   \n",
       "2828                              1.0              0.0                   0.0   \n",
       "3768                              0.0              0.0                   1.0   \n",
       "\n",
       "      PaymentMethod_Credit card (automatic)  PaymentMethod_Electronic check  \\\n",
       "2200                                    0.0                             1.0   \n",
       "4627                                    1.0                             0.0   \n",
       "3225                                    0.0                             1.0   \n",
       "2828                                    0.0                             0.0   \n",
       "3768                                    1.0                             0.0   \n",
       "\n",
       "      PaymentMethod_Mailed check  Contract  \n",
       "2200                         0.0         2  \n",
       "4627                         0.0         2  \n",
       "3225                         0.0         1  \n",
       "2828                         1.0         3  \n",
       "3768                         0.0         1  "
      ]
     },
     "execution_count": 132,
     "metadata": {},
     "output_type": "execute_result"
    }
   ],
   "source": [
    "X_test_cat_rescaled = pd.concat([X_test_cat_OneEnc,X_test_cat_LabelEnc], axis=1)\n",
    "\n",
    "X_test_cat_rescaled.head()"
   ]
  },
  {
   "cell_type": "code",
   "execution_count": 133,
   "id": "28925610",
   "metadata": {},
   "outputs": [
    {
     "data": {
      "text/html": [
       "<div>\n",
       "<style scoped>\n",
       "    .dataframe tbody tr th:only-of-type {\n",
       "        vertical-align: middle;\n",
       "    }\n",
       "\n",
       "    .dataframe tbody tr th {\n",
       "        vertical-align: top;\n",
       "    }\n",
       "\n",
       "    .dataframe thead th {\n",
       "        text-align: right;\n",
       "    }\n",
       "</style>\n",
       "<table border=\"1\" class=\"dataframe\">\n",
       "  <thead>\n",
       "    <tr style=\"text-align: right;\">\n",
       "      <th></th>\n",
       "      <th>PhoneService_Yes</th>\n",
       "      <th>InternetService_Fiber optic</th>\n",
       "      <th>InternetService_No</th>\n",
       "      <th>OnlineSecurity_No internet service</th>\n",
       "      <th>OnlineSecurity_Yes</th>\n",
       "      <th>OnlineBackup_No internet service</th>\n",
       "      <th>OnlineBackup_Yes</th>\n",
       "      <th>DeviceProtection_No internet service</th>\n",
       "      <th>DeviceProtection_Yes</th>\n",
       "      <th>TechSupport_No internet service</th>\n",
       "      <th>TechSupport_Yes</th>\n",
       "      <th>PaperlessBilling_Yes</th>\n",
       "      <th>PaymentMethod_Credit card (automatic)</th>\n",
       "      <th>PaymentMethod_Electronic check</th>\n",
       "      <th>PaymentMethod_Mailed check</th>\n",
       "      <th>Contract</th>\n",
       "      <th>tenure</th>\n",
       "      <th>MonthlyCharges</th>\n",
       "      <th>TotalCharges</th>\n",
       "    </tr>\n",
       "  </thead>\n",
       "  <tbody>\n",
       "    <tr>\n",
       "      <th>2200</th>\n",
       "      <td>1.0</td>\n",
       "      <td>0.0</td>\n",
       "      <td>0.0</td>\n",
       "      <td>0.0</td>\n",
       "      <td>0.0</td>\n",
       "      <td>0.0</td>\n",
       "      <td>1.0</td>\n",
       "      <td>0.0</td>\n",
       "      <td>0.0</td>\n",
       "      <td>0.0</td>\n",
       "      <td>0.0</td>\n",
       "      <td>0.0</td>\n",
       "      <td>0.0</td>\n",
       "      <td>1.0</td>\n",
       "      <td>0.0</td>\n",
       "      <td>2</td>\n",
       "      <td>-0.544091</td>\n",
       "      <td>-0.217375</td>\n",
       "      <td>-0.544809</td>\n",
       "    </tr>\n",
       "    <tr>\n",
       "      <th>4627</th>\n",
       "      <td>1.0</td>\n",
       "      <td>1.0</td>\n",
       "      <td>0.0</td>\n",
       "      <td>0.0</td>\n",
       "      <td>1.0</td>\n",
       "      <td>0.0</td>\n",
       "      <td>1.0</td>\n",
       "      <td>0.0</td>\n",
       "      <td>1.0</td>\n",
       "      <td>0.0</td>\n",
       "      <td>1.0</td>\n",
       "      <td>1.0</td>\n",
       "      <td>1.0</td>\n",
       "      <td>0.0</td>\n",
       "      <td>0.0</td>\n",
       "      <td>2</td>\n",
       "      <td>1.127890</td>\n",
       "      <td>1.731076</td>\n",
       "      <td>2.115126</td>\n",
       "    </tr>\n",
       "    <tr>\n",
       "      <th>3225</th>\n",
       "      <td>1.0</td>\n",
       "      <td>0.0</td>\n",
       "      <td>0.0</td>\n",
       "      <td>0.0</td>\n",
       "      <td>1.0</td>\n",
       "      <td>0.0</td>\n",
       "      <td>0.0</td>\n",
       "      <td>0.0</td>\n",
       "      <td>0.0</td>\n",
       "      <td>0.0</td>\n",
       "      <td>0.0</td>\n",
       "      <td>1.0</td>\n",
       "      <td>0.0</td>\n",
       "      <td>1.0</td>\n",
       "      <td>0.0</td>\n",
       "      <td>1</td>\n",
       "      <td>-0.788772</td>\n",
       "      <td>0.241378</td>\n",
       "      <td>-0.598590</td>\n",
       "    </tr>\n",
       "    <tr>\n",
       "      <th>2828</th>\n",
       "      <td>1.0</td>\n",
       "      <td>0.0</td>\n",
       "      <td>1.0</td>\n",
       "      <td>1.0</td>\n",
       "      <td>0.0</td>\n",
       "      <td>1.0</td>\n",
       "      <td>0.0</td>\n",
       "      <td>1.0</td>\n",
       "      <td>0.0</td>\n",
       "      <td>1.0</td>\n",
       "      <td>0.0</td>\n",
       "      <td>0.0</td>\n",
       "      <td>0.0</td>\n",
       "      <td>0.0</td>\n",
       "      <td>1.0</td>\n",
       "      <td>3</td>\n",
       "      <td>-1.278132</td>\n",
       "      <td>-1.476862</td>\n",
       "      <td>-0.998804</td>\n",
       "    </tr>\n",
       "    <tr>\n",
       "      <th>3768</th>\n",
       "      <td>1.0</td>\n",
       "      <td>1.0</td>\n",
       "      <td>0.0</td>\n",
       "      <td>0.0</td>\n",
       "      <td>0.0</td>\n",
       "      <td>0.0</td>\n",
       "      <td>1.0</td>\n",
       "      <td>0.0</td>\n",
       "      <td>0.0</td>\n",
       "      <td>0.0</td>\n",
       "      <td>0.0</td>\n",
       "      <td>1.0</td>\n",
       "      <td>1.0</td>\n",
       "      <td>0.0</td>\n",
       "      <td>0.0</td>\n",
       "      <td>1</td>\n",
       "      <td>0.923990</td>\n",
       "      <td>0.434889</td>\n",
       "      <td>0.882188</td>\n",
       "    </tr>\n",
       "  </tbody>\n",
       "</table>\n",
       "</div>"
      ],
      "text/plain": [
       "      PhoneService_Yes  InternetService_Fiber optic  InternetService_No  \\\n",
       "2200               1.0                          0.0                 0.0   \n",
       "4627               1.0                          1.0                 0.0   \n",
       "3225               1.0                          0.0                 0.0   \n",
       "2828               1.0                          0.0                 1.0   \n",
       "3768               1.0                          1.0                 0.0   \n",
       "\n",
       "      OnlineSecurity_No internet service  OnlineSecurity_Yes  \\\n",
       "2200                                 0.0                 0.0   \n",
       "4627                                 0.0                 1.0   \n",
       "3225                                 0.0                 1.0   \n",
       "2828                                 1.0                 0.0   \n",
       "3768                                 0.0                 0.0   \n",
       "\n",
       "      OnlineBackup_No internet service  OnlineBackup_Yes  \\\n",
       "2200                               0.0               1.0   \n",
       "4627                               0.0               1.0   \n",
       "3225                               0.0               0.0   \n",
       "2828                               1.0               0.0   \n",
       "3768                               0.0               1.0   \n",
       "\n",
       "      DeviceProtection_No internet service  DeviceProtection_Yes  \\\n",
       "2200                                   0.0                   0.0   \n",
       "4627                                   0.0                   1.0   \n",
       "3225                                   0.0                   0.0   \n",
       "2828                                   1.0                   0.0   \n",
       "3768                                   0.0                   0.0   \n",
       "\n",
       "      TechSupport_No internet service  TechSupport_Yes  PaperlessBilling_Yes  \\\n",
       "2200                              0.0              0.0                   0.0   \n",
       "4627                              0.0              1.0                   1.0   \n",
       "3225                              0.0              0.0                   1.0   \n",
       "2828                              1.0              0.0                   0.0   \n",
       "3768                              0.0              0.0                   1.0   \n",
       "\n",
       "      PaymentMethod_Credit card (automatic)  PaymentMethod_Electronic check  \\\n",
       "2200                                    0.0                             1.0   \n",
       "4627                                    1.0                             0.0   \n",
       "3225                                    0.0                             1.0   \n",
       "2828                                    0.0                             0.0   \n",
       "3768                                    1.0                             0.0   \n",
       "\n",
       "      PaymentMethod_Mailed check  Contract    tenure  MonthlyCharges  \\\n",
       "2200                         0.0         2 -0.544091       -0.217375   \n",
       "4627                         0.0         2  1.127890        1.731076   \n",
       "3225                         0.0         1 -0.788772        0.241378   \n",
       "2828                         1.0         3 -1.278132       -1.476862   \n",
       "3768                         0.0         1  0.923990        0.434889   \n",
       "\n",
       "      TotalCharges  \n",
       "2200     -0.544809  \n",
       "4627      2.115126  \n",
       "3225     -0.598590  \n",
       "2828     -0.998804  \n",
       "3768      0.882188  "
      ]
     },
     "execution_count": 133,
     "metadata": {},
     "output_type": "execute_result"
    }
   ],
   "source": [
    "X_test_transformed = pd.concat([X_test_cat_rescaled,X_test_num_rescaled],axis = 1)\n",
    "\n",
    "X_test_transformed.head()"
   ]
  },
  {
   "cell_type": "markdown",
   "id": "83b09203",
   "metadata": {},
   "source": [
    "### Building the Model and Prediction"
   ]
  },
  {
   "cell_type": "markdown",
   "id": "e48baee2",
   "metadata": {},
   "source": [
    "##### Logistic Regression"
   ]
  },
  {
   "cell_type": "code",
   "execution_count": 134,
   "id": "00c947ea",
   "metadata": {},
   "outputs": [
    {
     "name": "stdout",
     "output_type": "stream",
     "text": [
      "acuracy: 0.7950028392958546\n",
      "80\n"
     ]
    }
   ],
   "source": [
    "from sklearn.linear_model import LogisticRegression\n",
    "classifier = LogisticRegression()\n",
    "\n",
    "classifier.fit(X_train_transformed,y_train)\n",
    "\n",
    "y_test_predicted = classifier.predict(X_test_transformed)\n",
    "\n",
    "from sklearn import metrics\n",
    "\n",
    "accuracy_LR = metrics.accuracy_score(y_test, y_test_predicted)\n",
    "print('acuracy:',accuracy_LR)\n",
    "\n",
    "accuracy_percentage_LR = accuracy_LR * 100\n",
    "print(\"%.0f\"%accuracy_percentage_LR)"
   ]
  },
  {
   "cell_type": "markdown",
   "id": "d5150178",
   "metadata": {},
   "source": [
    "#### KNN classifier"
   ]
  },
  {
   "cell_type": "code",
   "execution_count": 135,
   "id": "66fcfcbb",
   "metadata": {},
   "outputs": [
    {
     "name": "stdout",
     "output_type": "stream",
     "text": [
      "accuracy: 0.7791027825099376\n",
      "percentage: 78\n"
     ]
    }
   ],
   "source": [
    "from sklearn.neighbors import KNeighborsClassifier\n",
    "classifier = KNeighborsClassifier()\n",
    "classifier.fit(X_train_transformed, y_train)\n",
    "\n",
    "y_test_pred = classifier.predict(X_test_transformed)\n",
    "\n",
    "accuracy_KNN = metrics.accuracy_score(y_test, y_test_pred)\n",
    "print('accuracy:',accuracy_KNN)\n",
    "\n",
    "accuracy_percentage_KNN = accuracy_KNN * 100\n",
    "print('percentage:',\"%.0f\"%accuracy_percentage_KNN)"
   ]
  },
  {
   "cell_type": "markdown",
   "id": "38443fb3",
   "metadata": {},
   "source": [
    "#### Decision Tree Classifier"
   ]
  },
  {
   "cell_type": "code",
   "execution_count": 136,
   "id": "e2123eba",
   "metadata": {},
   "outputs": [
    {
     "name": "stdout",
     "output_type": "stream",
     "text": [
      "accuracy: 0.7262918796138558\n",
      "73\n"
     ]
    }
   ],
   "source": [
    "from sklearn.tree import DecisionTreeClassifier\n",
    "classifier = DecisionTreeClassifier()\n",
    "classifier.fit(X_train_transformed, y_train)\n",
    "\n",
    "y_test_predicted = classifier.predict(X_test_transformed)\n",
    "\n",
    "accuracy_DT = metrics.accuracy_score(y_test, y_test_predicted) \n",
    "print('accuracy:',accuracy_DT)\n",
    "\n",
    "accuracy_percentage_DT = accuracy_DT * 100\n",
    "print(\"%.0f\"%accuracy_percentage_DT)"
   ]
  },
  {
   "cell_type": "markdown",
   "id": "209d1488",
   "metadata": {},
   "source": [
    "#### Random Forest Classifier"
   ]
  },
  {
   "cell_type": "code",
   "execution_count": 137,
   "id": "cb6e40cb",
   "metadata": {},
   "outputs": [
    {
     "name": "stdout",
     "output_type": "stream",
     "text": [
      "accuracy: 0.7819420783645656\n",
      "78\n"
     ]
    }
   ],
   "source": [
    "from sklearn.ensemble import RandomForestClassifier\n",
    "classifier = RandomForestClassifier()\n",
    "classifier.fit(X_train_transformed, y_train)\n",
    "\n",
    "y_test_pred = classifier.predict(X_test_transformed)\n",
    "\n",
    "accuracy_RF = metrics.accuracy_score(y_test, y_test_pred)\n",
    "print('accuracy:',accuracy_RF)\n",
    "\n",
    "accuracy_percentage_RF = accuracy_RF * 100\n",
    "print(\"%.0f\"%accuracy_percentage_RF)"
   ]
  },
  {
   "cell_type": "markdown",
   "id": "04f6ef8d",
   "metadata": {},
   "source": [
    "#### SVC"
   ]
  },
  {
   "cell_type": "code",
   "execution_count": 138,
   "id": "9d6d34f3",
   "metadata": {},
   "outputs": [
    {
     "name": "stdout",
     "output_type": "stream",
     "text": [
      "accuracy: 0.7938671209540034\n",
      "79.39\n"
     ]
    }
   ],
   "source": [
    "from sklearn.svm import SVC\n",
    "classifier = SVC()\n",
    "classifier.fit(X_train_transformed, y_train)\n",
    "\n",
    "y_test_predicted = classifier.predict(X_test_transformed)\n",
    "\n",
    "accuracy_SVC = metrics.accuracy_score(y_test, y_test_predicted)\n",
    "print('accuracy:',accuracy_SVC)\n",
    "\n",
    "accuracy_percentage_SVC = accuracy_SVC * 100\n",
    "print(\"%.2f\"%accuracy_percentage_SVC)"
   ]
  },
  {
   "cell_type": "code",
   "execution_count": 139,
   "id": "8691b6fc",
   "metadata": {},
   "outputs": [
    {
     "data": {
      "image/png": "[encoded data removed]",
      "text/plain": [
       "<Figure size 432x288 with 1 Axes>"
      ]
     },
     "metadata": {},
     "output_type": "display_data"
    }
   ],
   "source": [
    "import matplotlib.pyplot as plt\n",
    "\n",
    "# Accuracy percentages\n",
    "accuracy_percentages = [accuracy_LR, accuracy_KNN, accuracy_DT, accuracy_RF, accuracy_SVC]\n",
    "\n",
    "# Algorithm labels\n",
    "labels = ['Logistic Regression', 'K-Nearest Neighbors', 'Decision Tree', 'Random Forest', 'SVC']\n",
    "\n",
    "# Create the pie chart\n",
    "plt.pie(accuracy_percentages, labels=labels, autopct='%.2f%%')\n",
    "\n",
    "# Add a title\n",
    "plt.title('Accuracy of Algorithms')\n",
    "\n",
    "# Display the pie chart\n",
    "plt.show()"
   ]
  },
  {
   "cell_type": "code",
   "execution_count": 140,
   "id": "23ae8254",
   "metadata": {},
   "outputs": [
    {
     "data": {
      "image/png": "[encoded data removed]",
      "text/plain": [
       "<Figure size 432x288 with 1 Axes>"
      ]
     },
     "metadata": {
      "needs_background": "light"
     },
     "output_type": "display_data"
    }
   ],
   "source": [
    "import matplotlib.pyplot as plt\n",
    "\n",
    "# List of model names\n",
    "models = ['Logistic Regression', 'K-Nearest Neighbors', 'Decision Tree', 'Random Forest', 'SVC']\n",
    "\n",
    "# List of accuracy values for each model\n",
    "accuracies = [accuracy_percentage_LR, accuracy_percentage_KNN, accuracy_percentage_DT, accuracy_percentage_RF, accuracy_percentage_SVC]\n",
    "\n",
    "# Plotting the bar chart\n",
    "plt.barh(models, accuracies)\n",
    "\n",
    "# Adding labels and title\n",
    "plt.ylabel('Models')\n",
    "plt.xlabel('Accuracy in %')\n",
    "plt.title('Accuracy of Different Models')\n",
    "\n",
    "# Display the plot\n",
    "plt.show() "
   ]
  },
  {
   "cell_type": "markdown",
   "id": "4d0f52c9",
   "metadata": {},
   "source": [
    "**Conclusion:**\n",
    "- Logistic Regression is the best model to predict the churn."
   ]
  },
  {
   "cell_type": "code",
   "execution_count": null,
   "id": "4e7be958",
   "metadata": {},
   "outputs": [],
   "source": []
  }
 ],
 "metadata": {
  "kernelspec": {
   "display_name": "Python 3 (ipykernel)",
   "language": "python",
   "name": "python3"
  },
  "language_info": {
   "codemirror_mode": {
    "name": "ipython",
    "version": 3
   },
   "file_extension": ".py",
   "mimetype": "text/x-python",
   "name": "python",
   "nbconvert_exporter": "python",
   "pygments_lexer": "ipython3",
   "version": "3.9.7"
  }
 },
 "nbformat": 4,
 "nbformat_minor": 5
}
